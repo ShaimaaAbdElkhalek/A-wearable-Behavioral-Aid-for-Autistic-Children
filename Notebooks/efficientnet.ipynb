{
  "cells": [
    {
      "cell_type": "markdown",
      "metadata": {
        "id": "AeV726r9DzCf"
      },
      "source": [
        "# **Efficientnet**\n",
        "\n"
      ]
    },
    {
      "cell_type": "code",
      "execution_count": null,
      "metadata": {
        "colab": {
          "base_uri": "https://localhost:8080/"
        },
        "id": "_MfMCcQzSyqo",
        "outputId": "f6f9fac2-718f-4bb4-e126-20e546d5ff7d"
      },
      "outputs": [
        {
          "output_type": "stream",
          "name": "stdout",
          "text": [
            "Mounted at /content/drive\n"
          ]
        }
      ],
      "source": [
        "from google.colab import drive\n",
        "drive.mount('/content/drive')"
      ]
    },
    {
      "cell_type": "code",
      "execution_count": 4,
      "metadata": {
        "id": "gytXAj3T10Oa",
        "colab": {
          "base_uri": "https://localhost:8080/"
        },
        "outputId": "bfa167e0-5433-451c-d797-374d3732c789"
      },
      "outputs": [
        {
          "output_type": "stream",
          "name": "stdout",
          "text": [
            "done\n"
          ]
        }
      ],
      "source": [
        "from zipfile import ZipFile\n",
        "File_name='/content/drive/MyDrive/Project/2500latest.zip'\n",
        "with ZipFile(File_name,'r') as zip:\n",
        "   zip.extractall()\n",
        "   print('done')"
      ]
    },
    {
      "cell_type": "code",
      "execution_count": 5,
      "metadata": {
        "id": "4j4gzJET10Ob",
        "colab": {
          "base_uri": "https://localhost:8080/"
        },
        "outputId": "9f923050-1dd5-49ce-91b4-b333a460959c"
      },
      "outputs": [
        {
          "output_type": "stream",
          "name": "stdout",
          "text": [
            "['surprise', 'fear', 'neutral', 'happy', 'disgust', 'sad', 'angry']\n"
          ]
        }
      ],
      "source": [
        "import numpy as np\n",
        "import seaborn as sns\n",
        "#from keras_preprocessing.image import load_img, img_to_array\n",
        "from tensorflow.keras.preprocessing.image import img_to_array,load_img\n",
        "import matplotlib.pyplot as plt\n",
        "import os\n",
        "print(os.listdir(\"/content/s2500latest/2500latest/\"))\n",
        "%matplotlib inline"
      ]
    },
    {
      "cell_type": "code",
      "execution_count": 5,
      "metadata": {
        "id": "gJtGae2p-vjP"
      },
      "outputs": [],
      "source": []
    },
    {
      "cell_type": "code",
      "execution_count": 6,
      "metadata": {
        "id": "exmn-5m_xeoj",
        "colab": {
          "base_uri": "https://localhost:8080/"
        },
        "outputId": "5a15bbcd-9be5-480c-c4c7-2d04d9d8dff1"
      },
      "outputs": [
        {
          "output_type": "stream",
          "name": "stdout",
          "text": [
            "Looking in indexes: https://pypi.org/simple, https://us-python.pkg.dev/colab-wheels/public/simple/\n",
            "Collecting split-folders\n",
            "  Downloading split_folders-0.5.1-py3-none-any.whl (8.4 kB)\n",
            "Installing collected packages: split-folders\n",
            "Successfully installed split-folders-0.5.1\n"
          ]
        },
        {
          "output_type": "stream",
          "name": "stderr",
          "text": [
            "Copying files: 17500 files [00:02, 7705.63 files/s]\n"
          ]
        }
      ],
      "source": [
        "\n",
        "!pip install split-folders\n",
        "import splitfolders \n",
        "splitfolders.ratio(\"/content/s2500latest/2500latest/\", output=\"/content/new2500/\", seed=1337, ratio=(.8, .1, .1), group_prefix=None) "
      ]
    },
    {
      "cell_type": "code",
      "execution_count": 7,
      "metadata": {
        "id": "mbL5uCwW8W3T",
        "colab": {
          "base_uri": "https://localhost:8080/"
        },
        "outputId": "868ff0fa-bf71-4dd0-847f-b727c86840f8"
      },
      "outputs": [
        {
          "output_type": "execute_result",
          "data": {
            "text/plain": [
              "7"
            ]
          },
          "metadata": {},
          "execution_count": 7
        }
      ],
      "source": [
        "train_dir = '/content/new2500/train/'\n",
        "test_dir = '/content/new2500/test/'\n",
        "val_dir='/content/new2500/val/'\n",
        "\n",
        "nb_classes = len(os.listdir('/content/new2500/train/'))\n",
        "nb_classes\n"
      ]
    },
    {
      "cell_type": "code",
      "execution_count": 7,
      "metadata": {
        "id": "szLOfM7w9JA9"
      },
      "outputs": [],
      "source": []
    },
    {
      "cell_type": "code",
      "execution_count": 7,
      "metadata": {
        "id": "HaL-TeIu9Yw8"
      },
      "outputs": [],
      "source": []
    },
    {
      "cell_type": "code",
      "execution_count": 7,
      "metadata": {
        "id": "XgKRxeTX8wzD"
      },
      "outputs": [],
      "source": []
    },
    {
      "cell_type": "code",
      "execution_count": 8,
      "metadata": {
        "id": "UUW5Mxq610Og"
      },
      "outputs": [],
      "source": [
        "pic_size = 224"
      ]
    },
    {
      "cell_type": "code",
      "execution_count": 9,
      "metadata": {
        "id": "weYn9bMB10Oh"
      },
      "outputs": [],
      "source": [
        "base_path = \"/content/new2500/\""
      ]
    },
    {
      "cell_type": "code",
      "execution_count": 10,
      "metadata": {
        "id": "kSYnyiS310Oh",
        "colab": {
          "base_uri": "https://localhost:8080/",
          "height": 35
        },
        "outputId": "665acb32-0b01-4c50-ec20-68af9363e2c3"
      },
      "outputs": [
        {
          "output_type": "display_data",
          "data": {
            "text/plain": [
              "<Figure size 864x1440 with 0 Axes>"
            ]
          },
          "metadata": {}
        }
      ],
      "source": [
        "\n",
        "plt.figure(0, figsize=(12,20))\n",
        "cpt = 0"
      ]
    },
    {
      "cell_type": "code",
      "execution_count": 11,
      "metadata": {
        "id": "JDPIfPAs10Oi",
        "colab": {
          "base_uri": "https://localhost:8080/",
          "height": 89
        },
        "outputId": "3e03c6b3-ed89-4249-fd0e-fd8fbe10603d"
      },
      "outputs": [
        {
          "output_type": "stream",
          "name": "stderr",
          "text": [
            "<ipython-input-11-f2af4440e899>:8: UserWarning: Tight layout not applied. tight_layout cannot make axes width small enough to accommodate all axes decorations\n",
            "  plt.tight_layout()\n"
          ]
        },
        {
          "output_type": "display_data",
          "data": {
            "text/plain": [
              "<Figure size 432x288 with 63 Axes>"
            ],
            "image/png": "[encoded data removed]"
          },
          "metadata": {
            "needs_background": "light"
          }
        }
      ],
      "source": [
        "for expression in os.listdir(base_path + \"train/\"):\n",
        "    for i in range(1,10):\n",
        "        cpt = cpt + 1\n",
        "        plt.subplot(432,288,cpt)\n",
        "        img = load_img(base_path + \"train/\" + expression + \"/\" +os.listdir(base_path + \"train/\" + expression)[i], target_size=(pic_size, pic_size))\n",
        "        plt.imshow(img, cmap=\"gray\")\n",
        "\n",
        "plt.tight_layout()\n",
        "plt.show()"
      ]
    },
    {
      "cell_type": "code",
      "execution_count": 12,
      "metadata": {
        "id": "ZVdivThS10Oj",
        "colab": {
          "base_uri": "https://localhost:8080/"
        },
        "outputId": "4d302c3d-580e-4256-ac50-d510afea9522"
      },
      "outputs": [
        {
          "output_type": "stream",
          "name": "stdout",
          "text": [
            "2000 surprise images\n",
            "2000 fear images\n",
            "2000 neutral images\n",
            "2000 happy images\n",
            "2000 disgust images\n",
            "2000 sad images\n",
            "2000 angry images\n"
          ]
        }
      ],
      "source": [
        "for expression in os.listdir(base_path + \"train\"):\n",
        "    print(str(len(os.listdir(base_path + \"train/\" + expression))) + \" \" + expression + \" images\")"
      ]
    },
    {
      "cell_type": "code",
      "execution_count": 13,
      "metadata": {
        "id": "39-95Yp510Oj"
      },
      "outputs": [],
      "source": [
        "from keras.preprocessing.image import ImageDataGenerator"
      ]
    },
    {
      "cell_type": "code",
      "execution_count": 14,
      "metadata": {
        "id": "ZiVI2eGj10Ok"
      },
      "outputs": [],
      "source": [
        "batch_size = 128"
      ]
    },
    {
      "cell_type": "code",
      "execution_count": 15,
      "metadata": {
        "id": "qvOAvLFO10Ok"
      },
      "outputs": [],
      "source": [
        "datagen_train = ImageDataGenerator()\n",
        "datagen_validation = ImageDataGenerator()\n",
        "datagen_test= ImageDataGenerator()"
      ]
    },
    {
      "cell_type": "code",
      "execution_count": 16,
      "metadata": {
        "id": "layiSQRd10Ol",
        "colab": {
          "base_uri": "https://localhost:8080/"
        },
        "outputId": "a31a38f4-3fcf-4fa4-d192-f0d5e708f7b7"
      },
      "outputs": [
        {
          "output_type": "stream",
          "name": "stdout",
          "text": [
            "Found 14000 images belonging to 7 classes.\n",
            "Found 1750 images belonging to 7 classes.\n",
            "Found 1750 images belonging to 7 classes.\n"
          ]
        }
      ],
      "source": [
        "Train_gen = datagen_train.flow_from_directory(base_path + \"train\",\n",
        "                                                    target_size=(pic_size,pic_size),\n",
        "                                                    color_mode=\"rgb\",\n",
        "                                                    batch_size=batch_size,\n",
        "                                                    class_mode='categorical',\n",
        "                                                    shuffle=True)\n",
        "Valid_gen = datagen_validation.flow_from_directory(base_path + \"val\",\n",
        "                                                    target_size=(pic_size,pic_size),\n",
        "                                                    color_mode=\"rgb\",\n",
        "                                                    batch_size=batch_size,\n",
        "                                                    class_mode='categorical',\n",
        "                                                    shuffle=False)\n",
        "test_generator = datagen_test.flow_from_directory(base_path + \"test\",\n",
        "                                                    target_size=(pic_size,pic_size),\n",
        "                                                    color_mode=\"rgb\",\n",
        "                                                    batch_size=batch_size,\n",
        "                                                    class_mode='categorical',\n",
        "                                                    shuffle=False)"
      ]
    },
    {
      "cell_type": "code",
      "execution_count": 16,
      "metadata": {
        "id": "b5h1wKInriOi"
      },
      "outputs": [],
      "source": []
    },
    {
      "cell_type": "code",
      "execution_count": 17,
      "metadata": {
        "id": "7uMaWNuIMxxD"
      },
      "outputs": [],
      "source": [
        "import tensorflow as tf\n",
        "from keras.layers import AveragePooling2D ,Dropout ,Dense , Conv2D , Input\n",
        "from keras.models import  Model"
      ]
    },
    {
      "cell_type": "code",
      "execution_count": 20,
      "metadata": {
        "id": "0wjHXQAGD2lv"
      },
      "outputs": [],
      "source": [
        "from keras.applications.densenet import DenseNet\n",
        "from keras.applications.resnet import ResNet50\n",
        "from keras.applications.vgg16 import VGG16\n",
        "from keras.applications.efficientnet import EfficientNetB0"
      ]
    },
    {
      "cell_type": "code",
      "execution_count": 21,
      "metadata": {
        "id": "9qGOSul2D2o9",
        "colab": {
          "base_uri": "https://localhost:8080/"
        },
        "outputId": "59124099-6990-4dc0-ce33-6825ae5fb6f9"
      },
      "outputs": [
        {
          "output_type": "stream",
          "name": "stdout",
          "text": [
            "Found 14000 images belonging to 7 classes.\n",
            "Found 1750 images belonging to 7 classes.\n",
            "Downloading data from https://storage.googleapis.com/keras-applications/efficientnetb0_notop.h5\n",
            "16705208/16705208 [==============================] - 1s 0us/step\n"
          ]
        }
      ],
      "source": [
        "from keras.backend import dropout\n",
        "from keras.layers.serialization import activation\n",
        "img_size=224\n",
        "Bs=128\n",
        "Train_gen = datagen_train.flow_from_directory(base_path + \"train\",\n",
        "                                                    target_size=(pic_size,pic_size),\n",
        "                                                    color_mode=\"rgb\",\n",
        "                                                    batch_size=batch_size,\n",
        "                                                    class_mode='categorical',\n",
        "                                                    shuffle=True)\n",
        "Valid_gen = datagen_validation.flow_from_directory(base_path + \"val\",\n",
        "                                                    target_size=(pic_size,pic_size),\n",
        "                                                    color_mode=\"rgb\",\n",
        "                                                    batch_size=batch_size,\n",
        "                                                    class_mode='categorical',\n",
        "                                                    shuffle=False)\n",
        "\n",
        "base_model= EfficientNetB0(include_top=False,weights='imagenet',input_shape=(img_size,img_size,3))\n",
        "x=base_model.output\n",
        "x=tf.keras.layers.GlobalAveragePooling2D()(x)\n",
        "x=Dense(512,activation='relu')(x)\n",
        "x=Dropout(rate=.5)(x)\n",
        "x=Dense(7   ,activation='softmax')(x)\n",
        " \n",
        "\n",
        "con_model=Model(inputs=base_model.input ,outputs=x)\n",
        "for layer in base_model.layers:\n",
        "  layer.trainable=False\n",
        "\n",
        "con_model.compile(loss='categorical_crossentropy',optimizer='adam',metrics=['accuracy'])"
      ]
    },
    {
      "cell_type": "code",
      "execution_count": 22,
      "metadata": {
        "colab": {
          "base_uri": "https://localhost:8080/"
        },
        "id": "StpC0bivD2rt",
        "outputId": "71e8d0b5-1cfd-43c6-965d-afd53a3b7ff6"
      },
      "outputs": [
        {
          "metadata": {
            "tags": null
          },
          "name": "stderr",
          "output_type": "stream",
          "text": [
            "<ipython-input-22-5551bde757ae>:2: UserWarning: `Model.fit_generator` is deprecated and will be removed in a future version. Please use `Model.fit`, which supports generators.\n",
            "  hist = con_model.fit_generator(\n"
          ]
        },
        {
          "output_type": "stream",
          "name": "stdout",
          "text": [
            "Epoch 1/50\n",
            "110/110 [==============================] - 56s 372ms/step - loss: 1.6338 - accuracy: 0.3739 - val_loss: 1.3699 - val_accuracy: 0.4994\n",
            "Epoch 2/50\n",
            "110/110 [==============================] - 34s 306ms/step - loss: 1.3841 - accuracy: 0.4916 - val_loss: 1.1751 - val_accuracy: 0.5931\n",
            "Epoch 3/50\n",
            "110/110 [==============================] - 33s 301ms/step - loss: 1.2522 - accuracy: 0.5504 - val_loss: 1.0535 - val_accuracy: 0.6600\n",
            "Epoch 4/50\n",
            "110/110 [==============================] - 33s 295ms/step - loss: 1.1426 - accuracy: 0.5887 - val_loss: 1.0178 - val_accuracy: 0.6560\n",
            "Epoch 5/50\n",
            "110/110 [==============================] - 33s 296ms/step - loss: 1.0529 - accuracy: 0.6345 - val_loss: 0.8675 - val_accuracy: 0.7257\n",
            "Epoch 6/50\n",
            "110/110 [==============================] - 33s 298ms/step - loss: 0.9775 - accuracy: 0.6630 - val_loss: 0.7813 - val_accuracy: 0.7651\n",
            "Epoch 7/50\n",
            "110/110 [==============================] - 32s 292ms/step - loss: 0.9167 - accuracy: 0.6870 - val_loss: 0.7166 - val_accuracy: 0.7806\n",
            "Epoch 8/50\n",
            "110/110 [==============================] - 33s 298ms/step - loss: 0.8307 - accuracy: 0.7194 - val_loss: 0.6639 - val_accuracy: 0.8120\n",
            "Epoch 9/50\n",
            "110/110 [==============================] - 33s 298ms/step - loss: 0.8052 - accuracy: 0.7311 - val_loss: 0.6377 - val_accuracy: 0.8143\n",
            "Epoch 10/50\n",
            "110/110 [==============================] - 32s 292ms/step - loss: 0.7631 - accuracy: 0.7439 - val_loss: 0.6044 - val_accuracy: 0.8263\n",
            "Epoch 11/50\n",
            "110/110 [==============================] - 32s 289ms/step - loss: 0.7373 - accuracy: 0.7559 - val_loss: 0.5428 - val_accuracy: 0.8526\n",
            "Epoch 12/50\n",
            "110/110 [==============================] - 33s 297ms/step - loss: 0.6989 - accuracy: 0.7693 - val_loss: 0.5214 - val_accuracy: 0.8543\n",
            "Epoch 13/50\n",
            "110/110 [==============================] - 32s 289ms/step - loss: 0.6626 - accuracy: 0.7814 - val_loss: 0.5165 - val_accuracy: 0.8560\n",
            "Epoch 14/50\n",
            "110/110 [==============================] - 32s 293ms/step - loss: 0.6477 - accuracy: 0.7846 - val_loss: 0.4789 - val_accuracy: 0.8709\n",
            "Epoch 15/50\n",
            "110/110 [==============================] - 34s 307ms/step - loss: 0.6235 - accuracy: 0.7941 - val_loss: 0.4804 - val_accuracy: 0.8714\n",
            "Epoch 16/50\n",
            "110/110 [==============================] - 32s 293ms/step - loss: 0.5978 - accuracy: 0.8026 - val_loss: 0.4604 - val_accuracy: 0.8646\n",
            "Epoch 17/50\n",
            "110/110 [==============================] - 33s 294ms/step - loss: 0.5783 - accuracy: 0.8113 - val_loss: 0.4521 - val_accuracy: 0.8749\n",
            "Epoch 18/50\n",
            "110/110 [==============================] - 33s 296ms/step - loss: 0.5682 - accuracy: 0.8118 - val_loss: 0.4559 - val_accuracy: 0.8709\n",
            "Epoch 19/50\n",
            "110/110 [==============================] - 32s 291ms/step - loss: 0.5472 - accuracy: 0.8231 - val_loss: 0.4304 - val_accuracy: 0.8800\n",
            "Epoch 20/50\n",
            "110/110 [==============================] - 34s 307ms/step - loss: 0.5238 - accuracy: 0.8274 - val_loss: 0.4302 - val_accuracy: 0.8766\n",
            "Epoch 21/50\n",
            "110/110 [==============================] - 32s 292ms/step - loss: 0.5099 - accuracy: 0.8334 - val_loss: 0.4008 - val_accuracy: 0.8823\n",
            "Epoch 22/50\n",
            "110/110 [==============================] - 32s 292ms/step - loss: 0.5043 - accuracy: 0.8345 - val_loss: 0.4067 - val_accuracy: 0.8817\n",
            "Epoch 23/50\n",
            "110/110 [==============================] - 32s 289ms/step - loss: 0.4810 - accuracy: 0.8439 - val_loss: 0.4020 - val_accuracy: 0.8851\n",
            "Epoch 24/50\n",
            "110/110 [==============================] - 33s 298ms/step - loss: 0.4783 - accuracy: 0.8440 - val_loss: 0.3882 - val_accuracy: 0.8851\n",
            "Epoch 25/50\n",
            "110/110 [==============================] - 32s 291ms/step - loss: 0.4613 - accuracy: 0.8453 - val_loss: 0.3928 - val_accuracy: 0.8829\n",
            "Epoch 26/50\n",
            "110/110 [==============================] - 33s 294ms/step - loss: 0.4589 - accuracy: 0.8491 - val_loss: 0.3781 - val_accuracy: 0.8909\n",
            "Epoch 27/50\n",
            "110/110 [==============================] - 32s 291ms/step - loss: 0.4414 - accuracy: 0.8551 - val_loss: 0.3828 - val_accuracy: 0.8869\n",
            "Epoch 28/50\n",
            "110/110 [==============================] - 33s 302ms/step - loss: 0.4421 - accuracy: 0.8517 - val_loss: 0.3870 - val_accuracy: 0.8926\n",
            "Epoch 29/50\n",
            "110/110 [==============================] - 32s 291ms/step - loss: 0.4320 - accuracy: 0.8587 - val_loss: 0.3746 - val_accuracy: 0.8886\n",
            "Epoch 30/50\n",
            "110/110 [==============================] - 32s 292ms/step - loss: 0.4302 - accuracy: 0.8583 - val_loss: 0.3793 - val_accuracy: 0.8846\n",
            "Epoch 31/50\n",
            "110/110 [==============================] - 33s 299ms/step - loss: 0.4207 - accuracy: 0.8631 - val_loss: 0.3662 - val_accuracy: 0.8954\n",
            "Epoch 32/50\n",
            "110/110 [==============================] - 32s 293ms/step - loss: 0.4045 - accuracy: 0.8675 - val_loss: 0.3666 - val_accuracy: 0.8954\n",
            "Epoch 33/50\n",
            "110/110 [==============================] - 32s 291ms/step - loss: 0.4144 - accuracy: 0.8626 - val_loss: 0.3558 - val_accuracy: 0.8971\n",
            "Epoch 34/50\n",
            "110/110 [==============================] - 33s 298ms/step - loss: 0.3854 - accuracy: 0.8719 - val_loss: 0.3686 - val_accuracy: 0.8880\n",
            "Epoch 35/50\n",
            "110/110 [==============================] - 32s 291ms/step - loss: 0.3930 - accuracy: 0.8699 - val_loss: 0.3699 - val_accuracy: 0.9029\n",
            "Epoch 36/50\n",
            "110/110 [==============================] - 34s 307ms/step - loss: 0.3924 - accuracy: 0.8696 - val_loss: 0.3651 - val_accuracy: 0.8983\n",
            "Epoch 37/50\n",
            "110/110 [==============================] - 32s 290ms/step - loss: 0.3665 - accuracy: 0.8797 - val_loss: 0.3881 - val_accuracy: 0.8840\n",
            "Epoch 38/50\n",
            "110/110 [==============================] - 32s 290ms/step - loss: 0.3752 - accuracy: 0.8741 - val_loss: 0.3711 - val_accuracy: 0.8943\n",
            "Epoch 39/50\n",
            "110/110 [==============================] - 33s 297ms/step - loss: 0.3593 - accuracy: 0.8802 - val_loss: 0.3584 - val_accuracy: 0.8977\n",
            "Epoch 40/50\n",
            "110/110 [==============================] - 32s 292ms/step - loss: 0.3579 - accuracy: 0.8796 - val_loss: 0.3663 - val_accuracy: 0.8989\n",
            "Epoch 41/50\n",
            "110/110 [==============================] - 33s 298ms/step - loss: 0.3532 - accuracy: 0.8819 - val_loss: 0.3702 - val_accuracy: 0.8977\n",
            "Epoch 42/50\n",
            "110/110 [==============================] - 32s 289ms/step - loss: 0.3525 - accuracy: 0.8824 - val_loss: 0.3644 - val_accuracy: 0.8971\n",
            "Epoch 43/50\n",
            "110/110 [==============================] - 32s 294ms/step - loss: 0.3421 - accuracy: 0.8882 - val_loss: 0.3470 - val_accuracy: 0.9057\n",
            "Epoch 44/50\n",
            "110/110 [==============================] - 33s 297ms/step - loss: 0.3537 - accuracy: 0.8820 - val_loss: 0.3782 - val_accuracy: 0.8994\n",
            "Epoch 45/50\n",
            "110/110 [==============================] - 32s 289ms/step - loss: 0.3472 - accuracy: 0.8846 - val_loss: 0.3726 - val_accuracy: 0.8954\n",
            "Epoch 46/50\n",
            "110/110 [==============================] - 33s 297ms/step - loss: 0.3438 - accuracy: 0.8846 - val_loss: 0.3574 - val_accuracy: 0.9046\n",
            "Epoch 47/50\n",
            "110/110 [==============================] - 32s 291ms/step - loss: 0.3352 - accuracy: 0.8875 - val_loss: 0.3519 - val_accuracy: 0.9000\n",
            "Epoch 48/50\n",
            "110/110 [==============================] - 34s 308ms/step - loss: 0.3348 - accuracy: 0.8879 - val_loss: 0.3571 - val_accuracy: 0.8960\n",
            "Epoch 49/50\n",
            "110/110 [==============================] - 32s 291ms/step - loss: 0.3298 - accuracy: 0.8894 - val_loss: 0.3602 - val_accuracy: 0.8989\n",
            "Epoch 50/50\n",
            "110/110 [==============================] - 34s 307ms/step - loss: 0.3242 - accuracy: 0.8888 - val_loss: 0.3635 - val_accuracy: 0.8943\n"
          ]
        }
      ],
      "source": [
        "epochs=50\n",
        "hist = con_model.fit_generator(\n",
        "    Train_gen,\n",
        "    epochs=epochs,\n",
        "    validation_data=Valid_gen\n",
        ")\n"
      ]
    },
    {
      "cell_type": "code",
      "execution_count": 23,
      "metadata": {
        "id": "kgaX_CRyMOep",
        "colab": {
          "base_uri": "https://localhost:8080/"
        },
        "outputId": "054e7138-562c-4007-898e-39aaff933f3f"
      },
      "outputs": [
        {
          "output_type": "stream",
          "name": "stdout",
          "text": [
            "14/14 [==============================] - 4s 234ms/step - loss: 0.3892 - accuracy: 0.8891\n"
          ]
        }
      ],
      "source": [
        "loss, accuracy = con_model.evaluate(test_generator)"
      ]
    },
    {
      "cell_type": "code",
      "execution_count": null,
      "metadata": {
        "id": "QWpkP0uioAEY"
      },
      "outputs": [],
      "source": [
        "'''''''model_json = con_model.to_json()''''\n",
        "with open(\"model.json\", \"w\") as json_file:\n",
        "    json_file.write(model_json)'''''"
      ]
    },
    {
      "cell_type": "code",
      "execution_count": 25,
      "metadata": {
        "id": "YTawDB5DGC3g",
        "colab": {
          "base_uri": "https://localhost:8080/",
          "height": 663
        },
        "outputId": "f56f5347-7280-4e40-ae2c-8fedf55c4eab"
      },
      "outputs": [
        {
          "output_type": "display_data",
          "data": {
            "text/plain": [
              "<Figure size 1440x720 with 2 Axes>"
            ],
            "image/png": "[encoded data removed]"
          },
          "metadata": {
            "needs_background": "light"
          }
        }
      ],
      "source": [
        "history=hist\n",
        "import matplotlib.pyplot as plt\n",
        "\n",
        "plt.figure(figsize=(20,10))\n",
        "plt.subplot(1, 2, 1)\n",
        "plt.suptitle('Optimizer : Adam', fontsize=10)\n",
        "plt.ylabel('Loss', fontsize=16)\n",
        "plt.plot(history.history['loss'], label='Training Loss')\n",
        "plt.plot(history.history['val_loss'], label='Validation Loss')\n",
        "plt.legend(loc='upper right')\n",
        "\n",
        "plt.subplot(1, 2, 2)\n",
        "plt.ylabel('Accuracy', fontsize=16)\n",
        "plt.plot(history.history['accuracy'], label='Training Accuracy')\n",
        "plt.plot(history.history['val_accuracy'], label='Validation Accuracy')\n",
        "plt.legend(loc='lower right')\n",
        "plt.show()"
      ]
    },
    {
      "cell_type": "code",
      "execution_count": 26,
      "metadata": {
        "id": "n3PYQl8EGC3g",
        "colab": {
          "base_uri": "https://localhost:8080/",
          "height": 802
        },
        "outputId": "bb149e6d-7983-467e-b196-8e4ea1343c0b"
      },
      "outputs": [
        {
          "output_type": "stream",
          "name": "stderr",
          "text": [
            "<ipython-input-26-c4935754a0a9>:1: UserWarning: `Model.predict_generator` is deprecated and will be removed in a future version. Please use `Model.predict`, which supports generators.\n",
            "  predictions = con_model.predict_generator(generator=test_generator)\n"
          ]
        },
        {
          "output_type": "display_data",
          "data": {
            "text/plain": [
              "<Figure size 432x288 with 0 Axes>"
            ]
          },
          "metadata": {}
        },
        {
          "output_type": "display_data",
          "data": {
            "text/plain": [
              "<Figure size 720x720 with 2 Axes>"
            ],
            "image/png": "[encoded data removed]"
          },
          "metadata": {
            "needs_background": "light"
          }
        }
      ],
      "source": [
        "predictions = con_model.predict_generator(generator=test_generator)\n",
        "y_pred = [np.argmax(probas) for probas in predictions]\n",
        "y_test = test_generator.classes\n",
        "class_names = test_generator.class_indices.keys()\n",
        "\n",
        "from sklearn.metrics import confusion_matrix\n",
        "import itertools\n",
        "\n",
        "def plot_confusion_matrix(cm, classes, title='Confusion matrix', cmap=plt.cm.Blues):\n",
        "    cm = cm.astype('float') / cm.sum(axis=1)[:, np.newaxis]\n",
        "    plt.figure(figsize=(10,10))\n",
        "    plt.imshow(cm, interpolation='nearest', cmap=cmap)\n",
        "    plt.title(title)\n",
        "    plt.colorbar()\n",
        "    tick_marks = np.arange(len(classes))\n",
        "    plt.xticks(tick_marks, classes, rotation=45) \n",
        "    plt.yticks(tick_marks, classes)\n",
        "\n",
        "    fmt = '.2f'\n",
        "    thresh = cm.max() / 2.\n",
        "    for i, j in itertools.product(range(cm.shape[0]), range(cm.shape[1])):\n",
        "        plt.text(j, i, format(cm[i, j], fmt),\n",
        "                 horizontalalignment=\"center\",\n",
        "                 color=\"white\" if cm[i, j] > thresh else \"black\")\n",
        "\n",
        "    plt.ylabel('True label')\n",
        "    plt.xlabel('Predicted label')\n",
        "    plt.tight_layout()\n",
        "    \n",
        "# compute confusion matrix\n",
        "cnf_matrix = confusion_matrix(y_test, y_pred)\n",
        "np.set_printoptions(precision=2)\n",
        "\n",
        "# plot normalized confusion matrix\n",
        "plt.figure()\n",
        "plot_confusion_matrix(cnf_matrix, classes=class_names, title='Normalized confusion matrix')\n",
        "plt.show()"
      ]
    },
    {
      "cell_type": "code",
      "execution_count": 27,
      "metadata": {
        "id": "skUSdWkWHeoo",
        "colab": {
          "base_uri": "https://localhost:8080/"
        },
        "outputId": "a11cf88a-eb51-4897-df9c-da5e82a95873"
      },
      "outputs": [
        {
          "output_type": "execute_result",
          "data": {
            "text/plain": [
              "{'angry': 0,\n",
              " 'disgust': 1,\n",
              " 'fear': 2,\n",
              " 'happy': 3,\n",
              " 'neutral': 4,\n",
              " 'sad': 5,\n",
              " 'surprise': 6}"
            ]
          },
          "metadata": {},
          "execution_count": 27
        }
      ],
      "source": [
        "Train_gen.class_indices"
      ]
    },
    {
      "cell_type": "code",
      "execution_count": 28,
      "metadata": {
        "id": "E_e9dpl3BNxE"
      },
      "outputs": [],
      "source": [
        "labels = ['angry','disgust','fear','happy','neutral','sad','surprise']"
      ]
    },
    {
      "cell_type": "code",
      "execution_count": 29,
      "metadata": {
        "id": "rqMafGA2Nsde",
        "colab": {
          "base_uri": "https://localhost:8080/"
        },
        "outputId": "dd5c3da2-444a-4e8c-d225-a4505afa6bdf"
      },
      "outputs": [
        {
          "output_type": "stream",
          "name": "stdout",
          "text": [
            "[0 1 2 3 4 5 6]\n"
          ]
        }
      ],
      "source": [
        "objects = ('angry', 'disgust', 'fear', 'happy', 'sad', 'surprise', 'neutral')\n",
        "y_pos = np.arange(len(objects))\n",
        "print(y_pos)"
      ]
    },
    {
      "cell_type": "code",
      "execution_count": 30,
      "metadata": {
        "id": "P4aKJUhBNvxr"
      },
      "outputs": [],
      "source": [
        "def emotion_analysis(emotions):\n",
        "    objects = ['angry', 'disgust', 'fear', 'happy', 'sad', 'surprise', 'neutral']\n",
        "    y_pos = np.arange(len(objects))\n",
        "    plt.bar(y_pos, emotions, align='center', alpha=0.9)\n",
        "    plt.tick_params(axis='x', which='both', pad=10,width=4,length=10)\n",
        "    plt.xticks(y_pos, objects)\n",
        "    plt.ylabel('percentage')\n",
        "    plt.title('emotion')\n",
        "plt.show()"
      ]
    },
    {
      "cell_type": "code",
      "execution_count": 31,
      "metadata": {
        "id": "XSWGkzXKYrYh",
        "colab": {
          "base_uri": "https://localhost:8080/",
          "height": 175
        },
        "outputId": "de2125ae-023f-4182-d13e-7f1780ea3260"
      },
      "outputs": [
        {
          "output_type": "execute_result",
          "data": {
            "text/plain": [
              "                    0           1        2           3           4  \\\n",
              "precision    0.925110    0.909449    0.856    0.894118    0.798561   \n",
              "recall       0.840000    0.924000    0.856    0.912000    0.888000   \n",
              "f1-score     0.880503    0.916667    0.856    0.902970    0.840909   \n",
              "support    250.000000  250.000000  250.000  250.000000  250.000000   \n",
              "\n",
              "                    5           6  accuracy    macro avg  weighted avg  \n",
              "precision    0.898374    0.958333  0.889143     0.891421      0.891421  \n",
              "recall       0.884000    0.920000  0.889143     0.889143      0.889143  \n",
              "f1-score     0.891129    0.938776  0.889143     0.889565      0.889565  \n",
              "support    250.000000  250.000000  0.889143  1750.000000   1750.000000  "
            ],
            "text/html": [
              "\n",
              "  <div id=\"df-5843f8a6-3dbf-4ea0-ad11-dc9cf91ebc16\">\n",
              "    <div class=\"colab-df-container\">\n",
              "      <div>\n",
              "<style scoped>\n",
              "    .dataframe tbody tr th:only-of-type {\n",
              "        vertical-align: middle;\n",
              "    }\n",
              "\n",
              "    .dataframe tbody tr th {\n",
              "        vertical-align: top;\n",
              "    }\n",
              "\n",
              "    .dataframe thead th {\n",
              "        text-align: right;\n",
              "    }\n",
              "</style>\n",
              "<table border=\"1\" class=\"dataframe\">\n",
              "  <thead>\n",
              "    <tr style=\"text-align: right;\">\n",
              "      <th></th>\n",
              "      <th>0</th>\n",
              "      <th>1</th>\n",
              "      <th>2</th>\n",
              "      <th>3</th>\n",
              "      <th>4</th>\n",
              "      <th>5</th>\n",
              "      <th>6</th>\n",
              "      <th>accuracy</th>\n",
              "      <th>macro avg</th>\n",
              "      <th>weighted avg</th>\n",
              "    </tr>\n",
              "  </thead>\n",
              "  <tbody>\n",
              "    <tr>\n",
              "      <th>precision</th>\n",
              "      <td>0.925110</td>\n",
              "      <td>0.909449</td>\n",
              "      <td>0.856</td>\n",
              "      <td>0.894118</td>\n",
              "      <td>0.798561</td>\n",
              "      <td>0.898374</td>\n",
              "      <td>0.958333</td>\n",
              "      <td>0.889143</td>\n",
              "      <td>0.891421</td>\n",
              "      <td>0.891421</td>\n",
              "    </tr>\n",
              "    <tr>\n",
              "      <th>recall</th>\n",
              "      <td>0.840000</td>\n",
              "      <td>0.924000</td>\n",
              "      <td>0.856</td>\n",
              "      <td>0.912000</td>\n",
              "      <td>0.888000</td>\n",
              "      <td>0.884000</td>\n",
              "      <td>0.920000</td>\n",
              "      <td>0.889143</td>\n",
              "      <td>0.889143</td>\n",
              "      <td>0.889143</td>\n",
              "    </tr>\n",
              "    <tr>\n",
              "      <th>f1-score</th>\n",
              "      <td>0.880503</td>\n",
              "      <td>0.916667</td>\n",
              "      <td>0.856</td>\n",
              "      <td>0.902970</td>\n",
              "      <td>0.840909</td>\n",
              "      <td>0.891129</td>\n",
              "      <td>0.938776</td>\n",
              "      <td>0.889143</td>\n",
              "      <td>0.889565</td>\n",
              "      <td>0.889565</td>\n",
              "    </tr>\n",
              "    <tr>\n",
              "      <th>support</th>\n",
              "      <td>250.000000</td>\n",
              "      <td>250.000000</td>\n",
              "      <td>250.000</td>\n",
              "      <td>250.000000</td>\n",
              "      <td>250.000000</td>\n",
              "      <td>250.000000</td>\n",
              "      <td>250.000000</td>\n",
              "      <td>0.889143</td>\n",
              "      <td>1750.000000</td>\n",
              "      <td>1750.000000</td>\n",
              "    </tr>\n",
              "  </tbody>\n",
              "</table>\n",
              "</div>\n",
              "      <button class=\"colab-df-convert\" onclick=\"convertToInteractive('df-5843f8a6-3dbf-4ea0-ad11-dc9cf91ebc16')\"\n",
              "              title=\"Convert this dataframe to an interactive table.\"\n",
              "              style=\"display:none;\">\n",
              "        \n",
              "  <svg xmlns=\"http://www.w3.org/2000/svg\" height=\"24px\"viewBox=\"0 0 24 24\"\n",
              "       width=\"24px\">\n",
              "    <path d=\"M0 0h24v24H0V0z\" fill=\"none\"/>\n",
              "    <path d=\"M18.56 5.44l.94 2.06.94-2.06 2.06-.94-2.06-.94-.94-2.06-.94 2.06-2.06.94zm-11 1L8.5 8.5l.94-2.06 2.06-.94-2.06-.94L8.5 2.5l-.94 2.06-2.06.94zm10 10l.94 2.06.94-2.06 2.06-.94-2.06-.94-.94-2.06-.94 2.06-2.06.94z\"/><path d=\"M17.41 7.96l-1.37-1.37c-.4-.4-.92-.59-1.43-.59-.52 0-1.04.2-1.43.59L10.3 9.45l-7.72 7.72c-.78.78-.78 2.05 0 2.83L4 21.41c.39.39.9.59 1.41.59.51 0 1.02-.2 1.41-.59l7.78-7.78 2.81-2.81c.8-.78.8-2.07 0-2.86zM5.41 20L4 18.59l7.72-7.72 1.47 1.35L5.41 20z\"/>\n",
              "  </svg>\n",
              "      </button>\n",
              "      \n",
              "  <style>\n",
              "    .colab-df-container {\n",
              "      display:flex;\n",
              "      flex-wrap:wrap;\n",
              "      gap: 12px;\n",
              "    }\n",
              "\n",
              "    .colab-df-convert {\n",
              "      background-color: #E8F0FE;\n",
              "      border: none;\n",
              "      border-radius: 50%;\n",
              "      cursor: pointer;\n",
              "      display: none;\n",
              "      fill: #1967D2;\n",
              "      height: 32px;\n",
              "      padding: 0 0 0 0;\n",
              "      width: 32px;\n",
              "    }\n",
              "\n",
              "    .colab-df-convert:hover {\n",
              "      background-color: #E2EBFA;\n",
              "      box-shadow: 0px 1px 2px rgba(60, 64, 67, 0.3), 0px 1px 3px 1px rgba(60, 64, 67, 0.15);\n",
              "      fill: #174EA6;\n",
              "    }\n",
              "\n",
              "    [theme=dark] .colab-df-convert {\n",
              "      background-color: #3B4455;\n",
              "      fill: #D2E3FC;\n",
              "    }\n",
              "\n",
              "    [theme=dark] .colab-df-convert:hover {\n",
              "      background-color: #434B5C;\n",
              "      box-shadow: 0px 1px 3px 1px rgba(0, 0, 0, 0.15);\n",
              "      filter: drop-shadow(0px 1px 2px rgba(0, 0, 0, 0.3));\n",
              "      fill: #FFFFFF;\n",
              "    }\n",
              "  </style>\n",
              "\n",
              "      <script>\n",
              "        const buttonEl =\n",
              "          document.querySelector('#df-5843f8a6-3dbf-4ea0-ad11-dc9cf91ebc16 button.colab-df-convert');\n",
              "        buttonEl.style.display =\n",
              "          google.colab.kernel.accessAllowed ? 'block' : 'none';\n",
              "\n",
              "        async function convertToInteractive(key) {\n",
              "          const element = document.querySelector('#df-5843f8a6-3dbf-4ea0-ad11-dc9cf91ebc16');\n",
              "          const dataTable =\n",
              "            await google.colab.kernel.invokeFunction('convertToInteractive',\n",
              "                                                     [key], {});\n",
              "          if (!dataTable) return;\n",
              "\n",
              "          const docLinkHtml = 'Like what you see? Visit the ' +\n",
              "            '<a target=\"_blank\" href=https://colab.research.google.com/notebooks/data_table.ipynb>data table notebook</a>'\n",
              "            + ' to learn more about interactive tables.';\n",
              "          element.innerHTML = '';\n",
              "          dataTable['output_type'] = 'display_data';\n",
              "          await google.colab.output.renderOutput(dataTable, element);\n",
              "          const docLink = document.createElement('div');\n",
              "          docLink.innerHTML = docLinkHtml;\n",
              "          element.appendChild(docLink);\n",
              "        }\n",
              "      </script>\n",
              "    </div>\n",
              "  </div>\n",
              "  "
            ]
          },
          "metadata": {},
          "execution_count": 31
        }
      ],
      "source": [
        "import pandas as pd\n",
        "from sklearn.metrics import classification_report\n",
        "\n",
        "report_dict = classification_report(y_test, y_pred, output_dict=True)\n",
        "pd.DataFrame(report_dict)"
      ]
    },
    {
      "cell_type": "code",
      "execution_count": 31,
      "metadata": {
        "id": "1SQJf_4wXYju"
      },
      "outputs": [],
      "source": []
    }
  ],
  "metadata": {
    "accelerator": "GPU",
    "colab": {
      "provenance": []
    },
    "gpuClass": "standard",
    "kernelspec": {
      "display_name": "Python 3",
      "name": "python3"
    },
    "language_info": {
      "name": "python"
    }
  },
  "nbformat": 4,
  "nbformat_minor": 0
}