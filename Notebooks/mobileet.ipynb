{
  "nbformat": 4,
  "nbformat_minor": 0,
  "metadata": {
    "colab": {
      "provenance": []
    },
    "kernelspec": {
      "name": "python3",
      "display_name": "Python 3"
    },
    "language_info": {
      "name": "python"
    },
    "accelerator": "GPU",
    "gpuClass": "standard"
  },
  "cells": [
    {
      "cell_type": "code",
      "execution_count": 1,
      "metadata": {
        "id": "-zXGeO0q3-Zj"
      },
      "outputs": [],
      "source": []
    },
    {
      "cell_type": "code",
      "execution_count": 1,
      "metadata": {
        "colab": {
          "base_uri": "https://localhost:8080/"
        },
        "id": "_MfMCcQzSyqo",
        "outputId": "6548359b-3fbd-4b69-99aa-77ec4c437004"
      },
      "outputs": [
        {
          "output_type": "stream",
          "name": "stdout",
          "text": [
            "Mounted at /content/drive\n"
          ]
        }
      ],
      "source": [
        "from google.colab import drive\n",
        "drive.mount('/content/drive')"
      ]
    },
    {
      "cell_type": "code",
      "execution_count": 2,
      "metadata": {
        "colab": {
          "base_uri": "https://localhost:8080/"
        },
        "id": "gytXAj3T10Oa",
        "outputId": "b3593d25-cebf-4255-908e-a092a88a657a"
      },
      "outputs": [
        {
          "output_type": "stream",
          "name": "stdout",
          "text": [
            "done\n"
          ]
        }
      ],
      "source": [
        "from zipfile import ZipFile\n",
        "File_name='/content/drive/MyDrive/Project/2500latest.zip'\n",
        "with ZipFile(File_name,'r') as zip:\n",
        "   zip.extractall()\n",
        "   print('done')"
      ]
    },
    {
      "cell_type": "code",
      "execution_count": 6,
      "metadata": {
        "colab": {
          "base_uri": "https://localhost:8080/"
        },
        "id": "4j4gzJET10Ob",
        "outputId": "a0898199-886c-40f2-ce7f-74aca050f01b"
      },
      "outputs": [
        {
          "output_type": "stream",
          "name": "stdout",
          "text": [
            "['surprise', 'fear', 'neutral', 'happy', 'disgust', 'sad', 'angry']\n"
          ]
        }
      ],
      "source": [
        "import numpy as np\n",
        "import seaborn as sns\n",
        "#from keras_preprocessing.image import load_img, img_to_array\n",
        "from tensorflow.keras.preprocessing.image import img_to_array,load_img\n",
        "import matplotlib.pyplot as plt\n",
        "import os\n",
        "print(os.listdir(\"/content/s2500latest/2500latest/\"))\n",
        "%matplotlib inline"
      ]
    },
    {
      "cell_type": "code",
      "execution_count": 6,
      "metadata": {
        "id": "gJtGae2p-vjP"
      },
      "outputs": [],
      "source": []
    },
    {
      "cell_type": "code",
      "execution_count": 7,
      "metadata": {
        "colab": {
          "base_uri": "https://localhost:8080/"
        },
        "id": "exmn-5m_xeoj",
        "outputId": "94fded66-28a0-40a9-d6ed-0dc34348e1fc"
      },
      "outputs": [
        {
          "output_type": "stream",
          "name": "stdout",
          "text": [
            "Looking in indexes: https://pypi.org/simple, https://us-python.pkg.dev/colab-wheels/public/simple/\n",
            "Requirement already satisfied: split-folders in /usr/local/lib/python3.8/dist-packages (0.5.1)\n"
          ]
        },
        {
          "output_type": "stream",
          "name": "stderr",
          "text": [
            "Copying files: 17500 files [00:03, 5161.14 files/s]\n"
          ]
        }
      ],
      "source": [
        "\n",
        "!pip install split-folders\n",
        "import splitfolders \n",
        "splitfolders.ratio(\"/content/s2500latest/2500latest/\", output=\"/content/new2500/\", seed=1337, ratio=(.8, .1, .1), group_prefix=None) "
      ]
    },
    {
      "cell_type": "code",
      "execution_count": 8,
      "metadata": {
        "colab": {
          "base_uri": "https://localhost:8080/"
        },
        "id": "mbL5uCwW8W3T",
        "outputId": "bab4504e-182d-42c4-bfdc-005e260276c6"
      },
      "outputs": [
        {
          "output_type": "execute_result",
          "data": {
            "text/plain": [
              "7"
            ]
          },
          "metadata": {},
          "execution_count": 8
        }
      ],
      "source": [
        "train_dir = '/content/new2500/train/'\n",
        "test_dir = '/content/new2500/test/'\n",
        "val_dir='/content/new2500/val/'\n",
        "\n",
        "nb_classes = len(os.listdir('/content/new2500/train/'))\n",
        "nb_classes\n"
      ]
    },
    {
      "cell_type": "code",
      "execution_count": 8,
      "metadata": {
        "id": "szLOfM7w9JA9"
      },
      "outputs": [],
      "source": []
    },
    {
      "cell_type": "code",
      "execution_count": 8,
      "metadata": {
        "id": "HaL-TeIu9Yw8"
      },
      "outputs": [],
      "source": []
    },
    {
      "cell_type": "code",
      "execution_count": 8,
      "metadata": {
        "id": "XgKRxeTX8wzD"
      },
      "outputs": [],
      "source": []
    },
    {
      "cell_type": "code",
      "execution_count": 9,
      "metadata": {
        "id": "UUW5Mxq610Og"
      },
      "outputs": [],
      "source": [
        "pic_size = 224"
      ]
    },
    {
      "cell_type": "code",
      "execution_count": 10,
      "metadata": {
        "id": "weYn9bMB10Oh"
      },
      "outputs": [],
      "source": [
        "base_path = \"/content/new2500/\""
      ]
    },
    {
      "cell_type": "code",
      "execution_count": 11,
      "metadata": {
        "colab": {
          "base_uri": "https://localhost:8080/",
          "height": 35
        },
        "id": "kSYnyiS310Oh",
        "outputId": "24550a31-ec33-46e7-8ebc-5dcce5394071"
      },
      "outputs": [
        {
          "output_type": "display_data",
          "data": {
            "text/plain": [
              "<Figure size 864x1440 with 0 Axes>"
            ]
          },
          "metadata": {}
        }
      ],
      "source": [
        "\n",
        "plt.figure(0, figsize=(12,20))\n",
        "cpt = 0"
      ]
    },
    {
      "cell_type": "code",
      "execution_count": 12,
      "metadata": {
        "colab": {
          "base_uri": "https://localhost:8080/",
          "height": 89
        },
        "id": "JDPIfPAs10Oi",
        "outputId": "41ace426-5341-4de4-b682-c76d24ddfcf0"
      },
      "outputs": [
        {
          "output_type": "stream",
          "name": "stderr",
          "text": [
            "<ipython-input-12-f2af4440e899>:8: UserWarning: Tight layout not applied. tight_layout cannot make axes width small enough to accommodate all axes decorations\n",
            "  plt.tight_layout()\n"
          ]
        },
        {
          "output_type": "display_data",
          "data": {
            "text/plain": [
              "<Figure size 432x288 with 63 Axes>"
            ],
            "image/png": "[encoded data removed]"
          },
          "metadata": {
            "needs_background": "light"
          }
        }
      ],
      "source": [
        "for expression in os.listdir(base_path + \"train/\"):\n",
        "    for i in range(1,10):\n",
        "        cpt = cpt + 1\n",
        "        plt.subplot(432,288,cpt)\n",
        "        img = load_img(base_path + \"train/\" + expression + \"/\" +os.listdir(base_path + \"train/\" + expression)[i], target_size=(pic_size, pic_size))\n",
        "        plt.imshow(img, cmap=\"gray\")\n",
        "\n",
        "plt.tight_layout()\n",
        "plt.show()"
      ]
    },
    {
      "cell_type": "code",
      "execution_count": 13,
      "metadata": {
        "colab": {
          "base_uri": "https://localhost:8080/"
        },
        "id": "ZVdivThS10Oj",
        "outputId": "bf34dbc7-4a44-4c60-e55b-3cc79080081f"
      },
      "outputs": [
        {
          "output_type": "stream",
          "name": "stdout",
          "text": [
            "2000 surprise images\n",
            "2000 fear images\n",
            "2000 neutral images\n",
            "2000 happy images\n",
            "2000 disgust images\n",
            "2000 sad images\n",
            "2000 angry images\n"
          ]
        }
      ],
      "source": [
        "for expression in os.listdir(base_path + \"train\"):\n",
        "    print(str(len(os.listdir(base_path + \"train/\" + expression))) + \" \" + expression + \" images\")"
      ]
    },
    {
      "cell_type": "code",
      "execution_count": 14,
      "metadata": {
        "id": "39-95Yp510Oj"
      },
      "outputs": [],
      "source": [
        "from keras.preprocessing.image import ImageDataGenerator"
      ]
    },
    {
      "cell_type": "code",
      "execution_count": 15,
      "metadata": {
        "id": "ZiVI2eGj10Ok"
      },
      "outputs": [],
      "source": [
        "batch_size = 128"
      ]
    },
    {
      "cell_type": "code",
      "execution_count": 16,
      "metadata": {
        "id": "qvOAvLFO10Ok"
      },
      "outputs": [],
      "source": [
        "datagen_train = ImageDataGenerator()\n",
        "datagen_validation = ImageDataGenerator()\n",
        "datagen_test= ImageDataGenerator()"
      ]
    },
    {
      "cell_type": "code",
      "execution_count": 17,
      "metadata": {
        "colab": {
          "base_uri": "https://localhost:8080/"
        },
        "id": "layiSQRd10Ol",
        "outputId": "013381ee-5654-4af8-b373-53958907bf4f"
      },
      "outputs": [
        {
          "output_type": "stream",
          "name": "stdout",
          "text": [
            "Found 14000 images belonging to 7 classes.\n",
            "Found 1750 images belonging to 7 classes.\n",
            "Found 1750 images belonging to 7 classes.\n"
          ]
        }
      ],
      "source": [
        "Train_gen = datagen_train.flow_from_directory(base_path + \"train\",\n",
        "                                                    target_size=(pic_size,pic_size),\n",
        "                                                    color_mode=\"rgb\",\n",
        "                                                    batch_size=batch_size,\n",
        "                                                    class_mode='categorical',\n",
        "                                                    shuffle=True)\n",
        "Valid_gen = datagen_validation.flow_from_directory(base_path + \"val\",\n",
        "                                                    target_size=(pic_size,pic_size),\n",
        "                                                    color_mode=\"rgb\",\n",
        "                                                    batch_size=batch_size,\n",
        "                                                    class_mode='categorical',\n",
        "                                                    shuffle=False)\n",
        "test_generator = datagen_test.flow_from_directory(base_path + \"test\",\n",
        "                                                    target_size=(pic_size,pic_size),\n",
        "                                                    color_mode=\"rgb\",\n",
        "                                                    batch_size=batch_size,\n",
        "                                                    class_mode='categorical',\n",
        "                                                    shuffle=False)"
      ]
    },
    {
      "cell_type": "code",
      "source": [],
      "metadata": {
        "id": "b5h1wKInriOi"
      },
      "execution_count": 17,
      "outputs": []
    },
    {
      "cell_type": "markdown",
      "source": [
        "# **Efficientnet**\n"
      ],
      "metadata": {
        "id": "AeV726r9DzCf"
      }
    },
    {
      "cell_type": "code",
      "source": [
        "import tensorflow as tf\n",
        "from keras.layers import AveragePooling2D ,Dropout ,Dense , Conv2D , Input\n",
        "from keras.models import  Model"
      ],
      "metadata": {
        "id": "7uMaWNuIMxxD"
      },
      "execution_count": 18,
      "outputs": []
    },
    {
      "cell_type": "code",
      "source": [
        "from keras.applications.densenet import DenseNet\n",
        "from keras.applications.resnet import ResNet50\n",
        "from keras.applications.vgg16 import VGG16\n",
        "\n",
        "from keras.applications.efficientnet import EfficientNetB0\n",
        "\n",
        "from keras.applications.mobilenet_v2 import MobileNetV2"
      ],
      "metadata": {
        "id": "0wjHXQAGD2lv"
      },
      "execution_count": 19,
      "outputs": []
    },
    {
      "cell_type": "code",
      "source": [
        "from keras.backend import dropout\n",
        "from keras.layers.serialization import activation\n",
        "img_size=224\n",
        "Bs=128\n",
        "Train_gen = datagen_train.flow_from_directory(base_path + \"train\",\n",
        "                                                    target_size=(pic_size,pic_size),\n",
        "                                                    color_mode=\"rgb\",\n",
        "                                                    batch_size=batch_size,\n",
        "                                                    class_mode='categorical',\n",
        "                                                    shuffle=True)\n",
        "Valid_gen = datagen_validation.flow_from_directory(base_path + \"val\",\n",
        "                                                    target_size=(pic_size,pic_size),\n",
        "                                                    color_mode=\"rgb\",\n",
        "                                                    batch_size=batch_size,\n",
        "                                                    class_mode='categorical',\n",
        "                                                    shuffle=False)\n",
        "test_generator = datagen_test.flow_from_directory(base_path + \"test\",\n",
        "                                                    target_size=(pic_size,pic_size),\n",
        "                                                    color_mode=\"rgb\",\n",
        "                                                    batch_size=batch_size,\n",
        "                                                    class_mode='categorical',\n",
        "                                                    shuffle=False)\n",
        "\n",
        "base_model= MobileNetV2(input_shape=(img_size,img_size,3),include_top=False,weights='imagenet')\n",
        "\n",
        "\n",
        "\n",
        "\n",
        "\n",
        "\n",
        "\n",
        "x=base_model.output\n",
        "x=tf.keras.layers.GlobalAveragePooling2D()(x)\n",
        "x=Dense(512,activation='relu')(x)\n",
        "x=Dropout(rate=.5)(x)\n",
        "x=Dense(7   ,activation='softmax')(x)\n",
        " \n",
        "\n",
        "con_model=Model(inputs=base_model.input ,outputs=x)\n",
        "for layer in base_model.layers:\n",
        "  layer.trainable=False\n",
        "\n",
        "con_model.compile(loss='categorical_crossentropy',optimizer='adam',metrics=['accuracy'])"
      ],
      "metadata": {
        "id": "9qGOSul2D2o9",
        "outputId": "b0b6f935-bce8-4c9c-84bd-d5352554f7d3",
        "colab": {
          "base_uri": "https://localhost:8080/"
        }
      },
      "execution_count": 20,
      "outputs": [
        {
          "output_type": "stream",
          "name": "stdout",
          "text": [
            "Found 14000 images belonging to 7 classes.\n",
            "Found 1750 images belonging to 7 classes.\n",
            "Found 1750 images belonging to 7 classes.\n",
            "Downloading data from https://storage.googleapis.com/tensorflow/keras-applications/mobilenet_v2/mobilenet_v2_weights_tf_dim_ordering_tf_kernels_1.0_224_no_top.h5\n",
            "9406464/9406464 [==============================] - 0s 0us/step\n"
          ]
        }
      ]
    },
    {
      "cell_type": "code",
      "source": [
        "epochs=50\n",
        "hist = con_model.fit_generator(\n",
        "    Train_gen,\n",
        "    epochs=epochs,\n",
        "    validation_data=Valid_gen\n",
        ")\n"
      ],
      "metadata": {
        "id": "StpC0bivD2rt",
        "outputId": "1300a2e6-d932-4cfd-adea-ea26960c20d3",
        "colab": {
          "base_uri": "https://localhost:8080/"
        }
      },
      "execution_count": 21,
      "outputs": [
        {
          "output_type": "stream",
          "name": "stderr",
          "text": [
            "<ipython-input-21-5551bde757ae>:2: UserWarning: `Model.fit_generator` is deprecated and will be removed in a future version. Please use `Model.fit`, which supports generators.\n",
            "  hist = con_model.fit_generator(\n"
          ]
        },
        {
          "output_type": "stream",
          "name": "stdout",
          "text": [
            "Epoch 1/50\n",
            "110/110 [==============================] - 53s 289ms/step - loss: 1.8385 - accuracy: 0.2929 - val_loss: 1.6512 - val_accuracy: 0.3754\n",
            "Epoch 2/50\n",
            "110/110 [==============================] - 30s 271ms/step - loss: 1.6342 - accuracy: 0.3781 - val_loss: 1.5145 - val_accuracy: 0.4594\n",
            "Epoch 3/50\n",
            "110/110 [==============================] - 33s 302ms/step - loss: 1.5353 - accuracy: 0.4228 - val_loss: 1.4418 - val_accuracy: 0.4886\n",
            "Epoch 4/50\n",
            "110/110 [==============================] - 30s 272ms/step - loss: 1.4498 - accuracy: 0.4644 - val_loss: 1.3561 - val_accuracy: 0.5383\n",
            "Epoch 5/50\n",
            "110/110 [==============================] - 30s 270ms/step - loss: 1.3747 - accuracy: 0.5008 - val_loss: 1.3179 - val_accuracy: 0.5377\n",
            "Epoch 6/50\n",
            "110/110 [==============================] - 30s 272ms/step - loss: 1.3099 - accuracy: 0.5284 - val_loss: 1.2345 - val_accuracy: 0.5794\n",
            "Epoch 7/50\n",
            "110/110 [==============================] - 31s 280ms/step - loss: 1.2291 - accuracy: 0.5609 - val_loss: 1.1620 - val_accuracy: 0.6029\n",
            "Epoch 8/50\n",
            "110/110 [==============================] - 30s 271ms/step - loss: 1.1869 - accuracy: 0.5816 - val_loss: 1.1002 - val_accuracy: 0.6371\n",
            "Epoch 9/50\n",
            "110/110 [==============================] - 30s 273ms/step - loss: 1.1472 - accuracy: 0.5969 - val_loss: 1.0748 - val_accuracy: 0.6480\n",
            "Epoch 10/50\n",
            "110/110 [==============================] - 30s 271ms/step - loss: 1.1112 - accuracy: 0.6107 - val_loss: 1.0552 - val_accuracy: 0.6543\n",
            "Epoch 11/50\n",
            "110/110 [==============================] - 31s 285ms/step - loss: 1.0581 - accuracy: 0.6284 - val_loss: 0.9936 - val_accuracy: 0.6857\n",
            "Epoch 12/50\n",
            "110/110 [==============================] - 30s 270ms/step - loss: 1.0127 - accuracy: 0.6480 - val_loss: 0.9780 - val_accuracy: 0.6874\n",
            "Epoch 13/50\n",
            "110/110 [==============================] - 30s 269ms/step - loss: 0.9716 - accuracy: 0.6665 - val_loss: 0.9403 - val_accuracy: 0.7063\n",
            "Epoch 14/50\n",
            "110/110 [==============================] - 30s 269ms/step - loss: 0.9432 - accuracy: 0.6718 - val_loss: 0.8967 - val_accuracy: 0.7286\n",
            "Epoch 15/50\n",
            "110/110 [==============================] - 34s 311ms/step - loss: 0.9182 - accuracy: 0.6859 - val_loss: 0.8716 - val_accuracy: 0.7297\n",
            "Epoch 16/50\n",
            "110/110 [==============================] - 30s 269ms/step - loss: 0.8883 - accuracy: 0.6921 - val_loss: 0.8432 - val_accuracy: 0.7371\n",
            "Epoch 17/50\n",
            "110/110 [==============================] - 33s 301ms/step - loss: 0.8510 - accuracy: 0.7072 - val_loss: 0.8260 - val_accuracy: 0.7480\n",
            "Epoch 18/50\n",
            "110/110 [==============================] - 32s 286ms/step - loss: 0.8291 - accuracy: 0.7115 - val_loss: 0.8146 - val_accuracy: 0.7469\n",
            "Epoch 19/50\n",
            "110/110 [==============================] - 32s 288ms/step - loss: 0.8029 - accuracy: 0.7282 - val_loss: 0.8283 - val_accuracy: 0.7474\n",
            "Epoch 20/50\n",
            "110/110 [==============================] - 32s 289ms/step - loss: 0.8200 - accuracy: 0.7185 - val_loss: 0.7767 - val_accuracy: 0.7583\n",
            "Epoch 21/50\n",
            "110/110 [==============================] - 30s 269ms/step - loss: 0.7663 - accuracy: 0.7395 - val_loss: 0.7535 - val_accuracy: 0.7783\n",
            "Epoch 22/50\n",
            "110/110 [==============================] - 30s 272ms/step - loss: 0.7462 - accuracy: 0.7403 - val_loss: 0.7424 - val_accuracy: 0.7737\n",
            "Epoch 23/50\n",
            "110/110 [==============================] - 30s 270ms/step - loss: 0.7350 - accuracy: 0.7521 - val_loss: 0.7531 - val_accuracy: 0.7663\n",
            "Epoch 24/50\n",
            "110/110 [==============================] - 32s 287ms/step - loss: 0.7130 - accuracy: 0.7586 - val_loss: 0.7747 - val_accuracy: 0.7663\n",
            "Epoch 25/50\n",
            "110/110 [==============================] - 30s 269ms/step - loss: 0.7201 - accuracy: 0.7561 - val_loss: 0.7279 - val_accuracy: 0.7783\n",
            "Epoch 26/50\n",
            "110/110 [==============================] - 30s 270ms/step - loss: 0.6988 - accuracy: 0.7603 - val_loss: 0.7128 - val_accuracy: 0.7874\n",
            "Epoch 27/50\n",
            "110/110 [==============================] - 30s 269ms/step - loss: 0.6827 - accuracy: 0.7709 - val_loss: 0.7061 - val_accuracy: 0.7880\n",
            "Epoch 28/50\n",
            "110/110 [==============================] - 32s 289ms/step - loss: 0.6680 - accuracy: 0.7726 - val_loss: 0.7226 - val_accuracy: 0.7771\n",
            "Epoch 29/50\n",
            "110/110 [==============================] - 30s 269ms/step - loss: 0.6619 - accuracy: 0.7749 - val_loss: 0.7201 - val_accuracy: 0.7829\n",
            "Epoch 30/50\n",
            "110/110 [==============================] - 30s 271ms/step - loss: 0.6507 - accuracy: 0.7778 - val_loss: 0.6913 - val_accuracy: 0.7983\n",
            "Epoch 31/50\n",
            "110/110 [==============================] - 30s 270ms/step - loss: 0.6428 - accuracy: 0.7779 - val_loss: 0.7017 - val_accuracy: 0.7909\n",
            "Epoch 32/50\n",
            "110/110 [==============================] - 32s 288ms/step - loss: 0.6429 - accuracy: 0.7832 - val_loss: 0.6871 - val_accuracy: 0.7971\n",
            "Epoch 33/50\n",
            "110/110 [==============================] - 30s 270ms/step - loss: 0.6426 - accuracy: 0.7784 - val_loss: 0.6786 - val_accuracy: 0.7931\n",
            "Epoch 34/50\n",
            "110/110 [==============================] - 29s 267ms/step - loss: 0.6312 - accuracy: 0.7830 - val_loss: 0.6786 - val_accuracy: 0.8000\n",
            "Epoch 35/50\n",
            "110/110 [==============================] - 30s 269ms/step - loss: 0.6018 - accuracy: 0.7927 - val_loss: 0.7045 - val_accuracy: 0.7949\n",
            "Epoch 36/50\n",
            "110/110 [==============================] - 30s 273ms/step - loss: 0.6115 - accuracy: 0.7911 - val_loss: 0.6775 - val_accuracy: 0.7971\n",
            "Epoch 37/50\n",
            "110/110 [==============================] - 30s 269ms/step - loss: 0.6014 - accuracy: 0.7939 - val_loss: 0.6947 - val_accuracy: 0.7886\n",
            "Epoch 38/50\n",
            "110/110 [==============================] - 30s 272ms/step - loss: 0.6093 - accuracy: 0.7896 - val_loss: 0.6735 - val_accuracy: 0.8017\n",
            "Epoch 39/50\n",
            "110/110 [==============================] - 30s 271ms/step - loss: 0.5873 - accuracy: 0.7974 - val_loss: 0.6892 - val_accuracy: 0.7851\n",
            "Epoch 40/50\n",
            "110/110 [==============================] - 32s 288ms/step - loss: 0.5823 - accuracy: 0.7992 - val_loss: 0.6726 - val_accuracy: 0.7989\n",
            "Epoch 41/50\n",
            "110/110 [==============================] - 30s 272ms/step - loss: 0.5693 - accuracy: 0.8001 - val_loss: 0.6814 - val_accuracy: 0.8006\n",
            "Epoch 42/50\n",
            "110/110 [==============================] - 30s 271ms/step - loss: 0.5787 - accuracy: 0.7967 - val_loss: 0.6667 - val_accuracy: 0.7943\n",
            "Epoch 43/50\n",
            "110/110 [==============================] - 30s 268ms/step - loss: 0.5783 - accuracy: 0.8046 - val_loss: 0.6602 - val_accuracy: 0.7920\n",
            "Epoch 44/50\n",
            "110/110 [==============================] - 32s 287ms/step - loss: 0.5566 - accuracy: 0.8061 - val_loss: 0.6735 - val_accuracy: 0.7977\n",
            "Epoch 45/50\n",
            "110/110 [==============================] - 30s 268ms/step - loss: 0.5753 - accuracy: 0.7988 - val_loss: 0.6875 - val_accuracy: 0.7977\n",
            "Epoch 46/50\n",
            "110/110 [==============================] - 32s 288ms/step - loss: 0.5596 - accuracy: 0.8046 - val_loss: 0.6750 - val_accuracy: 0.7931\n",
            "Epoch 47/50\n",
            "110/110 [==============================] - 30s 271ms/step - loss: 0.5466 - accuracy: 0.8083 - val_loss: 0.6864 - val_accuracy: 0.7954\n",
            "Epoch 48/50\n",
            "110/110 [==============================] - 30s 272ms/step - loss: 0.5366 - accuracy: 0.8126 - val_loss: 0.6828 - val_accuracy: 0.7971\n",
            "Epoch 49/50\n",
            "110/110 [==============================] - 30s 270ms/step - loss: 0.5265 - accuracy: 0.8164 - val_loss: 0.6754 - val_accuracy: 0.8040\n",
            "Epoch 50/50\n",
            "110/110 [==============================] - 30s 271ms/step - loss: 0.5399 - accuracy: 0.8140 - val_loss: 0.6684 - val_accuracy: 0.8034\n"
          ]
        }
      ]
    },
    {
      "cell_type": "code",
      "source": [
        "loss, accuracy = con_model.evaluate(test_generator)"
      ],
      "metadata": {
        "colab": {
          "base_uri": "https://localhost:8080/"
        },
        "id": "kgaX_CRyMOep",
        "outputId": "8bee26dd-e244-4fcd-e918-989587174cca"
      },
      "execution_count": 22,
      "outputs": [
        {
          "output_type": "stream",
          "name": "stdout",
          "text": [
            "14/14 [==============================] - 3s 230ms/step - loss: 0.6558 - accuracy: 0.8086\n"
          ]
        }
      ]
    },
    {
      "cell_type": "code",
      "source": [
        "model_json = con_model.to_json()\n",
        "with open(\"model.json\", \"w\") as json_file:\n",
        "    json_file.write(model_json)"
      ],
      "metadata": {
        "id": "QWpkP0uioAEY"
      },
      "execution_count": 23,
      "outputs": []
    },
    {
      "cell_type": "code",
      "source": [
        "history=hist\n",
        "import matplotlib.pyplot as plt\n",
        "\n",
        "plt.figure(figsize=(20,10))\n",
        "plt.subplot(1, 2, 1)\n",
        "plt.suptitle('Optimizer : Adam', fontsize=10)\n",
        "plt.ylabel('Loss', fontsize=16)\n",
        "plt.plot(history.history['loss'], label='Training Loss')\n",
        "plt.plot(history.history['val_loss'], label='Validation Loss')\n",
        "plt.legend(loc='upper right')\n",
        "\n",
        "plt.subplot(1, 2, 2)\n",
        "plt.ylabel('Accuracy', fontsize=16)\n",
        "plt.plot(history.history['accuracy'], label='Training Accuracy')\n",
        "plt.plot(history.history['val_accuracy'], label='Validation Accuracy')\n",
        "plt.legend(loc='lower right')\n",
        "plt.show()"
      ],
      "metadata": {
        "colab": {
          "base_uri": "https://localhost:8080/",
          "height": 663
        },
        "id": "YTawDB5DGC3g",
        "outputId": "9ea7a84a-fa57-43f2-d3cc-74127ec4400f"
      },
      "execution_count": 24,
      "outputs": [
        {
          "output_type": "display_data",
          "data": {
            "text/plain": [
              "<Figure size 1440x720 with 2 Axes>"
            ],
            "image/png": "[encoded data removed]"
          },
          "metadata": {
            "needs_background": "light"
          }
        }
      ]
    },
    {
      "cell_type": "code",
      "source": [
        "predictions = con_model.predict_generator(generator=test_generator)\n",
        "y_pred = [np.argmax(probas) for probas in predictions]\n",
        "y_test = test_generator.classes\n",
        "class_names = test_generator.class_indices.keys()\n",
        "\n",
        "from sklearn.metrics import confusion_matrix\n",
        "import itertools\n",
        "\n",
        "def plot_confusion_matrix(cm, classes, title='Confusion matrix', cmap=plt.cm.Blues):\n",
        "    cm = cm.astype('float') / cm.sum(axis=1)[:, np.newaxis]\n",
        "    plt.figure(figsize=(10,10))\n",
        "    plt.imshow(cm, interpolation='nearest', cmap=cmap)\n",
        "    plt.title(title)\n",
        "    plt.colorbar()\n",
        "    tick_marks = np.arange(len(classes))\n",
        "    plt.xticks(tick_marks, classes, rotation=45) \n",
        "    plt.yticks(tick_marks, classes)\n",
        "\n",
        "    fmt = '.2f'\n",
        "    thresh = cm.max() / 2.\n",
        "    for i, j in itertools.product(range(cm.shape[0]), range(cm.shape[1])):\n",
        "        plt.text(j, i, format(cm[i, j], fmt),\n",
        "                 horizontalalignment=\"center\",\n",
        "                 color=\"white\" if cm[i, j] > thresh else \"black\")\n",
        "\n",
        "    plt.ylabel('True label')\n",
        "    plt.xlabel('Predicted label')\n",
        "    plt.tight_layout()\n",
        "    \n",
        "# compute confusion matrix\n",
        "cnf_matrix = confusion_matrix(y_test, y_pred)\n",
        "np.set_printoptions(precision=2)\n",
        "\n",
        "# plot normalized confusion matrix\n",
        "plt.figure()\n",
        "plot_confusion_matrix(cnf_matrix, classes=class_names, title='Normalized confusion matrix')\n",
        "plt.show()"
      ],
      "metadata": {
        "colab": {
          "base_uri": "https://localhost:8080/",
          "height": 796
        },
        "id": "n3PYQl8EGC3g",
        "outputId": "e3777314-eedc-476e-a93d-02104e0b3e8d"
      },
      "execution_count": 25,
      "outputs": [
        {
          "output_type": "stream",
          "name": "stderr",
          "text": [
            "<ipython-input-25-c4935754a0a9>:1: UserWarning: `Model.predict_generator` is deprecated and will be removed in a future version. Please use `Model.predict`, which supports generators.\n",
            "  predictions = con_model.predict_generator(generator=test_generator)\n"
          ]
        },
        {
          "output_type": "display_data",
          "data": {
            "text/plain": [
              "<Figure size 432x288 with 0 Axes>"
            ]
          },
          "metadata": {}
        },
        {
          "output_type": "display_data",
          "data": {
            "text/plain": [
              "<Figure size 720x720 with 2 Axes>"
            ],
            "image/png": "[encoded data removed]"
          },
          "metadata": {
            "needs_background": "light"
          }
        }
      ]
    },
    {
      "cell_type": "code",
      "source": [
        "Train_gen.class_indices"
      ],
      "metadata": {
        "id": "skUSdWkWHeoo",
        "colab": {
          "base_uri": "https://localhost:8080/"
        },
        "outputId": "6d56075b-e8ed-44af-bc09-6b1c87af94b4"
      },
      "execution_count": 26,
      "outputs": [
        {
          "output_type": "execute_result",
          "data": {
            "text/plain": [
              "{'angry': 0,\n",
              " 'disgust': 1,\n",
              " 'fear': 2,\n",
              " 'happy': 3,\n",
              " 'neutral': 4,\n",
              " 'sad': 5,\n",
              " 'surprise': 6}"
            ]
          },
          "metadata": {},
          "execution_count": 26
        }
      ]
    },
    {
      "cell_type": "code",
      "source": [
        "labels = ['angry','disgust','fear','happy','neutral','sad','surprise']"
      ],
      "metadata": {
        "id": "E_e9dpl3BNxE"
      },
      "execution_count": 27,
      "outputs": []
    },
    {
      "cell_type": "code",
      "source": [
        "objects = ('angry', 'disgust', 'fear', 'happy', 'sad', 'surprise', 'neutral')\n",
        "y_pos = np.arange(len(objects))\n",
        "print(y_pos)"
      ],
      "metadata": {
        "id": "rqMafGA2Nsde",
        "colab": {
          "base_uri": "https://localhost:8080/"
        },
        "outputId": "bc1af17c-ee77-467c-9916-ae7803d3d732"
      },
      "execution_count": 28,
      "outputs": [
        {
          "output_type": "stream",
          "name": "stdout",
          "text": [
            "[0 1 2 3 4 5 6]\n"
          ]
        }
      ]
    },
    {
      "cell_type": "code",
      "source": [
        "def emotion_analysis(emotions):\n",
        "    objects = ['angry', 'disgust', 'fear', 'happy', 'sad', 'surprise', 'neutral']\n",
        "    y_pos = np.arange(len(objects))\n",
        "    plt.bar(y_pos, emotions, align='center', alpha=0.9)\n",
        "    plt.tick_params(axis='x', which='both', pad=10,width=4,length=10)\n",
        "    plt.xticks(y_pos, objects)\n",
        "    plt.ylabel('percentage')\n",
        "    plt.title('emotion')\n",
        "plt.show()"
      ],
      "metadata": {
        "id": "P4aKJUhBNvxr"
      },
      "execution_count": 29,
      "outputs": []
    },
    {
      "cell_type": "code",
      "source": [
        "import pandas as pd\n",
        "from sklearn.metrics import classification_report\n",
        "\n",
        "report_dict = classification_report(y_test, y_pred, output_dict=True)\n",
        "pd.DataFrame(report_dict)"
      ],
      "metadata": {
        "id": "XSWGkzXKYrYh",
        "colab": {
          "base_uri": "https://localhost:8080/",
          "height": 175
        },
        "outputId": "4fa08c2d-347d-46cd-b738-5a0ccd5cf8a7"
      },
      "execution_count": 30,
      "outputs": [
        {
          "output_type": "execute_result",
          "data": {
            "text/plain": [
              "                    0           1           2           3           4  \\\n",
              "precision    0.866071    0.746575    0.797571    0.808943    0.783465   \n",
              "recall       0.776000    0.872000    0.788000    0.796000    0.796000   \n",
              "f1-score     0.818565    0.804428    0.792757    0.802419    0.789683   \n",
              "support    250.000000  250.000000  250.000000  250.000000  250.000000   \n",
              "\n",
              "                    5           6  accuracy    macro avg  weighted avg  \n",
              "precision    0.803279    0.872428  0.808571     0.811190      0.811190  \n",
              "recall       0.784000    0.848000  0.808571     0.808571      0.808571  \n",
              "f1-score     0.793522    0.860041  0.808571     0.808774      0.808774  \n",
              "support    250.000000  250.000000  0.808571  1750.000000   1750.000000  "
            ],
            "text/html": [
              "\n",
              "  <div id=\"df-56ae13dd-d400-45a7-83f6-269feb1da502\">\n",
              "    <div class=\"colab-df-container\">\n",
              "      <div>\n",
              "<style scoped>\n",
              "    .dataframe tbody tr th:only-of-type {\n",
              "        vertical-align: middle;\n",
              "    }\n",
              "\n",
              "    .dataframe tbody tr th {\n",
              "        vertical-align: top;\n",
              "    }\n",
              "\n",
              "    .dataframe thead th {\n",
              "        text-align: right;\n",
              "    }\n",
              "</style>\n",
              "<table border=\"1\" class=\"dataframe\">\n",
              "  <thead>\n",
              "    <tr style=\"text-align: right;\">\n",
              "      <th></th>\n",
              "      <th>0</th>\n",
              "      <th>1</th>\n",
              "      <th>2</th>\n",
              "      <th>3</th>\n",
              "      <th>4</th>\n",
              "      <th>5</th>\n",
              "      <th>6</th>\n",
              "      <th>accuracy</th>\n",
              "      <th>macro avg</th>\n",
              "      <th>weighted avg</th>\n",
              "    </tr>\n",
              "  </thead>\n",
              "  <tbody>\n",
              "    <tr>\n",
              "      <th>precision</th>\n",
              "      <td>0.866071</td>\n",
              "      <td>0.746575</td>\n",
              "      <td>0.797571</td>\n",
              "      <td>0.808943</td>\n",
              "      <td>0.783465</td>\n",
              "      <td>0.803279</td>\n",
              "      <td>0.872428</td>\n",
              "      <td>0.808571</td>\n",
              "      <td>0.811190</td>\n",
              "      <td>0.811190</td>\n",
              "    </tr>\n",
              "    <tr>\n",
              "      <th>recall</th>\n",
              "      <td>0.776000</td>\n",
              "      <td>0.872000</td>\n",
              "      <td>0.788000</td>\n",
              "      <td>0.796000</td>\n",
              "      <td>0.796000</td>\n",
              "      <td>0.784000</td>\n",
              "      <td>0.848000</td>\n",
              "      <td>0.808571</td>\n",
              "      <td>0.808571</td>\n",
              "      <td>0.808571</td>\n",
              "    </tr>\n",
              "    <tr>\n",
              "      <th>f1-score</th>\n",
              "      <td>0.818565</td>\n",
              "      <td>0.804428</td>\n",
              "      <td>0.792757</td>\n",
              "      <td>0.802419</td>\n",
              "      <td>0.789683</td>\n",
              "      <td>0.793522</td>\n",
              "      <td>0.860041</td>\n",
              "      <td>0.808571</td>\n",
              "      <td>0.808774</td>\n",
              "      <td>0.808774</td>\n",
              "    </tr>\n",
              "    <tr>\n",
              "      <th>support</th>\n",
              "      <td>250.000000</td>\n",
              "      <td>250.000000</td>\n",
              "      <td>250.000000</td>\n",
              "      <td>250.000000</td>\n",
              "      <td>250.000000</td>\n",
              "      <td>250.000000</td>\n",
              "      <td>250.000000</td>\n",
              "      <td>0.808571</td>\n",
              "      <td>1750.000000</td>\n",
              "      <td>1750.000000</td>\n",
              "    </tr>\n",
              "  </tbody>\n",
              "</table>\n",
              "</div>\n",
              "      <button class=\"colab-df-convert\" onclick=\"convertToInteractive('df-56ae13dd-d400-45a7-83f6-269feb1da502')\"\n",
              "              title=\"Convert this dataframe to an interactive table.\"\n",
              "              style=\"display:none;\">\n",
              "        \n",
              "  <svg xmlns=\"http://www.w3.org/2000/svg\" height=\"24px\"viewBox=\"0 0 24 24\"\n",
              "       width=\"24px\">\n",
              "    <path d=\"M0 0h24v24H0V0z\" fill=\"none\"/>\n",
              "    <path d=\"M18.56 5.44l.94 2.06.94-2.06 2.06-.94-2.06-.94-.94-2.06-.94 2.06-2.06.94zm-11 1L8.5 8.5l.94-2.06 2.06-.94-2.06-.94L8.5 2.5l-.94 2.06-2.06.94zm10 10l.94 2.06.94-2.06 2.06-.94-2.06-.94-.94-2.06-.94 2.06-2.06.94z\"/><path d=\"M17.41 7.96l-1.37-1.37c-.4-.4-.92-.59-1.43-.59-.52 0-1.04.2-1.43.59L10.3 9.45l-7.72 7.72c-.78.78-.78 2.05 0 2.83L4 21.41c.39.39.9.59 1.41.59.51 0 1.02-.2 1.41-.59l7.78-7.78 2.81-2.81c.8-.78.8-2.07 0-2.86zM5.41 20L4 18.59l7.72-7.72 1.47 1.35L5.41 20z\"/>\n",
              "  </svg>\n",
              "      </button>\n",
              "      \n",
              "  <style>\n",
              "    .colab-df-container {\n",
              "      display:flex;\n",
              "      flex-wrap:wrap;\n",
              "      gap: 12px;\n",
              "    }\n",
              "\n",
              "    .colab-df-convert {\n",
              "      background-color: #E8F0FE;\n",
              "      border: none;\n",
              "      border-radius: 50%;\n",
              "      cursor: pointer;\n",
              "      display: none;\n",
              "      fill: #1967D2;\n",
              "      height: 32px;\n",
              "      padding: 0 0 0 0;\n",
              "      width: 32px;\n",
              "    }\n",
              "\n",
              "    .colab-df-convert:hover {\n",
              "      background-color: #E2EBFA;\n",
              "      box-shadow: 0px 1px 2px rgba(60, 64, 67, 0.3), 0px 1px 3px 1px rgba(60, 64, 67, 0.15);\n",
              "      fill: #174EA6;\n",
              "    }\n",
              "\n",
              "    [theme=dark] .colab-df-convert {\n",
              "      background-color: #3B4455;\n",
              "      fill: #D2E3FC;\n",
              "    }\n",
              "\n",
              "    [theme=dark] .colab-df-convert:hover {\n",
              "      background-color: #434B5C;\n",
              "      box-shadow: 0px 1px 3px 1px rgba(0, 0, 0, 0.15);\n",
              "      filter: drop-shadow(0px 1px 2px rgba(0, 0, 0, 0.3));\n",
              "      fill: #FFFFFF;\n",
              "    }\n",
              "  </style>\n",
              "\n",
              "      <script>\n",
              "        const buttonEl =\n",
              "          document.querySelector('#df-56ae13dd-d400-45a7-83f6-269feb1da502 button.colab-df-convert');\n",
              "        buttonEl.style.display =\n",
              "          google.colab.kernel.accessAllowed ? 'block' : 'none';\n",
              "\n",
              "        async function convertToInteractive(key) {\n",
              "          const element = document.querySelector('#df-56ae13dd-d400-45a7-83f6-269feb1da502');\n",
              "          const dataTable =\n",
              "            await google.colab.kernel.invokeFunction('convertToInteractive',\n",
              "                                                     [key], {});\n",
              "          if (!dataTable) return;\n",
              "\n",
              "          const docLinkHtml = 'Like what you see? Visit the ' +\n",
              "            '<a target=\"_blank\" href=https://colab.research.google.com/notebooks/data_table.ipynb>data table notebook</a>'\n",
              "            + ' to learn more about interactive tables.';\n",
              "          element.innerHTML = '';\n",
              "          dataTable['output_type'] = 'display_data';\n",
              "          await google.colab.output.renderOutput(dataTable, element);\n",
              "          const docLink = document.createElement('div');\n",
              "          docLink.innerHTML = docLinkHtml;\n",
              "          element.appendChild(docLink);\n",
              "        }\n",
              "      </script>\n",
              "    </div>\n",
              "  </div>\n",
              "  "
            ]
          },
          "metadata": {},
          "execution_count": 30
        }
      ]
    },
    {
      "cell_type": "code",
      "source": [],
      "metadata": {
        "id": "1SQJf_4wXYju"
      },
      "execution_count": 30,
      "outputs": []
    }
  ]
}