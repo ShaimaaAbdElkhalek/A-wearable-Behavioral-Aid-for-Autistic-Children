{
  "cells": [
    {
      "cell_type": "markdown",
      "metadata": {
        "id": "AeV726r9DzCf"
      },
      "source": [
        "# **Efficientnet**\n",
        "\n"
      ]
    },
    {
      "cell_type": "code",
      "execution_count": 1,
      "metadata": {
        "colab": {
          "base_uri": "https://localhost:8080/"
        },
        "id": "_MfMCcQzSyqo",
        "outputId": "d5ffd0bb-96f3-4463-f190-639507374cb7"
      },
      "outputs": [
        {
          "output_type": "stream",
          "name": "stdout",
          "text": [
            "Mounted at /content/drive\n"
          ]
        }
      ],
      "source": [
        "from google.colab import drive\n",
        "drive.mount('/content/drive')"
      ]
    },
    {
      "cell_type": "code",
      "execution_count": 2,
      "metadata": {
        "colab": {
          "base_uri": "https://localhost:8080/"
        },
        "id": "gytXAj3T10Oa",
        "outputId": "03a66339-1da7-42c6-9106-3ef798652b59"
      },
      "outputs": [
        {
          "output_type": "stream",
          "name": "stdout",
          "text": [
            "done\n"
          ]
        }
      ],
      "source": [
        "from zipfile import ZipFile\n",
        "File_name='/content/drive/MyDrive/Project/2500latest.zip'\n",
        "with ZipFile(File_name,'r') as zip:\n",
        "   zip.extractall()\n",
        "   print('done')"
      ]
    },
    {
      "cell_type": "code",
      "execution_count": 3,
      "metadata": {
        "colab": {
          "base_uri": "https://localhost:8080/"
        },
        "id": "4j4gzJET10Ob",
        "outputId": "1e1c2e82-9852-498e-e175-2a96c1eca7f3"
      },
      "outputs": [
        {
          "output_type": "stream",
          "name": "stdout",
          "text": [
            "['surprise', 'fear', 'neutral', 'happy', 'disgust', 'sad', 'angry']\n"
          ]
        }
      ],
      "source": [
        "import numpy as np\n",
        "import seaborn as sns\n",
        "#from keras_preprocessing.image import load_img, img_to_array\n",
        "from tensorflow.keras.preprocessing.image import img_to_array,load_img\n",
        "import matplotlib.pyplot as plt\n",
        "import os\n",
        "print(os.listdir(\"/content/s2500latest/2500latest/\"))\n",
        "%matplotlib inline"
      ]
    },
    {
      "cell_type": "code",
      "execution_count": 3,
      "metadata": {
        "id": "gJtGae2p-vjP"
      },
      "outputs": [],
      "source": []
    },
    {
      "cell_type": "code",
      "execution_count": 4,
      "metadata": {
        "colab": {
          "base_uri": "https://localhost:8080/"
        },
        "id": "exmn-5m_xeoj",
        "outputId": "d885a035-2c6a-42a0-fcd6-05b3829488b3"
      },
      "outputs": [
        {
          "output_type": "stream",
          "name": "stdout",
          "text": [
            "Looking in indexes: https://pypi.org/simple, https://us-python.pkg.dev/colab-wheels/public/simple/\n",
            "Collecting split-folders\n",
            "  Downloading split_folders-0.5.1-py3-none-any.whl (8.4 kB)\n",
            "Installing collected packages: split-folders\n",
            "Successfully installed split-folders-0.5.1\n"
          ]
        },
        {
          "output_type": "stream",
          "name": "stderr",
          "text": [
            "Copying files: 17500 files [00:02, 6960.41 files/s]\n"
          ]
        }
      ],
      "source": [
        "\n",
        "!pip install split-folders\n",
        "import splitfolders \n",
        "splitfolders.ratio(\"/content/s2500latest/2500latest/\", output=\"/content/new2500/\", seed=1337, ratio=(.8, .1, .1), group_prefix=None) "
      ]
    },
    {
      "cell_type": "code",
      "execution_count": 5,
      "metadata": {
        "id": "mbL5uCwW8W3T",
        "colab": {
          "base_uri": "https://localhost:8080/"
        },
        "outputId": "9749fd80-72ab-46df-901e-6637fd8270da"
      },
      "outputs": [
        {
          "output_type": "execute_result",
          "data": {
            "text/plain": [
              "7"
            ]
          },
          "metadata": {},
          "execution_count": 5
        }
      ],
      "source": [
        "train_dir = '/content/new2500/train/'\n",
        "test_dir = '/content/new2500/test/'\n",
        "val_dir='/content/new2500/val/'\n",
        "\n",
        "nb_classes = len(os.listdir('/content/new2500/train/'))\n",
        "nb_classes\n"
      ]
    },
    {
      "cell_type": "code",
      "execution_count": 5,
      "metadata": {
        "id": "szLOfM7w9JA9"
      },
      "outputs": [],
      "source": []
    },
    {
      "cell_type": "code",
      "execution_count": 5,
      "metadata": {
        "id": "HaL-TeIu9Yw8"
      },
      "outputs": [],
      "source": []
    },
    {
      "cell_type": "code",
      "execution_count": 5,
      "metadata": {
        "id": "XgKRxeTX8wzD"
      },
      "outputs": [],
      "source": []
    },
    {
      "cell_type": "code",
      "execution_count": 6,
      "metadata": {
        "id": "UUW5Mxq610Og"
      },
      "outputs": [],
      "source": [
        "pic_size = 224"
      ]
    },
    {
      "cell_type": "code",
      "execution_count": 7,
      "metadata": {
        "id": "weYn9bMB10Oh"
      },
      "outputs": [],
      "source": [
        "base_path = \"/content/new2500/\""
      ]
    },
    {
      "cell_type": "code",
      "execution_count": 8,
      "metadata": {
        "id": "kSYnyiS310Oh",
        "colab": {
          "base_uri": "https://localhost:8080/",
          "height": 35
        },
        "outputId": "2b0a5837-7d00-4e18-fb6c-64fa883ee6dc"
      },
      "outputs": [
        {
          "output_type": "display_data",
          "data": {
            "text/plain": [
              "<Figure size 864x1440 with 0 Axes>"
            ]
          },
          "metadata": {}
        }
      ],
      "source": [
        "\n",
        "plt.figure(0, figsize=(12,20))\n",
        "cpt = 0"
      ]
    },
    {
      "cell_type": "code",
      "execution_count": 9,
      "metadata": {
        "colab": {
          "base_uri": "https://localhost:8080/",
          "height": 89
        },
        "id": "JDPIfPAs10Oi",
        "outputId": "3c20c8a9-a9ec-4376-f965-af7c3b9e2a43"
      },
      "outputs": [
        {
          "output_type": "stream",
          "name": "stderr",
          "text": [
            "<ipython-input-9-f2af4440e899>:8: UserWarning: Tight layout not applied. tight_layout cannot make axes width small enough to accommodate all axes decorations\n",
            "  plt.tight_layout()\n"
          ]
        },
        {
          "output_type": "display_data",
          "data": {
            "text/plain": [
              "<Figure size 432x288 with 63 Axes>"
            ],
            "image/png": "[encoded data removed]"
          },
          "metadata": {
            "needs_background": "light"
          }
        }
      ],
      "source": [
        "for expression in os.listdir(base_path + \"train/\"):\n",
        "    for i in range(1,10):\n",
        "        cpt = cpt + 1\n",
        "        plt.subplot(432,288,cpt)\n",
        "        img = load_img(base_path + \"train/\" + expression + \"/\" +os.listdir(base_path + \"train/\" + expression)[i], target_size=(pic_size, pic_size))\n",
        "        plt.imshow(img, cmap=\"gray\")\n",
        "\n",
        "plt.tight_layout()\n",
        "plt.show()"
      ]
    },
    {
      "cell_type": "code",
      "execution_count": 10,
      "metadata": {
        "colab": {
          "base_uri": "https://localhost:8080/"
        },
        "id": "ZVdivThS10Oj",
        "outputId": "37b36486-eb11-4872-eba6-901dc2563bd9"
      },
      "outputs": [
        {
          "output_type": "stream",
          "name": "stdout",
          "text": [
            "2000 surprise images\n",
            "2000 fear images\n",
            "2000 neutral images\n",
            "2000 happy images\n",
            "2000 disgust images\n",
            "2000 sad images\n",
            "2000 angry images\n"
          ]
        }
      ],
      "source": [
        "for expression in os.listdir(base_path + \"train\"):\n",
        "    print(str(len(os.listdir(base_path + \"train/\" + expression))) + \" \" + expression + \" images\")"
      ]
    },
    {
      "cell_type": "code",
      "execution_count": 11,
      "metadata": {
        "id": "39-95Yp510Oj"
      },
      "outputs": [],
      "source": [
        "from keras.preprocessing.image import ImageDataGenerator"
      ]
    },
    {
      "cell_type": "code",
      "execution_count": 12,
      "metadata": {
        "id": "ZiVI2eGj10Ok"
      },
      "outputs": [],
      "source": [
        "batch_size = 128"
      ]
    },
    {
      "cell_type": "code",
      "execution_count": 13,
      "metadata": {
        "id": "qvOAvLFO10Ok"
      },
      "outputs": [],
      "source": [
        "datagen_train = ImageDataGenerator()\n",
        "datagen_validation = ImageDataGenerator()\n",
        "datagen_test= ImageDataGenerator()"
      ]
    },
    {
      "cell_type": "code",
      "execution_count": 14,
      "metadata": {
        "colab": {
          "base_uri": "https://localhost:8080/"
        },
        "id": "layiSQRd10Ol",
        "outputId": "f885c73f-01c4-4a7f-cdab-4f3366c135b1"
      },
      "outputs": [
        {
          "output_type": "stream",
          "name": "stdout",
          "text": [
            "Found 14000 images belonging to 7 classes.\n",
            "Found 1750 images belonging to 7 classes.\n",
            "Found 1750 images belonging to 7 classes.\n"
          ]
        }
      ],
      "source": [
        "Train_gen = datagen_train.flow_from_directory(base_path + \"train\",\n",
        "                                                    target_size=(pic_size,pic_size),\n",
        "                                                    color_mode=\"rgb\",\n",
        "                                                    batch_size=batch_size,\n",
        "                                                    class_mode='categorical',\n",
        "                                                    shuffle=True)\n",
        "Valid_gen = datagen_validation.flow_from_directory(base_path + \"val\",\n",
        "                                                    target_size=(pic_size,pic_size),\n",
        "                                                    color_mode=\"rgb\",\n",
        "                                                    batch_size=batch_size,\n",
        "                                                    class_mode='categorical',\n",
        "                                                    shuffle=False)\n",
        "test_generator = datagen_test.flow_from_directory(base_path + \"test\",\n",
        "                                                    target_size=(pic_size,pic_size),\n",
        "                                                    color_mode=\"rgb\",\n",
        "                                                    batch_size=batch_size,\n",
        "                                                    class_mode='categorical',\n",
        "                                                    shuffle=False)"
      ]
    },
    {
      "cell_type": "code",
      "execution_count": 14,
      "metadata": {
        "id": "b5h1wKInriOi"
      },
      "outputs": [],
      "source": []
    },
    {
      "cell_type": "code",
      "execution_count": 15,
      "metadata": {
        "id": "7uMaWNuIMxxD"
      },
      "outputs": [],
      "source": [
        "import tensorflow as tf\n",
        "from keras.layers import AveragePooling2D ,Dropout ,Dense , Conv2D , Input\n",
        "from keras.models import  Model"
      ]
    },
    {
      "cell_type": "code",
      "execution_count": 16,
      "metadata": {
        "id": "0wjHXQAGD2lv"
      },
      "outputs": [],
      "source": [
        "from keras.applications.densenet import DenseNet\n",
        "from keras.applications.resnet import ResNet50\n",
        "from keras.applications.vgg16 import VGG16\n",
        "from keras.applications.efficientnet import EfficientNetB7"
      ]
    },
    {
      "cell_type": "code",
      "execution_count": 17,
      "metadata": {
        "id": "9qGOSul2D2o9",
        "colab": {
          "base_uri": "https://localhost:8080/"
        },
        "outputId": "b5813309-6209-4722-f9f5-c58c74335546"
      },
      "outputs": [
        {
          "output_type": "stream",
          "name": "stdout",
          "text": [
            "Downloading data from https://storage.googleapis.com/keras-applications/efficientnetb7_notop.h5\n",
            "258076736/258076736 [==============================] - 7s 0us/step\n"
          ]
        }
      ],
      "source": [
        "from keras.backend import dropout\n",
        "from keras.layers.serialization import activation\n",
        "img_size=224\n",
        "Bs=128\n",
        "\n",
        "\n",
        "base_model= EfficientNetB7(include_top=False,weights='imagenet',input_shape=(img_size,img_size,3))\n",
        "x=base_model.output\n",
        "x=tf.keras.layers.GlobalAveragePooling2D()(x)\n",
        "x=Dense(512,activation='relu')(x)\n",
        "x=Dropout(rate=.5)(x)\n",
        "x=Dense(7   ,activation='softmax')(x)\n",
        " \n",
        "\n",
        "con_model=Model(inputs=base_model.input ,outputs=x)\n",
        "for layer in base_model.layers:\n",
        "  layer.trainable=False\n",
        "\n",
        "con_model.compile(loss='categorical_crossentropy',optimizer='adam',metrics=['accuracy'])"
      ]
    },
    {
      "cell_type": "code",
      "execution_count": 18,
      "metadata": {
        "id": "StpC0bivD2rt",
        "colab": {
          "base_uri": "https://localhost:8080/"
        },
        "outputId": "6de2ce75-99b6-4824-b6fa-56d2acf75a1a"
      },
      "outputs": [
        {
          "output_type": "stream",
          "name": "stderr",
          "text": [
            "<ipython-input-18-257b48d6dca4>:2: UserWarning: `Model.fit_generator` is deprecated and will be removed in a future version. Please use `Model.fit`, which supports generators.\n",
            "  hist = con_model.fit_generator(\n"
          ]
        },
        {
          "output_type": "stream",
          "name": "stdout",
          "text": [
            "Epoch 1/25\n",
            "110/110 [==============================] - 225s 2s/step - loss: 1.2967 - accuracy: 0.5296 - val_loss: 0.8850 - val_accuracy: 0.7520\n",
            "Epoch 2/25\n",
            "110/110 [==============================] - 179s 2s/step - loss: 0.8477 - accuracy: 0.7259 - val_loss: 0.6161 - val_accuracy: 0.8354\n",
            "Epoch 3/25\n",
            "110/110 [==============================] - 179s 2s/step - loss: 0.6525 - accuracy: 0.7967 - val_loss: 0.4975 - val_accuracy: 0.8737\n",
            "Epoch 4/25\n",
            "110/110 [==============================] - 180s 2s/step - loss: 0.5263 - accuracy: 0.8401 - val_loss: 0.4285 - val_accuracy: 0.8880\n",
            "Epoch 5/25\n",
            "110/110 [==============================] - 179s 2s/step - loss: 0.4538 - accuracy: 0.8654 - val_loss: 0.3851 - val_accuracy: 0.8971\n",
            "Epoch 6/25\n",
            "110/110 [==============================] - 179s 2s/step - loss: 0.3989 - accuracy: 0.8814 - val_loss: 0.3703 - val_accuracy: 0.8943\n",
            "Epoch 7/25\n",
            "110/110 [==============================] - 179s 2s/step - loss: 0.3562 - accuracy: 0.8958 - val_loss: 0.3555 - val_accuracy: 0.8931\n",
            "Epoch 8/25\n",
            "110/110 [==============================] - 180s 2s/step - loss: 0.3224 - accuracy: 0.9056 - val_loss: 0.3407 - val_accuracy: 0.9034\n",
            "Epoch 9/25\n",
            "110/110 [==============================] - 181s 2s/step - loss: 0.2959 - accuracy: 0.9091 - val_loss: 0.3464 - val_accuracy: 0.9051\n",
            "Epoch 10/25\n",
            "110/110 [==============================] - 179s 2s/step - loss: 0.2787 - accuracy: 0.9158 - val_loss: 0.3334 - val_accuracy: 0.9063\n",
            "Epoch 11/25\n",
            "110/110 [==============================] - 179s 2s/step - loss: 0.2498 - accuracy: 0.9236 - val_loss: 0.3336 - val_accuracy: 0.9063\n",
            "Epoch 12/25\n",
            "110/110 [==============================] - 179s 2s/step - loss: 0.2324 - accuracy: 0.9267 - val_loss: 0.3504 - val_accuracy: 0.9051\n",
            "Epoch 13/25\n",
            "110/110 [==============================] - 179s 2s/step - loss: 0.2268 - accuracy: 0.9304 - val_loss: 0.3416 - val_accuracy: 0.9086\n",
            "Epoch 14/25\n",
            "110/110 [==============================] - 179s 2s/step - loss: 0.2063 - accuracy: 0.9351 - val_loss: 0.3422 - val_accuracy: 0.9080\n",
            "Epoch 15/25\n",
            "110/110 [==============================] - 179s 2s/step - loss: 0.1985 - accuracy: 0.9406 - val_loss: 0.3495 - val_accuracy: 0.9091\n",
            "Epoch 16/25\n",
            "110/110 [==============================] - 179s 2s/step - loss: 0.1932 - accuracy: 0.9394 - val_loss: 0.3507 - val_accuracy: 0.9091\n",
            "Epoch 17/25\n",
            "110/110 [==============================] - 178s 2s/step - loss: 0.1840 - accuracy: 0.9421 - val_loss: 0.3522 - val_accuracy: 0.9120\n",
            "Epoch 18/25\n",
            "110/110 [==============================] - 179s 2s/step - loss: 0.1749 - accuracy: 0.9445 - val_loss: 0.3601 - val_accuracy: 0.9069\n",
            "Epoch 19/25\n",
            "110/110 [==============================] - 179s 2s/step - loss: 0.1758 - accuracy: 0.9460 - val_loss: 0.3415 - val_accuracy: 0.9086\n",
            "Epoch 20/25\n",
            "110/110 [==============================] - 179s 2s/step - loss: 0.1665 - accuracy: 0.9456 - val_loss: 0.3610 - val_accuracy: 0.9063\n",
            "Epoch 21/25\n",
            "110/110 [==============================] - 179s 2s/step - loss: 0.1618 - accuracy: 0.9494 - val_loss: 0.3698 - val_accuracy: 0.9091\n",
            "Epoch 22/25\n",
            "110/110 [==============================] - 181s 2s/step - loss: 0.1478 - accuracy: 0.9531 - val_loss: 0.3694 - val_accuracy: 0.9097\n",
            "Epoch 23/25\n",
            "110/110 [==============================] - 180s 2s/step - loss: 0.1503 - accuracy: 0.9520 - val_loss: 0.3713 - val_accuracy: 0.9069\n",
            "Epoch 24/25\n",
            "110/110 [==============================] - 179s 2s/step - loss: 0.1402 - accuracy: 0.9553 - val_loss: 0.3811 - val_accuracy: 0.9063\n",
            "Epoch 25/25\n",
            "110/110 [==============================] - 179s 2s/step - loss: 0.1303 - accuracy: 0.9577 - val_loss: 0.3848 - val_accuracy: 0.9086\n"
          ]
        }
      ],
      "source": [
        "epochs=25\n",
        "hist = con_model.fit_generator(\n",
        "    Train_gen,\n",
        "    epochs=epochs,\n",
        "    validation_data=Valid_gen\n",
        ")\n"
      ]
    },
    {
      "cell_type": "code",
      "execution_count": 19,
      "metadata": {
        "id": "kgaX_CRyMOep",
        "colab": {
          "base_uri": "https://localhost:8080/"
        },
        "outputId": "89585791-8d51-47fd-fa15-b4a6247ff108"
      },
      "outputs": [
        {
          "output_type": "stream",
          "name": "stdout",
          "text": [
            "14/14 [==============================] - 19s 1s/step - loss: 0.3630 - accuracy: 0.9091\n"
          ]
        }
      ],
      "source": [
        "loss, accuracy = con_model.evaluate(test_generator)"
      ]
    },
    {
      "cell_type": "code",
      "execution_count": 20,
      "metadata": {
        "id": "QWpkP0uioAEY",
        "colab": {
          "base_uri": "https://localhost:8080/",
          "height": 36
        },
        "outputId": "ff390afd-d2bd-4ae3-b27f-eef9bf43fa80"
      },
      "outputs": [
        {
          "output_type": "execute_result",
          "data": {
            "text/plain": [
              "'model_json = con_model.to_json()\\nwith open(\"model.json\", \"w\") as json_file:\\n    json_file.write(model_json)'"
            ],
            "application/vnd.google.colaboratory.intrinsic+json": {
              "type": "string"
            }
          },
          "metadata": {},
          "execution_count": 20
        }
      ],
      "source": [
        "'''''''model_json = con_model.to_json()''''\n",
        "with open(\"model.json\", \"w\") as json_file:\n",
        "    json_file.write(model_json)'''''"
      ]
    },
    {
      "cell_type": "code",
      "execution_count": 21,
      "metadata": {
        "id": "YTawDB5DGC3g",
        "colab": {
          "base_uri": "https://localhost:8080/",
          "height": 663
        },
        "outputId": "e1999e06-ff55-4640-e625-2f40d8dc5fd0"
      },
      "outputs": [
        {
          "output_type": "display_data",
          "data": {
            "text/plain": [
              "<Figure size 1440x720 with 2 Axes>"
            ],
            "image/png": "[encoded data removed]"
          },
          "metadata": {
            "needs_background": "light"
          }
        }
      ],
      "source": [
        "history=hist\n",
        "import matplotlib.pyplot as plt\n",
        "\n",
        "plt.figure(figsize=(20,10))\n",
        "plt.subplot(1, 2, 1)\n",
        "plt.suptitle('Optimizer : Adam', fontsize=10)\n",
        "plt.ylabel('Loss', fontsize=16)\n",
        "plt.plot(history.history['loss'], label='Training Loss')\n",
        "plt.plot(history.history['val_loss'], label='Validation Loss')\n",
        "plt.legend(loc='upper right')\n",
        "\n",
        "plt.subplot(1, 2, 2)\n",
        "plt.ylabel('Accuracy', fontsize=16)\n",
        "plt.plot(history.history['accuracy'], label='Training Accuracy')\n",
        "plt.plot(history.history['val_accuracy'], label='Validation Accuracy')\n",
        "plt.legend(loc='lower right')\n",
        "plt.show()"
      ]
    },
    {
      "cell_type": "code",
      "execution_count": 22,
      "metadata": {
        "id": "n3PYQl8EGC3g",
        "colab": {
          "base_uri": "https://localhost:8080/",
          "height": 802
        },
        "outputId": "d8d9b482-5e05-4798-f8e8-16257e45a7c1"
      },
      "outputs": [
        {
          "output_type": "stream",
          "name": "stderr",
          "text": [
            "<ipython-input-22-c4935754a0a9>:1: UserWarning: `Model.predict_generator` is deprecated and will be removed in a future version. Please use `Model.predict`, which supports generators.\n",
            "  predictions = con_model.predict_generator(generator=test_generator)\n"
          ]
        },
        {
          "output_type": "display_data",
          "data": {
            "text/plain": [
              "<Figure size 432x288 with 0 Axes>"
            ]
          },
          "metadata": {}
        },
        {
          "output_type": "display_data",
          "data": {
            "text/plain": [
              "<Figure size 720x720 with 2 Axes>"
            ],
            "image/png": "[encoded data removed]"
          },
          "metadata": {
            "needs_background": "light"
          }
        }
      ],
      "source": [
        "predictions = con_model.predict_generator(generator=test_generator)\n",
        "y_pred = [np.argmax(probas) for probas in predictions]\n",
        "y_test = test_generator.classes\n",
        "class_names = test_generator.class_indices.keys()\n",
        "\n",
        "from sklearn.metrics import confusion_matrix\n",
        "import itertools\n",
        "\n",
        "def plot_confusion_matrix(cm, classes, title='Confusion matrix', cmap=plt.cm.Blues):\n",
        "    cm = cm.astype('float') / cm.sum(axis=1)[:, np.newaxis]\n",
        "    plt.figure(figsize=(10,10))\n",
        "    plt.imshow(cm, interpolation='nearest', cmap=cmap)\n",
        "    plt.title(title)\n",
        "    plt.colorbar()\n",
        "    tick_marks = np.arange(len(classes))\n",
        "    plt.xticks(tick_marks, classes, rotation=45) \n",
        "    plt.yticks(tick_marks, classes)\n",
        "\n",
        "    fmt = '.2f'\n",
        "    thresh = cm.max() / 2.\n",
        "    for i, j in itertools.product(range(cm.shape[0]), range(cm.shape[1])):\n",
        "        plt.text(j, i, format(cm[i, j], fmt),\n",
        "                 horizontalalignment=\"center\",\n",
        "                 color=\"white\" if cm[i, j] > thresh else \"black\")\n",
        "\n",
        "    plt.ylabel('True label')\n",
        "    plt.xlabel('Predicted label')\n",
        "    plt.tight_layout()\n",
        "    \n",
        "# compute confusion matrix\n",
        "cnf_matrix = confusion_matrix(y_test, y_pred)\n",
        "np.set_printoptions(precision=2)\n",
        "\n",
        "# plot normalized confusion matrix\n",
        "plt.figure()\n",
        "plot_confusion_matrix(cnf_matrix, classes=class_names, title='Normalized confusion matrix')\n",
        "plt.show()"
      ]
    },
    {
      "cell_type": "code",
      "execution_count": 23,
      "metadata": {
        "id": "skUSdWkWHeoo",
        "colab": {
          "base_uri": "https://localhost:8080/"
        },
        "outputId": "d876e39e-323c-420f-f482-fba4156902ba"
      },
      "outputs": [
        {
          "output_type": "execute_result",
          "data": {
            "text/plain": [
              "{'angry': 0,\n",
              " 'disgust': 1,\n",
              " 'fear': 2,\n",
              " 'happy': 3,\n",
              " 'neutral': 4,\n",
              " 'sad': 5,\n",
              " 'surprise': 6}"
            ]
          },
          "metadata": {},
          "execution_count": 23
        }
      ],
      "source": [
        "Train_gen.class_indices"
      ]
    },
    {
      "cell_type": "code",
      "execution_count": 24,
      "metadata": {
        "id": "E_e9dpl3BNxE"
      },
      "outputs": [],
      "source": [
        "labels = ['angry','disgust','fear','happy','neutral','sad','surprise']"
      ]
    },
    {
      "cell_type": "code",
      "execution_count": 25,
      "metadata": {
        "id": "rqMafGA2Nsde",
        "colab": {
          "base_uri": "https://localhost:8080/"
        },
        "outputId": "d2df739d-97ed-4148-f7e8-c08ba78ce046"
      },
      "outputs": [
        {
          "output_type": "stream",
          "name": "stdout",
          "text": [
            "[0 1 2 3 4 5 6]\n"
          ]
        }
      ],
      "source": [
        "objects = ('angry', 'disgust', 'fear', 'happy', 'sad', 'surprise', 'neutral')\n",
        "y_pos = np.arange(len(objects))\n",
        "print(y_pos)"
      ]
    },
    {
      "cell_type": "code",
      "execution_count": 26,
      "metadata": {
        "id": "P4aKJUhBNvxr"
      },
      "outputs": [],
      "source": [
        "def emotion_analysis(emotions):\n",
        "    objects = ['angry', 'disgust', 'fear', 'happy', 'sad', 'surprise', 'neutral']\n",
        "    y_pos = np.arange(len(objects))\n",
        "    plt.bar(y_pos, emotions, align='center', alpha=0.9)\n",
        "    plt.tick_params(axis='x', which='both', pad=10,width=4,length=10)\n",
        "    plt.xticks(y_pos, objects)\n",
        "    plt.ylabel('percentage')\n",
        "    plt.title('emotion')\n",
        "plt.show()"
      ]
    },
    {
      "cell_type": "code",
      "execution_count": 27,
      "metadata": {
        "id": "XSWGkzXKYrYh",
        "colab": {
          "base_uri": "https://localhost:8080/",
          "height": 175
        },
        "outputId": "26d9b9e6-e8dd-49cf-e9d7-e39668d50b57"
      },
      "outputs": [
        {
          "output_type": "execute_result",
          "data": {
            "text/plain": [
              "                    0           1           2           3           4  \\\n",
              "precision    0.885246    0.925490    0.898374    0.939759    0.886719   \n",
              "recall       0.864000    0.944000    0.884000    0.936000    0.908000   \n",
              "f1-score     0.874494    0.934653    0.891129    0.937876    0.897233   \n",
              "support    250.000000  250.000000  250.000000  250.000000  250.000000   \n",
              "\n",
              "                    5           6  accuracy    macro avg  weighted avg  \n",
              "precision    0.894309    0.933071  0.909143     0.908995      0.908995  \n",
              "recall       0.880000    0.948000  0.909143     0.909143      0.909143  \n",
              "f1-score     0.887097    0.940476  0.909143     0.908994      0.908994  \n",
              "support    250.000000  250.000000  0.909143  1750.000000   1750.000000  "
            ],
            "text/html": [
              "\n",
              "  <div id=\"df-c86c892e-a997-46a7-ab17-2d234447559f\">\n",
              "    <div class=\"colab-df-container\">\n",
              "      <div>\n",
              "<style scoped>\n",
              "    .dataframe tbody tr th:only-of-type {\n",
              "        vertical-align: middle;\n",
              "    }\n",
              "\n",
              "    .dataframe tbody tr th {\n",
              "        vertical-align: top;\n",
              "    }\n",
              "\n",
              "    .dataframe thead th {\n",
              "        text-align: right;\n",
              "    }\n",
              "</style>\n",
              "<table border=\"1\" class=\"dataframe\">\n",
              "  <thead>\n",
              "    <tr style=\"text-align: right;\">\n",
              "      <th></th>\n",
              "      <th>0</th>\n",
              "      <th>1</th>\n",
              "      <th>2</th>\n",
              "      <th>3</th>\n",
              "      <th>4</th>\n",
              "      <th>5</th>\n",
              "      <th>6</th>\n",
              "      <th>accuracy</th>\n",
              "      <th>macro avg</th>\n",
              "      <th>weighted avg</th>\n",
              "    </tr>\n",
              "  </thead>\n",
              "  <tbody>\n",
              "    <tr>\n",
              "      <th>precision</th>\n",
              "      <td>0.885246</td>\n",
              "      <td>0.925490</td>\n",
              "      <td>0.898374</td>\n",
              "      <td>0.939759</td>\n",
              "      <td>0.886719</td>\n",
              "      <td>0.894309</td>\n",
              "      <td>0.933071</td>\n",
              "      <td>0.909143</td>\n",
              "      <td>0.908995</td>\n",
              "      <td>0.908995</td>\n",
              "    </tr>\n",
              "    <tr>\n",
              "      <th>recall</th>\n",
              "      <td>0.864000</td>\n",
              "      <td>0.944000</td>\n",
              "      <td>0.884000</td>\n",
              "      <td>0.936000</td>\n",
              "      <td>0.908000</td>\n",
              "      <td>0.880000</td>\n",
              "      <td>0.948000</td>\n",
              "      <td>0.909143</td>\n",
              "      <td>0.909143</td>\n",
              "      <td>0.909143</td>\n",
              "    </tr>\n",
              "    <tr>\n",
              "      <th>f1-score</th>\n",
              "      <td>0.874494</td>\n",
              "      <td>0.934653</td>\n",
              "      <td>0.891129</td>\n",
              "      <td>0.937876</td>\n",
              "      <td>0.897233</td>\n",
              "      <td>0.887097</td>\n",
              "      <td>0.940476</td>\n",
              "      <td>0.909143</td>\n",
              "      <td>0.908994</td>\n",
              "      <td>0.908994</td>\n",
              "    </tr>\n",
              "    <tr>\n",
              "      <th>support</th>\n",
              "      <td>250.000000</td>\n",
              "      <td>250.000000</td>\n",
              "      <td>250.000000</td>\n",
              "      <td>250.000000</td>\n",
              "      <td>250.000000</td>\n",
              "      <td>250.000000</td>\n",
              "      <td>250.000000</td>\n",
              "      <td>0.909143</td>\n",
              "      <td>1750.000000</td>\n",
              "      <td>1750.000000</td>\n",
              "    </tr>\n",
              "  </tbody>\n",
              "</table>\n",
              "</div>\n",
              "      <button class=\"colab-df-convert\" onclick=\"convertToInteractive('df-c86c892e-a997-46a7-ab17-2d234447559f')\"\n",
              "              title=\"Convert this dataframe to an interactive table.\"\n",
              "              style=\"display:none;\">\n",
              "        \n",
              "  <svg xmlns=\"http://www.w3.org/2000/svg\" height=\"24px\"viewBox=\"0 0 24 24\"\n",
              "       width=\"24px\">\n",
              "    <path d=\"M0 0h24v24H0V0z\" fill=\"none\"/>\n",
              "    <path d=\"M18.56 5.44l.94 2.06.94-2.06 2.06-.94-2.06-.94-.94-2.06-.94 2.06-2.06.94zm-11 1L8.5 8.5l.94-2.06 2.06-.94-2.06-.94L8.5 2.5l-.94 2.06-2.06.94zm10 10l.94 2.06.94-2.06 2.06-.94-2.06-.94-.94-2.06-.94 2.06-2.06.94z\"/><path d=\"M17.41 7.96l-1.37-1.37c-.4-.4-.92-.59-1.43-.59-.52 0-1.04.2-1.43.59L10.3 9.45l-7.72 7.72c-.78.78-.78 2.05 0 2.83L4 21.41c.39.39.9.59 1.41.59.51 0 1.02-.2 1.41-.59l7.78-7.78 2.81-2.81c.8-.78.8-2.07 0-2.86zM5.41 20L4 18.59l7.72-7.72 1.47 1.35L5.41 20z\"/>\n",
              "  </svg>\n",
              "      </button>\n",
              "      \n",
              "  <style>\n",
              "    .colab-df-container {\n",
              "      display:flex;\n",
              "      flex-wrap:wrap;\n",
              "      gap: 12px;\n",
              "    }\n",
              "\n",
              "    .colab-df-convert {\n",
              "      background-color: #E8F0FE;\n",
              "      border: none;\n",
              "      border-radius: 50%;\n",
              "      cursor: pointer;\n",
              "      display: none;\n",
              "      fill: #1967D2;\n",
              "      height: 32px;\n",
              "      padding: 0 0 0 0;\n",
              "      width: 32px;\n",
              "    }\n",
              "\n",
              "    .colab-df-convert:hover {\n",
              "      background-color: #E2EBFA;\n",
              "      box-shadow: 0px 1px 2px rgba(60, 64, 67, 0.3), 0px 1px 3px 1px rgba(60, 64, 67, 0.15);\n",
              "      fill: #174EA6;\n",
              "    }\n",
              "\n",
              "    [theme=dark] .colab-df-convert {\n",
              "      background-color: #3B4455;\n",
              "      fill: #D2E3FC;\n",
              "    }\n",
              "\n",
              "    [theme=dark] .colab-df-convert:hover {\n",
              "      background-color: #434B5C;\n",
              "      box-shadow: 0px 1px 3px 1px rgba(0, 0, 0, 0.15);\n",
              "      filter: drop-shadow(0px 1px 2px rgba(0, 0, 0, 0.3));\n",
              "      fill: #FFFFFF;\n",
              "    }\n",
              "  </style>\n",
              "\n",
              "      <script>\n",
              "        const buttonEl =\n",
              "          document.querySelector('#df-c86c892e-a997-46a7-ab17-2d234447559f button.colab-df-convert');\n",
              "        buttonEl.style.display =\n",
              "          google.colab.kernel.accessAllowed ? 'block' : 'none';\n",
              "\n",
              "        async function convertToInteractive(key) {\n",
              "          const element = document.querySelector('#df-c86c892e-a997-46a7-ab17-2d234447559f');\n",
              "          const dataTable =\n",
              "            await google.colab.kernel.invokeFunction('convertToInteractive',\n",
              "                                                     [key], {});\n",
              "          if (!dataTable) return;\n",
              "\n",
              "          const docLinkHtml = 'Like what you see? Visit the ' +\n",
              "            '<a target=\"_blank\" href=https://colab.research.google.com/notebooks/data_table.ipynb>data table notebook</a>'\n",
              "            + ' to learn more about interactive tables.';\n",
              "          element.innerHTML = '';\n",
              "          dataTable['output_type'] = 'display_data';\n",
              "          await google.colab.output.renderOutput(dataTable, element);\n",
              "          const docLink = document.createElement('div');\n",
              "          docLink.innerHTML = docLinkHtml;\n",
              "          element.appendChild(docLink);\n",
              "        }\n",
              "      </script>\n",
              "    </div>\n",
              "  </div>\n",
              "  "
            ]
          },
          "metadata": {},
          "execution_count": 27
        }
      ],
      "source": [
        "import pandas as pd\n",
        "from sklearn.metrics import classification_report\n",
        "\n",
        "report_dict = classification_report(y_test, y_pred, output_dict=True)\n",
        "pd.DataFrame(report_dict)"
      ]
    },
    {
      "cell_type": "code",
      "execution_count": 27,
      "metadata": {
        "id": "1SQJf_4wXYju"
      },
      "outputs": [],
      "source": []
    }
  ],
  "metadata": {
    "accelerator": "GPU",
    "colab": {
      "provenance": []
    },
    "gpuClass": "standard",
    "kernelspec": {
      "display_name": "Python 3",
      "name": "python3"
    },
    "language_info": {
      "name": "python"
    }
  },
  "nbformat": 4,
  "nbformat_minor": 0
}