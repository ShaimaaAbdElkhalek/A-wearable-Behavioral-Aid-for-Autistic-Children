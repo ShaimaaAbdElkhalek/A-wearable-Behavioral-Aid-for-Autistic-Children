{
  "nbformat": 4,
  "nbformat_minor": 0,
  "metadata": {
    "colab": {
      "provenance": []
    },
    "kernelspec": {
      "name": "python3",
      "display_name": "Python 3"
    },
    "language_info": {
      "name": "python"
    },
    "accelerator": "GPU",
    "gpuClass": "standard"
  },
  "cells": [
    {
      "cell_type": "code",
      "execution_count": null,
      "metadata": {
        "id": "FWflzByDA8i7"
      },
      "outputs": [],
      "source": []
    },
    {
      "cell_type": "code",
      "source": [
        "from google.colab import drive\n",
        "drive.mount('/content/drive')"
      ],
      "metadata": {
        "id": "RRogPLsoY16s",
        "colab": {
          "base_uri": "https://localhost:8080/"
        },
        "outputId": "935b4cc2-f9d1-41b3-9b19-26145c91ebd8"
      },
      "execution_count": 7,
      "outputs": [
        {
          "output_type": "stream",
          "name": "stdout",
          "text": [
            "Drive already mounted at /content/drive; to attempt to forcibly remount, call drive.mount(\"/content/drive\", force_remount=True).\n"
          ]
        }
      ]
    },
    {
      "cell_type": "code",
      "source": [
        "from zipfile import ZipFile\n",
        "File_name='/content/drive/MyDrive/train.zip'\n",
        "with ZipFile(File_name,'r') as zip:\n",
        "   zip.extractall()\n",
        "   print('done')"
      ],
      "metadata": {
        "id": "DrmURhV8V8Y6",
        "colab": {
          "base_uri": "https://localhost:8080/"
        },
        "outputId": "25037551-f534-4abe-d3a5-48258d5d5ec8"
      },
      "execution_count": 2,
      "outputs": [
        {
          "output_type": "stream",
          "name": "stdout",
          "text": [
            "done\n"
          ]
        }
      ]
    },
    {
      "cell_type": "code",
      "source": [
        "path = \"/content/train\"\n",
        "!pip install split-folders\n",
        "import splitfolders \n",
        "splitfolders.ratio(\"/content/train\", output=\"/content/new\", seed=1337, ratio=(.8, .1, .1), group_prefix=None) "
      ],
      "metadata": {
        "id": "VOGxkKF-fFTC",
        "colab": {
          "base_uri": "https://localhost:8080/"
        },
        "outputId": "1654ac4a-549e-4f64-9300-1f01d7a7fa44"
      },
      "execution_count": 3,
      "outputs": [
        {
          "output_type": "stream",
          "name": "stdout",
          "text": [
            "Looking in indexes: https://pypi.org/simple, https://us-python.pkg.dev/colab-wheels/public/simple/\n",
            "Collecting split-folders\n",
            "  Downloading split_folders-0.5.1-py3-none-any.whl (8.4 kB)\n",
            "Installing collected packages: split-folders\n",
            "Successfully installed split-folders-0.5.1\n"
          ]
        },
        {
          "output_type": "stream",
          "name": "stderr",
          "text": [
            "Copying files: 22200 files [00:04, 5229.45 files/s]\n"
          ]
        }
      ]
    },
    {
      "cell_type": "code",
      "source": [
        "import tensorflow as tf\n",
        "import matplotlib.pyplot as plt\n",
        "import numpy as np\n",
        "import os\n",
        "import tensorflow as tf\n",
        "from tensorflow import keras\n",
        "from keras import layers\n",
        "import matplotlib.image as img\n",
        "%matplotlib inline"
      ],
      "metadata": {
        "id": "VGZdJ3u18ikP"
      },
      "execution_count": 4,
      "outputs": []
    },
    {
      "cell_type": "code",
      "source": [
        "IMG_HEIGHT = 224\n",
        "IMG_WIDTH = 224\n",
        "train_ds = tf.keras.preprocessing.image_dataset_from_directory(\n",
        "\"/content/new/train\",\n",
        "seed=123,\n",
        "image_size=(IMG_HEIGHT, IMG_WIDTH),\n",
        "batch_size=64\n",
        ")\n",
        "\n",
        "test_ds = tf.keras.preprocessing.image_dataset_from_directory(\n",
        "\"/content/new/test\",\n",
        "seed=123,\n",
        "image_size=(IMG_HEIGHT, IMG_WIDTH),\n",
        "batch_size=64\n",
        ")\n",
        "\n",
        "val_ds = tf.keras.preprocessing.image_dataset_from_directory(\n",
        "\"/content/new/val\",\n",
        "seed=123,\n",
        "image_size=(IMG_HEIGHT, IMG_WIDTH),\n",
        "batch_size=64\n",
        ")"
      ],
      "metadata": {
        "colab": {
          "base_uri": "https://localhost:8080/"
        },
        "id": "Ult_QRT18Vsz",
        "outputId": "e75a9d5e-aaa4-464c-83c9-eccce90c937e"
      },
      "execution_count": 5,
      "outputs": [
        {
          "output_type": "stream",
          "name": "stdout",
          "text": [
            "Found 17758 files belonging to 6 classes.\n",
            "Found 2220 files belonging to 6 classes.\n",
            "Found 2220 files belonging to 6 classes.\n"
          ]
        }
      ]
    },
    {
      "cell_type": "code",
      "source": [
        "\n",
        "#set up the environment\n",
        "import keras\n",
        "from keras.models import Sequential, Model\n",
        "from keras.layers import Flatten, Dense, Input, Dropout\n",
        "from keras.applications.vgg16 import VGG16, preprocess_input\n",
        "from keras.preprocessing import image\n",
        "\n",
        "vgg16 = VGG16(weights = 'imagenet', input_shape = (224, 224, 3), include_top = False)\n",
        "vgg16.summary()\n",
        "\n",
        "vgg16.trainable = False\n",
        "final_model = Sequential()\n",
        "final_model.add(vgg16)\n",
        "final_model.add(Flatten(name='flatten'))\n",
        "final_model.add(Dense(7,activation = 'softmax', name = 'predictions'))\n",
        "final_model.compile(loss='sparse_categorical_crossentropy', optimizer = 'adam', metrics = ['accuracy'])\n",
        "\n",
        "hist =final_model.fit(train_ds,validation_data=val_ds,epochs=50, batch_size=64, verbose=1)"
      ],
      "metadata": {
        "colab": {
          "base_uri": "https://localhost:8080/"
        },
        "id": "l75Db5lV61_E",
        "outputId": "8a036864-4e6f-4478-81f4-6afd323a8dd4"
      },
      "execution_count": 6,
      "outputs": [
        {
          "output_type": "stream",
          "name": "stdout",
          "text": [
            "Downloading data from https://storage.googleapis.com/tensorflow/keras-applications/vgg16/vgg16_weights_tf_dim_ordering_tf_kernels_notop.h5\n",
            "58889256/58889256 [==============================] - 1s 0us/step\n",
            "Model: \"vgg16\"\n",
            "_________________________________________________________________\n",
            " Layer (type)                Output Shape              Param #   \n",
            "=================================================================\n",
            " input_1 (InputLayer)        [(None, 224, 224, 3)]     0         \n",
            "                                                                 \n",
            " block1_conv1 (Conv2D)       (None, 224, 224, 64)      1792      \n",
            "                                                                 \n",
            " block1_conv2 (Conv2D)       (None, 224, 224, 64)      36928     \n",
            "                                                                 \n",
            " block1_pool (MaxPooling2D)  (None, 112, 112, 64)      0         \n",
            "                                                                 \n",
            " block2_conv1 (Conv2D)       (None, 112, 112, 128)     73856     \n",
            "                                                                 \n",
            " block2_conv2 (Conv2D)       (None, 112, 112, 128)     147584    \n",
            "                                                                 \n",
            " block2_pool (MaxPooling2D)  (None, 56, 56, 128)       0         \n",
            "                                                                 \n",
            " block3_conv1 (Conv2D)       (None, 56, 56, 256)       295168    \n",
            "                                                                 \n",
            " block3_conv2 (Conv2D)       (None, 56, 56, 256)       590080    \n",
            "                                                                 \n",
            " block3_conv3 (Conv2D)       (None, 56, 56, 256)       590080    \n",
            "                                                                 \n",
            " block3_pool (MaxPooling2D)  (None, 28, 28, 256)       0         \n",
            "                                                                 \n",
            " block4_conv1 (Conv2D)       (None, 28, 28, 512)       1180160   \n",
            "                                                                 \n",
            " block4_conv2 (Conv2D)       (None, 28, 28, 512)       2359808   \n",
            "                                                                 \n",
            " block4_conv3 (Conv2D)       (None, 28, 28, 512)       2359808   \n",
            "                                                                 \n",
            " block4_pool (MaxPooling2D)  (None, 14, 14, 512)       0         \n",
            "                                                                 \n",
            " block5_conv1 (Conv2D)       (None, 14, 14, 512)       2359808   \n",
            "                                                                 \n",
            " block5_conv2 (Conv2D)       (None, 14, 14, 512)       2359808   \n",
            "                                                                 \n",
            " block5_conv3 (Conv2D)       (None, 14, 14, 512)       2359808   \n",
            "                                                                 \n",
            " block5_pool (MaxPooling2D)  (None, 7, 7, 512)         0         \n",
            "                                                                 \n",
            "=================================================================\n",
            "Total params: 14,714,688\n",
            "Trainable params: 14,714,688\n",
            "Non-trainable params: 0\n",
            "_________________________________________________________________\n",
            "Epoch 1/50\n",
            "278/278 [==============================] - 101s 298ms/step - loss: 11.4201 - accuracy: 0.4281 - val_loss: 11.0861 - val_accuracy: 0.4923\n",
            "Epoch 2/50\n",
            "278/278 [==============================] - 81s 291ms/step - loss: 5.8380 - accuracy: 0.6384 - val_loss: 11.1552 - val_accuracy: 0.5041\n",
            "Epoch 3/50\n",
            "278/278 [==============================] - 85s 304ms/step - loss: 4.1908 - accuracy: 0.7166 - val_loss: 13.1117 - val_accuracy: 0.5027\n",
            "Epoch 4/50\n",
            "278/278 [==============================] - 88s 316ms/step - loss: 2.9521 - accuracy: 0.7786 - val_loss: 14.1124 - val_accuracy: 0.4892\n",
            "Epoch 5/50\n",
            "278/278 [==============================] - 88s 315ms/step - loss: 2.2532 - accuracy: 0.8237 - val_loss: 14.9520 - val_accuracy: 0.5221\n",
            "Epoch 6/50\n",
            "278/278 [==============================] - 88s 314ms/step - loss: 1.9865 - accuracy: 0.8425 - val_loss: 16.7482 - val_accuracy: 0.5054\n",
            "Epoch 7/50\n",
            "278/278 [==============================] - 88s 315ms/step - loss: 1.7884 - accuracy: 0.8658 - val_loss: 17.2646 - val_accuracy: 0.5315\n",
            "Epoch 8/50\n",
            "278/278 [==============================] - 88s 314ms/step - loss: 1.7522 - accuracy: 0.8746 - val_loss: 18.4499 - val_accuracy: 0.5144\n",
            "Epoch 9/50\n",
            "278/278 [==============================] - 88s 315ms/step - loss: 1.9732 - accuracy: 0.8693 - val_loss: 19.5989 - val_accuracy: 0.5122\n",
            "Epoch 10/50\n",
            "278/278 [==============================] - 88s 315ms/step - loss: 1.4014 - accuracy: 0.9006 - val_loss: 20.6939 - val_accuracy: 0.5216\n",
            "Epoch 11/50\n",
            "278/278 [==============================] - 88s 314ms/step - loss: 1.1243 - accuracy: 0.9195 - val_loss: 21.7762 - val_accuracy: 0.5167\n",
            "Epoch 12/50\n",
            "278/278 [==============================] - 88s 314ms/step - loss: 1.1794 - accuracy: 0.9160 - val_loss: 22.1421 - val_accuracy: 0.5311\n",
            "Epoch 13/50\n",
            "278/278 [==============================] - 88s 316ms/step - loss: 1.2292 - accuracy: 0.9196 - val_loss: 23.6512 - val_accuracy: 0.5153\n",
            "Epoch 14/50\n",
            "278/278 [==============================] - 88s 314ms/step - loss: 1.3609 - accuracy: 0.9164 - val_loss: 24.6591 - val_accuracy: 0.5225\n",
            "Epoch 15/50\n",
            "278/278 [==============================] - 87s 313ms/step - loss: 1.1542 - accuracy: 0.9267 - val_loss: 26.2662 - val_accuracy: 0.5257\n",
            "Epoch 16/50\n",
            "278/278 [==============================] - 88s 315ms/step - loss: 1.2247 - accuracy: 0.9287 - val_loss: 25.5560 - val_accuracy: 0.5320\n",
            "Epoch 17/50\n",
            "278/278 [==============================] - 88s 314ms/step - loss: 1.1851 - accuracy: 0.9323 - val_loss: 27.4542 - val_accuracy: 0.5158\n",
            "Epoch 18/50\n",
            "278/278 [==============================] - 87s 313ms/step - loss: 1.1280 - accuracy: 0.9375 - val_loss: 27.7157 - val_accuracy: 0.5333\n",
            "Epoch 19/50\n",
            "278/278 [==============================] - 88s 316ms/step - loss: 1.0638 - accuracy: 0.9418 - val_loss: 29.6686 - val_accuracy: 0.5266\n",
            "Epoch 20/50\n",
            "278/278 [==============================] - 87s 313ms/step - loss: 1.0942 - accuracy: 0.9424 - val_loss: 29.4401 - val_accuracy: 0.5284\n",
            "Epoch 21/50\n",
            "278/278 [==============================] - 88s 315ms/step - loss: 1.0784 - accuracy: 0.9421 - val_loss: 31.3760 - val_accuracy: 0.5239\n",
            "Epoch 22/50\n",
            "278/278 [==============================] - 88s 317ms/step - loss: 1.0327 - accuracy: 0.9452 - val_loss: 32.0417 - val_accuracy: 0.5293\n",
            "Epoch 23/50\n",
            "278/278 [==============================] - 88s 316ms/step - loss: 0.9925 - accuracy: 0.9484 - val_loss: 33.0435 - val_accuracy: 0.5171\n",
            "Epoch 24/50\n",
            "278/278 [==============================] - 88s 316ms/step - loss: 1.2825 - accuracy: 0.9370 - val_loss: 35.1078 - val_accuracy: 0.5108\n",
            "Epoch 25/50\n",
            "278/278 [==============================] - 87s 313ms/step - loss: 0.9495 - accuracy: 0.9514 - val_loss: 35.0581 - val_accuracy: 0.5131\n",
            "Epoch 26/50\n",
            "278/278 [==============================] - 88s 315ms/step - loss: 0.8796 - accuracy: 0.9566 - val_loss: 36.7819 - val_accuracy: 0.5203\n",
            "Epoch 27/50\n",
            "278/278 [==============================] - 88s 315ms/step - loss: 1.0011 - accuracy: 0.9515 - val_loss: 36.5717 - val_accuracy: 0.5284\n",
            "Epoch 28/50\n",
            "278/278 [==============================] - 88s 315ms/step - loss: 0.9487 - accuracy: 0.9565 - val_loss: 36.2458 - val_accuracy: 0.5396\n",
            "Epoch 29/50\n",
            "278/278 [==============================] - 88s 314ms/step - loss: 0.8498 - accuracy: 0.9594 - val_loss: 39.5343 - val_accuracy: 0.5045\n",
            "Epoch 30/50\n",
            "278/278 [==============================] - 87s 314ms/step - loss: 0.7960 - accuracy: 0.9630 - val_loss: 38.5269 - val_accuracy: 0.5342\n",
            "Epoch 31/50\n",
            "278/278 [==============================] - 87s 313ms/step - loss: 0.8194 - accuracy: 0.9641 - val_loss: 38.1821 - val_accuracy: 0.5342\n",
            "Epoch 32/50\n",
            "278/278 [==============================] - 88s 314ms/step - loss: 0.8036 - accuracy: 0.9634 - val_loss: 39.3837 - val_accuracy: 0.5302\n",
            "Epoch 33/50\n",
            "278/278 [==============================] - 88s 317ms/step - loss: 0.8578 - accuracy: 0.9645 - val_loss: 40.9446 - val_accuracy: 0.5266\n",
            "Epoch 34/50\n",
            "278/278 [==============================] - 87s 312ms/step - loss: 0.7532 - accuracy: 0.9674 - val_loss: 41.4156 - val_accuracy: 0.5284\n",
            "Epoch 35/50\n",
            "278/278 [==============================] - 88s 314ms/step - loss: 0.8474 - accuracy: 0.9629 - val_loss: 43.0734 - val_accuracy: 0.5419\n",
            "Epoch 36/50\n",
            "278/278 [==============================] - 87s 312ms/step - loss: 0.9478 - accuracy: 0.9595 - val_loss: 42.8470 - val_accuracy: 0.5221\n",
            "Epoch 37/50\n",
            "278/278 [==============================] - 87s 311ms/step - loss: 0.8128 - accuracy: 0.9677 - val_loss: 45.0779 - val_accuracy: 0.5288\n",
            "Epoch 38/50\n",
            "278/278 [==============================] - 88s 314ms/step - loss: 0.7878 - accuracy: 0.9663 - val_loss: 45.7121 - val_accuracy: 0.5000\n",
            "Epoch 39/50\n",
            "278/278 [==============================] - 87s 313ms/step - loss: 0.9678 - accuracy: 0.9605 - val_loss: 45.9288 - val_accuracy: 0.5338\n",
            "Epoch 40/50\n",
            "278/278 [==============================] - 87s 313ms/step - loss: 0.7217 - accuracy: 0.9726 - val_loss: 46.0037 - val_accuracy: 0.5189\n",
            "Epoch 41/50\n",
            "278/278 [==============================] - 87s 313ms/step - loss: 0.8121 - accuracy: 0.9699 - val_loss: 47.9742 - val_accuracy: 0.5176\n",
            "Epoch 42/50\n",
            "278/278 [==============================] - 88s 315ms/step - loss: 0.7253 - accuracy: 0.9717 - val_loss: 49.4646 - val_accuracy: 0.5162\n",
            "Epoch 43/50\n",
            "278/278 [==============================] - 88s 313ms/step - loss: 0.7647 - accuracy: 0.9707 - val_loss: 46.4042 - val_accuracy: 0.5239\n",
            "Epoch 44/50\n",
            "278/278 [==============================] - 87s 314ms/step - loss: 0.6613 - accuracy: 0.9742 - val_loss: 50.9555 - val_accuracy: 0.5144\n",
            "Epoch 45/50\n",
            "278/278 [==============================] - 88s 314ms/step - loss: 0.7299 - accuracy: 0.9729 - val_loss: 49.6153 - val_accuracy: 0.5140\n",
            "Epoch 46/50\n",
            "278/278 [==============================] - 88s 317ms/step - loss: 0.8045 - accuracy: 0.9707 - val_loss: 49.4122 - val_accuracy: 0.5243\n",
            "Epoch 47/50\n",
            "278/278 [==============================] - 88s 316ms/step - loss: 0.8904 - accuracy: 0.9666 - val_loss: 49.6632 - val_accuracy: 0.5297\n",
            "Epoch 48/50\n",
            "278/278 [==============================] - 88s 314ms/step - loss: 0.7598 - accuracy: 0.9720 - val_loss: 54.0788 - val_accuracy: 0.5207\n",
            "Epoch 49/50\n",
            "278/278 [==============================] - 88s 315ms/step - loss: 0.6812 - accuracy: 0.9763 - val_loss: 51.0383 - val_accuracy: 0.5288\n",
            "Epoch 50/50\n",
            "278/278 [==============================] - 87s 313ms/step - loss: 0.5778 - accuracy: 0.9798 - val_loss: 52.0243 - val_accuracy: 0.5230\n"
          ]
        }
      ]
    },
    {
      "cell_type": "code",
      "source": [],
      "metadata": {
        "id": "z7RCP-_yBDsS"
      },
      "execution_count": null,
      "outputs": []
    }
  ]
}