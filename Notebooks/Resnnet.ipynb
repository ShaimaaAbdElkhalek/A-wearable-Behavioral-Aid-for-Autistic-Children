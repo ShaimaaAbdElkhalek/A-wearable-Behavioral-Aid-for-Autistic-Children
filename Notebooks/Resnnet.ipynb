{
  "nbformat": 4,
  "nbformat_minor": 0,
  "metadata": {
    "colab": {
      "provenance": []
    },
    "kernelspec": {
      "name": "python3",
      "display_name": "Python 3"
    },
    "language_info": {
      "name": "python"
    },
    "accelerator": "GPU",
    "gpuClass": "standard"
  },
  "cells": [
    {
      "cell_type": "markdown",
      "source": [
        "\n",
        "\n",
        "# **ResNet50**\n",
        "\n"
      ],
      "metadata": {
        "id": "AeV726r9DzCf"
      }
    },
    {
      "cell_type": "code",
      "execution_count": 1,
      "metadata": {
        "colab": {
          "base_uri": "https://localhost:8080/"
        },
        "id": "_MfMCcQzSyqo",
        "outputId": "a5696527-7171-4c61-98d9-faebd3fb2d2b"
      },
      "outputs": [
        {
          "output_type": "stream",
          "name": "stdout",
          "text": [
            "Mounted at /content/drive\n"
          ]
        }
      ],
      "source": [
        "from google.colab import drive\n",
        "drive.mount('/content/drive')"
      ]
    },
    {
      "cell_type": "code",
      "execution_count": 2,
      "metadata": {
        "colab": {
          "base_uri": "https://localhost:8080/"
        },
        "id": "gytXAj3T10Oa",
        "outputId": "c4219e44-a706-4292-f4d4-576f4e55f72f"
      },
      "outputs": [
        {
          "output_type": "stream",
          "name": "stdout",
          "text": [
            "done\n"
          ]
        }
      ],
      "source": [
        "from zipfile import ZipFile\n",
        "File_name='/content/drive/MyDrive/project/2500latest.zip'\n",
        "with ZipFile(File_name,'r') as zip:\n",
        "   zip.extractall()\n",
        "   print('done')"
      ]
    },
    {
      "cell_type": "code",
      "execution_count": 3,
      "metadata": {
        "colab": {
          "base_uri": "https://localhost:8080/"
        },
        "id": "4j4gzJET10Ob",
        "outputId": "654d264d-e22a-42a6-b976-4cec8fb286e6"
      },
      "outputs": [
        {
          "output_type": "stream",
          "name": "stdout",
          "text": [
            "['surprise', 'fear', 'neutral', 'happy', 'disgust', 'sad', 'angry']\n"
          ]
        }
      ],
      "source": [
        "import numpy as np\n",
        "import seaborn as sns\n",
        "#from keras_preprocessing.image import load_img, img_to_array\n",
        "from tensorflow.keras.preprocessing.image import img_to_array,load_img\n",
        "import matplotlib.pyplot as plt\n",
        "import os\n",
        "print(os.listdir(\"/content/s2500latest/2500latest/\"))\n",
        "%matplotlib inline"
      ]
    },
    {
      "cell_type": "code",
      "execution_count": 4,
      "metadata": {
        "colab": {
          "base_uri": "https://localhost:8080/"
        },
        "id": "exmn-5m_xeoj",
        "outputId": "c734f36f-2e85-4a6c-8735-e081e2192b85"
      },
      "outputs": [
        {
          "output_type": "stream",
          "name": "stdout",
          "text": [
            "Looking in indexes: https://pypi.org/simple, https://us-python.pkg.dev/colab-wheels/public/simple/\n",
            "Collecting split-folders\n",
            "  Downloading split_folders-0.5.1-py3-none-any.whl (8.4 kB)\n",
            "Installing collected packages: split-folders\n",
            "Successfully installed split-folders-0.5.1\n"
          ]
        },
        {
          "output_type": "stream",
          "name": "stderr",
          "text": [
            "Copying files: 17500 files [00:02, 7297.60 files/s]\n"
          ]
        }
      ],
      "source": [
        "\n",
        "!pip install split-folders\n",
        "import splitfolders \n",
        "splitfolders.ratio(\"/content/s2500latest/2500latest/\", output=\"/content/new2500/\", seed=1337, ratio=(.8, .1, .1), group_prefix=None) "
      ]
    },
    {
      "cell_type": "code",
      "execution_count": 5,
      "metadata": {
        "colab": {
          "base_uri": "https://localhost:8080/"
        },
        "id": "mbL5uCwW8W3T",
        "outputId": "033a9955-6c7f-4f6f-92ed-c5a661fdb403"
      },
      "outputs": [
        {
          "output_type": "execute_result",
          "data": {
            "text/plain": [
              "7"
            ]
          },
          "metadata": {},
          "execution_count": 5
        }
      ],
      "source": [
        "train_dir = '/content/new2500/train/'\n",
        "test_dir = '/content/new2500/test/'\n",
        "val_dir='/content/new2500/val/'\n",
        "\n",
        "nb_classes = len(os.listdir('/content/new2500/train/'))\n",
        "nb_classes\n"
      ]
    },
    {
      "cell_type": "code",
      "execution_count": 6,
      "metadata": {
        "id": "UUW5Mxq610Og"
      },
      "outputs": [],
      "source": [
        "pic_size = 224"
      ]
    },
    {
      "cell_type": "code",
      "execution_count": 7,
      "metadata": {
        "id": "weYn9bMB10Oh"
      },
      "outputs": [],
      "source": [
        "base_path = \"/content/new2500/\""
      ]
    },
    {
      "cell_type": "code",
      "execution_count": 8,
      "metadata": {
        "colab": {
          "base_uri": "https://localhost:8080/",
          "height": 35
        },
        "id": "kSYnyiS310Oh",
        "outputId": "30dfbbf0-daeb-4899-bba9-1c1afb4af03d"
      },
      "outputs": [
        {
          "output_type": "display_data",
          "data": {
            "text/plain": [
              "<Figure size 864x1440 with 0 Axes>"
            ]
          },
          "metadata": {}
        }
      ],
      "source": [
        "\n",
        "plt.figure(0, figsize=(12,20))\n",
        "cpt = 0"
      ]
    },
    {
      "cell_type": "code",
      "execution_count": 9,
      "metadata": {
        "colab": {
          "base_uri": "https://localhost:8080/",
          "height": 89
        },
        "id": "JDPIfPAs10Oi",
        "outputId": "7037d2c5-61e6-47c5-f6d8-afe06686a037"
      },
      "outputs": [
        {
          "output_type": "stream",
          "name": "stderr",
          "text": [
            "<ipython-input-9-f2af4440e899>:8: UserWarning: Tight layout not applied. tight_layout cannot make axes width small enough to accommodate all axes decorations\n",
            "  plt.tight_layout()\n"
          ]
        },
        {
          "output_type": "display_data",
          "data": {
            "text/plain": [
              "<Figure size 432x288 with 63 Axes>"
            ],
            "image/png": "[encoded data removed]"
          },
          "metadata": {
            "needs_background": "light"
          }
        }
      ],
      "source": [
        "for expression in os.listdir(base_path + \"train/\"):\n",
        "    for i in range(1,10):\n",
        "        cpt = cpt + 1\n",
        "        plt.subplot(432,288,cpt)\n",
        "        img = load_img(base_path + \"train/\" + expression + \"/\" +os.listdir(base_path + \"train/\" + expression)[i], target_size=(pic_size, pic_size))\n",
        "        plt.imshow(img, cmap=\"gray\")\n",
        "\n",
        "plt.tight_layout()\n",
        "plt.show()"
      ]
    },
    {
      "cell_type": "code",
      "execution_count": 10,
      "metadata": {
        "colab": {
          "base_uri": "https://localhost:8080/"
        },
        "id": "ZVdivThS10Oj",
        "outputId": "d10d1b68-b38e-4685-cc7f-eaf6c0c8c619"
      },
      "outputs": [
        {
          "output_type": "stream",
          "name": "stdout",
          "text": [
            "2000 surprise images\n",
            "2000 fear images\n",
            "2000 neutral images\n",
            "2000 happy images\n",
            "2000 disgust images\n",
            "2000 sad images\n",
            "2000 angry images\n"
          ]
        }
      ],
      "source": [
        "for expression in os.listdir(base_path + \"train\"):\n",
        "    print(str(len(os.listdir(base_path + \"train/\" + expression))) + \" \" + expression + \" images\")"
      ]
    },
    {
      "cell_type": "code",
      "execution_count": 11,
      "metadata": {
        "id": "39-95Yp510Oj"
      },
      "outputs": [],
      "source": [
        "from keras.preprocessing.image import ImageDataGenerator"
      ]
    },
    {
      "cell_type": "code",
      "execution_count": 12,
      "metadata": {
        "id": "ZiVI2eGj10Ok"
      },
      "outputs": [],
      "source": [
        "batch_size = 128"
      ]
    },
    {
      "cell_type": "code",
      "execution_count": 13,
      "metadata": {
        "id": "qvOAvLFO10Ok"
      },
      "outputs": [],
      "source": [
        "datagen_train = ImageDataGenerator()\n",
        "datagen_validation = ImageDataGenerator()\n",
        "datagen_test= ImageDataGenerator()"
      ]
    },
    {
      "cell_type": "code",
      "execution_count": 14,
      "metadata": {
        "colab": {
          "base_uri": "https://localhost:8080/"
        },
        "id": "layiSQRd10Ol",
        "outputId": "02405ee9-a1f8-4d05-e912-b62eb4db357b"
      },
      "outputs": [
        {
          "output_type": "stream",
          "name": "stdout",
          "text": [
            "Found 14000 images belonging to 7 classes.\n",
            "Found 1750 images belonging to 7 classes.\n",
            "Found 1750 images belonging to 7 classes.\n"
          ]
        }
      ],
      "source": [
        "Train_gen = datagen_train.flow_from_directory(base_path + \"train\",\n",
        "                                                    target_size=(pic_size,pic_size),\n",
        "                                                    color_mode=\"rgb\",\n",
        "                                                    batch_size=batch_size,\n",
        "                                                    class_mode='categorical',\n",
        "                                                    shuffle=True)\n",
        "Valid_gen = datagen_validation.flow_from_directory(base_path + \"val\",\n",
        "                                                    target_size=(pic_size,pic_size),\n",
        "                                                    color_mode=\"rgb\",\n",
        "                                                    batch_size=batch_size,\n",
        "                                                    class_mode='categorical',\n",
        "                                                    shuffle=False)\n",
        "test_generator = datagen_test.flow_from_directory(base_path + \"test\",\n",
        "                                                    target_size=(pic_size,pic_size),\n",
        "                                                    color_mode=\"rgb\",\n",
        "                                                    batch_size=batch_size,\n",
        "                                                    class_mode='categorical',\n",
        "                                                    shuffle=False)"
      ]
    },
    {
      "cell_type": "markdown",
      "source": [
        "# **Resnet**"
      ],
      "metadata": {
        "id": "Pdl4qpoAB8hu"
      }
    },
    {
      "cell_type": "code",
      "source": [],
      "metadata": {
        "id": "b5h1wKInriOi"
      },
      "execution_count": 14,
      "outputs": []
    },
    {
      "cell_type": "code",
      "source": [
        "import tensorflow as tf\n",
        "from keras.layers import AveragePooling2D ,Dropout ,Dense , Conv2D , Input\n",
        "from keras.models import  Model"
      ],
      "metadata": {
        "id": "7uMaWNuIMxxD"
      },
      "execution_count": 15,
      "outputs": []
    },
    {
      "cell_type": "code",
      "source": [
        "from keras.applications.densenet import DenseNet\n",
        "from keras.applications.resnet import ResNet50\n",
        "from keras.applications.vgg16 import VGG16"
      ],
      "metadata": {
        "id": "0wjHXQAGD2lv"
      },
      "execution_count": 16,
      "outputs": []
    },
    {
      "cell_type": "code",
      "source": [
        "from keras.backend import dropout\n",
        "from keras.layers.serialization import activation\n",
        "img_size=224\n",
        "Bs=128\n",
        "Train_gen = datagen_train.flow_from_directory(base_path + \"train\",\n",
        "                                                    target_size=(pic_size,pic_size),\n",
        "                                                    color_mode=\"rgb\",\n",
        "                                                    batch_size=batch_size,\n",
        "                                                    class_mode='categorical',\n",
        "                                                    shuffle=True)\n",
        "Valid_gen = datagen_validation.flow_from_directory(base_path + \"val\",\n",
        "                                                    target_size=(pic_size,pic_size),\n",
        "                                                    color_mode=\"rgb\",\n",
        "                                                    batch_size=batch_size,\n",
        "                                                    class_mode='categorical',\n",
        "                                                    shuffle=False)\n",
        "\n",
        "base_model= ResNet50(include_top=False,weights='imagenet',input_shape=(img_size,img_size,3))\n",
        "x=base_model.output\n",
        "x=tf.keras.layers.GlobalAveragePooling2D()(x)\n",
        "x=Dense(512,activation='relu')(x)\n",
        "x=Dropout(rate=.5)(x)\n",
        "x=Dense(7   ,activation='softmax')(x)\n",
        " \n",
        "\n",
        "con_model=Model(inputs=base_model.input ,outputs=x)\n",
        "for layer in base_model.layers:\n",
        "  layer.trainable=False\n",
        "\n",
        "con_model.compile(loss='categorical_crossentropy',optimizer='adam',metrics=['accuracy'])"
      ],
      "metadata": {
        "id": "9qGOSul2D2o9",
        "outputId": "3adf25fc-dcf2-4658-f9ba-8e9f194d1445",
        "colab": {
          "base_uri": "https://localhost:8080/"
        }
      },
      "execution_count": 17,
      "outputs": [
        {
          "output_type": "stream",
          "name": "stdout",
          "text": [
            "Found 14000 images belonging to 7 classes.\n",
            "Found 1750 images belonging to 7 classes.\n",
            "Downloading data from https://storage.googleapis.com/tensorflow/keras-applications/resnet/resnet50_weights_tf_dim_ordering_tf_kernels_notop.h5\n",
            "94765736/94765736 [==============================] - 5s 0us/step\n"
          ]
        }
      ]
    },
    {
      "cell_type": "code",
      "source": [
        "epochs=50\n",
        "hist = con_model.fit_generator(\n",
        "    Train_gen,\n",
        "    epochs=epochs,\n",
        "    validation_data=Valid_gen\n",
        ")\n"
      ],
      "metadata": {
        "id": "StpC0bivD2rt",
        "outputId": "7d49173d-6d21-4773-937f-129bcba27381",
        "colab": {
          "base_uri": "https://localhost:8080/"
        }
      },
      "execution_count": 18,
      "outputs": [
        {
          "metadata": {
            "tags": null
          },
          "name": "stderr",
          "output_type": "stream",
          "text": [
            "<ipython-input-18-5551bde757ae>:2: UserWarning: `Model.fit_generator` is deprecated and will be removed in a future version. Please use `Model.fit`, which supports generators.\n",
            "  hist = con_model.fit_generator(\n"
          ]
        },
        {
          "output_type": "stream",
          "name": "stdout",
          "text": [
            "Epoch 1/50\n",
            "110/110 [==============================] - 71s 499ms/step - loss: 1.6604 - accuracy: 0.4017 - val_loss: 1.2651 - val_accuracy: 0.5737\n",
            "Epoch 2/50\n",
            "110/110 [==============================] - 54s 492ms/step - loss: 1.2425 - accuracy: 0.5552 - val_loss: 1.0679 - val_accuracy: 0.6400\n",
            "Epoch 3/50\n",
            "110/110 [==============================] - 54s 488ms/step - loss: 1.0377 - accuracy: 0.6417 - val_loss: 0.8438 - val_accuracy: 0.7411\n",
            "Epoch 4/50\n",
            "110/110 [==============================] - 50s 451ms/step - loss: 0.8808 - accuracy: 0.7066 - val_loss: 0.7075 - val_accuracy: 0.7869\n",
            "Epoch 5/50\n",
            "110/110 [==============================] - 49s 448ms/step - loss: 0.7488 - accuracy: 0.7540 - val_loss: 0.6044 - val_accuracy: 0.8343\n",
            "Epoch 6/50\n",
            "110/110 [==============================] - 54s 493ms/step - loss: 0.6548 - accuracy: 0.7910 - val_loss: 0.5451 - val_accuracy: 0.8606\n",
            "Epoch 7/50\n",
            "110/110 [==============================] - 55s 495ms/step - loss: 0.5930 - accuracy: 0.8141 - val_loss: 0.5021 - val_accuracy: 0.8634\n",
            "Epoch 8/50\n",
            "110/110 [==============================] - 50s 454ms/step - loss: 0.5179 - accuracy: 0.8376 - val_loss: 0.4357 - val_accuracy: 0.8731\n",
            "Epoch 9/50\n",
            "110/110 [==============================] - 55s 501ms/step - loss: 0.4766 - accuracy: 0.8508 - val_loss: 0.4213 - val_accuracy: 0.8783\n",
            "Epoch 10/50\n",
            "110/110 [==============================] - 51s 460ms/step - loss: 0.4555 - accuracy: 0.8549 - val_loss: 0.4468 - val_accuracy: 0.8726\n",
            "Epoch 11/50\n",
            "110/110 [==============================] - 51s 457ms/step - loss: 0.4378 - accuracy: 0.8631 - val_loss: 0.4137 - val_accuracy: 0.8703\n",
            "Epoch 12/50\n",
            "110/110 [==============================] - 51s 460ms/step - loss: 0.4072 - accuracy: 0.8694 - val_loss: 0.3908 - val_accuracy: 0.8840\n",
            "Epoch 13/50\n",
            "110/110 [==============================] - 51s 460ms/step - loss: 0.3772 - accuracy: 0.8807 - val_loss: 0.4186 - val_accuracy: 0.8777\n",
            "Epoch 14/50\n",
            "110/110 [==============================] - 51s 460ms/step - loss: 0.3615 - accuracy: 0.8836 - val_loss: 0.3694 - val_accuracy: 0.8943\n",
            "Epoch 15/50\n",
            "110/110 [==============================] - 51s 459ms/step - loss: 0.3680 - accuracy: 0.8841 - val_loss: 0.3697 - val_accuracy: 0.8880\n",
            "Epoch 16/50\n",
            "110/110 [==============================] - 51s 459ms/step - loss: 0.3568 - accuracy: 0.8834 - val_loss: 0.3596 - val_accuracy: 0.8840\n",
            "Epoch 17/50\n",
            "110/110 [==============================] - 51s 461ms/step - loss: 0.3274 - accuracy: 0.8935 - val_loss: 0.3604 - val_accuracy: 0.8891\n",
            "Epoch 18/50\n",
            "110/110 [==============================] - 51s 459ms/step - loss: 0.3180 - accuracy: 0.8962 - val_loss: 0.3486 - val_accuracy: 0.8891\n",
            "Epoch 19/50\n",
            "110/110 [==============================] - 51s 459ms/step - loss: 0.3072 - accuracy: 0.8997 - val_loss: 0.3577 - val_accuracy: 0.8897\n",
            "Epoch 20/50\n",
            "110/110 [==============================] - 51s 459ms/step - loss: 0.2994 - accuracy: 0.9031 - val_loss: 0.3561 - val_accuracy: 0.8891\n",
            "Epoch 21/50\n",
            "110/110 [==============================] - 51s 460ms/step - loss: 0.2870 - accuracy: 0.9044 - val_loss: 0.3542 - val_accuracy: 0.8937\n",
            "Epoch 22/50\n",
            "110/110 [==============================] - 57s 521ms/step - loss: 0.2821 - accuracy: 0.9066 - val_loss: 0.3569 - val_accuracy: 0.8891\n",
            "Epoch 23/50\n",
            "110/110 [==============================] - 51s 459ms/step - loss: 0.2552 - accuracy: 0.9140 - val_loss: 0.3435 - val_accuracy: 0.8949\n",
            "Epoch 24/50\n",
            "110/110 [==============================] - 52s 470ms/step - loss: 0.2548 - accuracy: 0.9161 - val_loss: 0.3620 - val_accuracy: 0.8954\n",
            "Epoch 25/50\n",
            "110/110 [==============================] - 55s 500ms/step - loss: 0.2372 - accuracy: 0.9211 - val_loss: 0.3474 - val_accuracy: 0.9006\n",
            "Epoch 26/50\n",
            "110/110 [==============================] - 51s 460ms/step - loss: 0.2356 - accuracy: 0.9208 - val_loss: 0.3613 - val_accuracy: 0.8954\n",
            "Epoch 27/50\n",
            "110/110 [==============================] - 51s 458ms/step - loss: 0.2384 - accuracy: 0.9188 - val_loss: 0.3500 - val_accuracy: 0.8977\n",
            "Epoch 28/50\n",
            "110/110 [==============================] - 51s 462ms/step - loss: 0.2382 - accuracy: 0.9172 - val_loss: 0.3463 - val_accuracy: 0.8954\n",
            "Epoch 29/50\n",
            "110/110 [==============================] - 51s 459ms/step - loss: 0.2438 - accuracy: 0.9180 - val_loss: 0.3639 - val_accuracy: 0.8880\n",
            "Epoch 30/50\n",
            "110/110 [==============================] - 51s 463ms/step - loss: 0.2401 - accuracy: 0.9164 - val_loss: 0.3414 - val_accuracy: 0.9011\n",
            "Epoch 31/50\n",
            "110/110 [==============================] - 51s 461ms/step - loss: 0.2455 - accuracy: 0.9151 - val_loss: 0.3630 - val_accuracy: 0.8954\n",
            "Epoch 32/50\n",
            "110/110 [==============================] - 51s 460ms/step - loss: 0.2294 - accuracy: 0.9216 - val_loss: 0.3856 - val_accuracy: 0.8914\n",
            "Epoch 33/50\n",
            "110/110 [==============================] - 51s 460ms/step - loss: 0.2447 - accuracy: 0.9157 - val_loss: 0.3581 - val_accuracy: 0.8937\n",
            "Epoch 34/50\n",
            "110/110 [==============================] - 51s 459ms/step - loss: 0.2289 - accuracy: 0.9206 - val_loss: 0.3695 - val_accuracy: 0.8920\n",
            "Epoch 35/50\n",
            "110/110 [==============================] - 51s 463ms/step - loss: 0.2265 - accuracy: 0.9198 - val_loss: 0.3592 - val_accuracy: 0.8937\n",
            "Epoch 36/50\n",
            "110/110 [==============================] - 50s 458ms/step - loss: 0.2171 - accuracy: 0.9245 - val_loss: 0.3608 - val_accuracy: 0.8983\n",
            "Epoch 37/50\n",
            "110/110 [==============================] - 51s 462ms/step - loss: 0.2117 - accuracy: 0.9276 - val_loss: 0.3762 - val_accuracy: 0.8937\n",
            "Epoch 38/50\n",
            "110/110 [==============================] - 51s 459ms/step - loss: 0.2102 - accuracy: 0.9268 - val_loss: 0.3592 - val_accuracy: 0.8920\n",
            "Epoch 39/50\n",
            "110/110 [==============================] - 51s 460ms/step - loss: 0.2021 - accuracy: 0.9282 - val_loss: 0.3686 - val_accuracy: 0.8994\n",
            "Epoch 40/50\n",
            "110/110 [==============================] - 51s 459ms/step - loss: 0.2111 - accuracy: 0.9254 - val_loss: 0.3697 - val_accuracy: 0.8960\n",
            "Epoch 41/50\n",
            "110/110 [==============================] - 51s 460ms/step - loss: 0.2077 - accuracy: 0.9249 - val_loss: 0.3700 - val_accuracy: 0.9000\n",
            "Epoch 42/50\n",
            "110/110 [==============================] - 51s 460ms/step - loss: 0.2060 - accuracy: 0.9271 - val_loss: 0.3595 - val_accuracy: 0.8983\n",
            "Epoch 43/50\n",
            "110/110 [==============================] - 51s 460ms/step - loss: 0.1900 - accuracy: 0.9313 - val_loss: 0.3796 - val_accuracy: 0.8977\n",
            "Epoch 44/50\n",
            "110/110 [==============================] - 51s 459ms/step - loss: 0.1895 - accuracy: 0.9309 - val_loss: 0.3930 - val_accuracy: 0.8909\n",
            "Epoch 45/50\n",
            "110/110 [==============================] - 51s 459ms/step - loss: 0.1978 - accuracy: 0.9302 - val_loss: 0.3579 - val_accuracy: 0.9006\n",
            "Epoch 46/50\n",
            "110/110 [==============================] - 51s 459ms/step - loss: 0.1829 - accuracy: 0.9359 - val_loss: 0.4118 - val_accuracy: 0.8943\n",
            "Epoch 47/50\n",
            "110/110 [==============================] - 51s 459ms/step - loss: 0.2135 - accuracy: 0.9220 - val_loss: 0.3462 - val_accuracy: 0.9017\n",
            "Epoch 48/50\n",
            "110/110 [==============================] - 55s 501ms/step - loss: 0.1939 - accuracy: 0.9309 - val_loss: 0.3897 - val_accuracy: 0.8937\n",
            "Epoch 49/50\n",
            "110/110 [==============================] - 51s 461ms/step - loss: 0.1852 - accuracy: 0.9333 - val_loss: 0.4342 - val_accuracy: 0.8874\n",
            "Epoch 50/50\n",
            "110/110 [==============================] - 51s 459ms/step - loss: 0.1999 - accuracy: 0.9269 - val_loss: 0.4017 - val_accuracy: 0.8954\n"
          ]
        }
      ]
    },
    {
      "cell_type": "code",
      "source": [
        "loss, accuracy = con_model.evaluate(test_generator)"
      ],
      "metadata": {
        "colab": {
          "base_uri": "https://localhost:8080/"
        },
        "id": "kgaX_CRyMOep",
        "outputId": "0ffa6aa3-4342-4f1f-c635-e8f69a440b94"
      },
      "execution_count": 19,
      "outputs": [
        {
          "output_type": "stream",
          "name": "stdout",
          "text": [
            "14/14 [==============================] - 6s 394ms/step - loss: 0.4654 - accuracy: 0.8886\n"
          ]
        }
      ]
    },
    {
      "cell_type": "code",
      "source": [
        "'''''''model_json = con_model.to_json()''''\n",
        "with open(\"model.json\", \"w\") as json_file:\n",
        "    json_file.write(model_json)'''''"
      ],
      "metadata": {
        "id": "QWpkP0uioAEY"
      },
      "execution_count": 20,
      "outputs": []
    },
    {
      "cell_type": "code",
      "source": [
        "history=hist\n",
        "import matplotlib.pyplot as plt\n",
        "\n",
        "plt.figure(figsize=(20,10))\n",
        "plt.subplot(1, 2, 1)\n",
        "plt.suptitle('Optimizer : Adam', fontsize=10)\n",
        "plt.ylabel('Loss', fontsize=16)\n",
        "plt.plot(history.history['loss'], label='Training Loss')\n",
        "plt.plot(history.history['val_loss'], label='Validation Loss')\n",
        "plt.legend(loc='upper right')\n",
        "\n",
        "plt.subplot(1, 2, 2)\n",
        "plt.ylabel('Accuracy', fontsize=16)\n",
        "plt.plot(history.history['accuracy'], label='Training Accuracy')\n",
        "plt.plot(history.history['val_accuracy'], label='Validation Accuracy')\n",
        "plt.legend(loc='lower right')\n",
        "plt.show()"
      ],
      "metadata": {
        "colab": {
          "base_uri": "https://localhost:8080/",
          "height": 663
        },
        "id": "YTawDB5DGC3g",
        "outputId": "ead05361-01f7-49a4-eb17-a3aa210d64be"
      },
      "execution_count": 21,
      "outputs": [
        {
          "output_type": "display_data",
          "data": {
            "text/plain": [
              "<Figure size 1440x720 with 2 Axes>"
            ],
            "image/png": "[encoded data removed]"
          },
          "metadata": {
            "needs_background": "light"
          }
        }
      ]
    },
    {
      "cell_type": "code",
      "source": [
        "predictions = con_model.predict_generator(generator=test_generator)\n",
        "y_pred = [np.argmax(probas) for probas in predictions]\n",
        "y_test = test_generator.classes\n",
        "class_names = test_generator.class_indices.keys()\n",
        "\n",
        "from sklearn.metrics import confusion_matrix\n",
        "import itertools\n",
        "\n",
        "def plot_confusion_matrix(cm, classes, title='Confusion matrix', cmap=plt.cm.Blues):\n",
        "    cm = cm.astype('float') / cm.sum(axis=1)[:, np.newaxis]\n",
        "    plt.figure(figsize=(10,10))\n",
        "    plt.imshow(cm, interpolation='nearest', cmap=cmap)\n",
        "    plt.title(title)\n",
        "    plt.colorbar()\n",
        "    tick_marks = np.arange(len(classes))\n",
        "    plt.xticks(tick_marks, classes, rotation=45) \n",
        "    plt.yticks(tick_marks, classes)\n",
        "\n",
        "    fmt = '.2f'\n",
        "    thresh = cm.max() / 2.\n",
        "    for i, j in itertools.product(range(cm.shape[0]), range(cm.shape[1])):\n",
        "        plt.text(j, i, format(cm[i, j], fmt),\n",
        "                 horizontalalignment=\"center\",\n",
        "                 color=\"white\" if cm[i, j] > thresh else \"black\")\n",
        "\n",
        "    plt.ylabel('True label')\n",
        "    plt.xlabel('Predicted label')\n",
        "    plt.tight_layout()\n",
        "    \n",
        "# compute confusion matrix\n",
        "cnf_matrix = confusion_matrix(y_test, y_pred)\n",
        "np.set_printoptions(precision=2)\n",
        "\n",
        "# plot normalized confusion matrix\n",
        "plt.figure()\n",
        "plot_confusion_matrix(cnf_matrix, classes=class_names, title='Normalized confusion matrix')\n",
        "plt.show()"
      ],
      "metadata": {
        "colab": {
          "base_uri": "https://localhost:8080/",
          "height": 802
        },
        "id": "n3PYQl8EGC3g",
        "outputId": "6dac513c-dca1-4935-9d2e-343d87c58ffb"
      },
      "execution_count": 22,
      "outputs": [
        {
          "output_type": "stream",
          "name": "stderr",
          "text": [
            "<ipython-input-22-c4935754a0a9>:1: UserWarning: `Model.predict_generator` is deprecated and will be removed in a future version. Please use `Model.predict`, which supports generators.\n",
            "  predictions = con_model.predict_generator(generator=test_generator)\n"
          ]
        },
        {
          "output_type": "display_data",
          "data": {
            "text/plain": [
              "<Figure size 432x288 with 0 Axes>"
            ]
          },
          "metadata": {}
        },
        {
          "output_type": "display_data",
          "data": {
            "text/plain": [
              "<Figure size 720x720 with 2 Axes>"
            ],
            "image/png": "[encoded data removed]"
          },
          "metadata": {
            "needs_background": "light"
          }
        }
      ]
    },
    {
      "cell_type": "code",
      "source": [
        "Train_gen.class_indices"
      ],
      "metadata": {
        "id": "skUSdWkWHeoo"
      },
      "execution_count": null,
      "outputs": []
    },
    {
      "cell_type": "code",
      "source": [
        "labels = ['angry','disgust','fear','happy','neutral','sad','surprise']"
      ],
      "metadata": {
        "id": "E_e9dpl3BNxE"
      },
      "execution_count": 24,
      "outputs": []
    },
    {
      "cell_type": "code",
      "source": [
        "objects = ('angry', 'disgust', 'fear', 'happy', 'sad', 'surprise', 'neutral')\n",
        "y_pos = np.arange(len(objects))\n",
        "print(y_pos)"
      ],
      "metadata": {
        "id": "rqMafGA2Nsde",
        "colab": {
          "base_uri": "https://localhost:8080/"
        },
        "outputId": "22f8283f-1a07-41ee-9a74-0fcaadaf77a9"
      },
      "execution_count": 25,
      "outputs": [
        {
          "output_type": "stream",
          "name": "stdout",
          "text": [
            "[0 1 2 3 4 5 6]\n"
          ]
        }
      ]
    },
    {
      "cell_type": "code",
      "source": [
        "def emotion_analysis(emotions):\n",
        "    objects = ['angry', 'disgust', 'fear', 'happy', 'sad', 'surprise', 'neutral']\n",
        "    y_pos = np.arange(len(objects))\n",
        "    plt.bar(y_pos, emotions, align='center', alpha=0.9)\n",
        "    plt.tick_params(axis='x', which='both', pad=10,width=4,length=10)\n",
        "    plt.xticks(y_pos, objects)\n",
        "    plt.ylabel('percentage')\n",
        "    plt.title('emotion')\n",
        "plt.show()"
      ],
      "metadata": {
        "id": "P4aKJUhBNvxr"
      },
      "execution_count": 26,
      "outputs": []
    },
    {
      "cell_type": "code",
      "source": [
        "import pandas as pd\n",
        "from sklearn.metrics import classification_report\n",
        "\n",
        "report_dict = classification_report(y_test, y_pred, output_dict=True)\n",
        "pd.DataFrame(report_dict)"
      ],
      "metadata": {
        "id": "XSWGkzXKYrYh",
        "colab": {
          "base_uri": "https://localhost:8080/",
          "height": 175
        },
        "outputId": "f5f90921-4b1c-491d-978d-5fe24a5fa7c7"
      },
      "execution_count": 27,
      "outputs": [
        {
          "data": {
            "text/html": [
              "\n",
              "  <div id=\"df-8a1f3d36-0445-45cc-ade6-c7df1d6f9667\">\n",
              "    <div class=\"colab-df-container\">\n",
              "      <div>\n",
              "<style scoped>\n",
              "    .dataframe tbody tr th:only-of-type {\n",
              "        vertical-align: middle;\n",
              "    }\n",
              "\n",
              "    .dataframe tbody tr th {\n",
              "        vertical-align: top;\n",
              "    }\n",
              "\n",
              "    .dataframe thead th {\n",
              "        text-align: right;\n",
              "    }\n",
              "</style>\n",
              "<table border=\"1\" class=\"dataframe\">\n",
              "  <thead>\n",
              "    <tr style=\"text-align: right;\">\n",
              "      <th></th>\n",
              "      <th>0</th>\n",
              "      <th>1</th>\n",
              "      <th>2</th>\n",
              "      <th>3</th>\n",
              "      <th>4</th>\n",
              "      <th>5</th>\n",
              "      <th>6</th>\n",
              "      <th>accuracy</th>\n",
              "      <th>macro avg</th>\n",
              "      <th>weighted avg</th>\n",
              "    </tr>\n",
              "  </thead>\n",
              "  <tbody>\n",
              "    <tr>\n",
              "      <th>precision</th>\n",
              "      <td>0.895833</td>\n",
              "      <td>0.910156</td>\n",
              "      <td>0.808664</td>\n",
              "      <td>0.929461</td>\n",
              "      <td>0.862903</td>\n",
              "      <td>0.888430</td>\n",
              "      <td>0.934959</td>\n",
              "      <td>0.888571</td>\n",
              "      <td>0.890058</td>\n",
              "      <td>0.890058</td>\n",
              "    </tr>\n",
              "    <tr>\n",
              "      <th>recall</th>\n",
              "      <td>0.860000</td>\n",
              "      <td>0.932000</td>\n",
              "      <td>0.896000</td>\n",
              "      <td>0.896000</td>\n",
              "      <td>0.856000</td>\n",
              "      <td>0.860000</td>\n",
              "      <td>0.920000</td>\n",
              "      <td>0.888571</td>\n",
              "      <td>0.888571</td>\n",
              "      <td>0.888571</td>\n",
              "    </tr>\n",
              "    <tr>\n",
              "      <th>f1-score</th>\n",
              "      <td>0.877551</td>\n",
              "      <td>0.920949</td>\n",
              "      <td>0.850095</td>\n",
              "      <td>0.912424</td>\n",
              "      <td>0.859438</td>\n",
              "      <td>0.873984</td>\n",
              "      <td>0.927419</td>\n",
              "      <td>0.888571</td>\n",
              "      <td>0.888837</td>\n",
              "      <td>0.888837</td>\n",
              "    </tr>\n",
              "    <tr>\n",
              "      <th>support</th>\n",
              "      <td>250.000000</td>\n",
              "      <td>250.000000</td>\n",
              "      <td>250.000000</td>\n",
              "      <td>250.000000</td>\n",
              "      <td>250.000000</td>\n",
              "      <td>250.000000</td>\n",
              "      <td>250.000000</td>\n",
              "      <td>0.888571</td>\n",
              "      <td>1750.000000</td>\n",
              "      <td>1750.000000</td>\n",
              "    </tr>\n",
              "  </tbody>\n",
              "</table>\n",
              "</div>\n",
              "      <button class=\"colab-df-convert\" onclick=\"convertToInteractive('df-8a1f3d36-0445-45cc-ade6-c7df1d6f9667')\"\n",
              "              title=\"Convert this dataframe to an interactive table.\"\n",
              "              style=\"display:none;\">\n",
              "        \n",
              "  <svg xmlns=\"http://www.w3.org/2000/svg\" height=\"24px\"viewBox=\"0 0 24 24\"\n",
              "       width=\"24px\">\n",
              "    <path d=\"M0 0h24v24H0V0z\" fill=\"none\"/>\n",
              "    <path d=\"M18.56 5.44l.94 2.06.94-2.06 2.06-.94-2.06-.94-.94-2.06-.94 2.06-2.06.94zm-11 1L8.5 8.5l.94-2.06 2.06-.94-2.06-.94L8.5 2.5l-.94 2.06-2.06.94zm10 10l.94 2.06.94-2.06 2.06-.94-2.06-.94-.94-2.06-.94 2.06-2.06.94z\"/><path d=\"M17.41 7.96l-1.37-1.37c-.4-.4-.92-.59-1.43-.59-.52 0-1.04.2-1.43.59L10.3 9.45l-7.72 7.72c-.78.78-.78 2.05 0 2.83L4 21.41c.39.39.9.59 1.41.59.51 0 1.02-.2 1.41-.59l7.78-7.78 2.81-2.81c.8-.78.8-2.07 0-2.86zM5.41 20L4 18.59l7.72-7.72 1.47 1.35L5.41 20z\"/>\n",
              "  </svg>\n",
              "      </button>\n",
              "      \n",
              "  <style>\n",
              "    .colab-df-container {\n",
              "      display:flex;\n",
              "      flex-wrap:wrap;\n",
              "      gap: 12px;\n",
              "    }\n",
              "\n",
              "    .colab-df-convert {\n",
              "      background-color: #E8F0FE;\n",
              "      border: none;\n",
              "      border-radius: 50%;\n",
              "      cursor: pointer;\n",
              "      display: none;\n",
              "      fill: #1967D2;\n",
              "      height: 32px;\n",
              "      padding: 0 0 0 0;\n",
              "      width: 32px;\n",
              "    }\n",
              "\n",
              "    .colab-df-convert:hover {\n",
              "      background-color: #E2EBFA;\n",
              "      box-shadow: 0px 1px 2px rgba(60, 64, 67, 0.3), 0px 1px 3px 1px rgba(60, 64, 67, 0.15);\n",
              "      fill: #174EA6;\n",
              "    }\n",
              "\n",
              "    [theme=dark] .colab-df-convert {\n",
              "      background-color: #3B4455;\n",
              "      fill: #D2E3FC;\n",
              "    }\n",
              "\n",
              "    [theme=dark] .colab-df-convert:hover {\n",
              "      background-color: #434B5C;\n",
              "      box-shadow: 0px 1px 3px 1px rgba(0, 0, 0, 0.15);\n",
              "      filter: drop-shadow(0px 1px 2px rgba(0, 0, 0, 0.3));\n",
              "      fill: #FFFFFF;\n",
              "    }\n",
              "  </style>\n",
              "\n",
              "      <script>\n",
              "        const buttonEl =\n",
              "          document.querySelector('#df-8a1f3d36-0445-45cc-ade6-c7df1d6f9667 button.colab-df-convert');\n",
              "        buttonEl.style.display =\n",
              "          google.colab.kernel.accessAllowed ? 'block' : 'none';\n",
              "\n",
              "        async function convertToInteractive(key) {\n",
              "          const element = document.querySelector('#df-8a1f3d36-0445-45cc-ade6-c7df1d6f9667');\n",
              "          const dataTable =\n",
              "            await google.colab.kernel.invokeFunction('convertToInteractive',\n",
              "                                                     [key], {});\n",
              "          if (!dataTable) return;\n",
              "\n",
              "          const docLinkHtml = 'Like what you see? Visit the ' +\n",
              "            '<a target=\"_blank\" href=https://colab.research.google.com/notebooks/data_table.ipynb>data table notebook</a>'\n",
              "            + ' to learn more about interactive tables.';\n",
              "          element.innerHTML = '';\n",
              "          dataTable['output_type'] = 'display_data';\n",
              "          await google.colab.output.renderOutput(dataTable, element);\n",
              "          const docLink = document.createElement('div');\n",
              "          docLink.innerHTML = docLinkHtml;\n",
              "          element.appendChild(docLink);\n",
              "        }\n",
              "      </script>\n",
              "    </div>\n",
              "  </div>\n",
              "  "
            ],
            "text/plain": [
              "                    0           1           2           3           4  \\\n",
              "precision    0.895833    0.910156    0.808664    0.929461    0.862903   \n",
              "recall       0.860000    0.932000    0.896000    0.896000    0.856000   \n",
              "f1-score     0.877551    0.920949    0.850095    0.912424    0.859438   \n",
              "support    250.000000  250.000000  250.000000  250.000000  250.000000   \n",
              "\n",
              "                    5           6  accuracy    macro avg  weighted avg  \n",
              "precision    0.888430    0.934959  0.888571     0.890058      0.890058  \n",
              "recall       0.860000    0.920000  0.888571     0.888571      0.888571  \n",
              "f1-score     0.873984    0.927419  0.888571     0.888837      0.888837  \n",
              "support    250.000000  250.000000  0.888571  1750.000000   1750.000000  "
            ]
          },
          "execution_count": 27,
          "metadata": {},
          "output_type": "execute_result"
        }
      ]
    }
  ]
}