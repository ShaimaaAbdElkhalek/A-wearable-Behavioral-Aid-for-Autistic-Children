{
  "nbformat": 4,
  "nbformat_minor": 0,
  "metadata": {
    "colab": {
      "provenance": [],
      "private_outputs": true
    },
    "kernelspec": {
      "name": "python3",
      "display_name": "Python 3"
    },
    "language_info": {
      "name": "python"
    },
    "accelerator": "GPU",
    "gpuClass": "standard"
  },
  "cells": [
    {
      "cell_type": "code",
      "execution_count": null,
      "metadata": {
        "id": "RwcJ4FaoULYC"
      },
      "outputs": [],
      "source": [
        "!pip install -q kaggle"
      ]
    },
    {
      "cell_type": "code",
      "source": [
        "from google.colab import files\n",
        "files.upload()"
      ],
      "metadata": {
        "id": "21Ia2cJ_UTpq"
      },
      "execution_count": null,
      "outputs": []
    },
    {
      "cell_type": "code",
      "source": [
        "!mkdir ~/.kaggle"
      ],
      "metadata": {
        "id": "g480GMl7UqsD"
      },
      "execution_count": null,
      "outputs": []
    },
    {
      "cell_type": "code",
      "source": [
        "!cp kaggle.json ~/.kaggle/"
      ],
      "metadata": {
        "id": "5pfcKUVeU43q"
      },
      "execution_count": null,
      "outputs": []
    },
    {
      "cell_type": "code",
      "source": [
        "! chmod 600 ~/.kaggle/kaggle.json"
      ],
      "metadata": {
        "id": "2OnlmhVjVGft"
      },
      "execution_count": null,
      "outputs": []
    },
    {
      "cell_type": "code",
      "source": [
        "! kaggle datasets download -d jonathanoheix/face-expression-recognition-dataset"
      ],
      "metadata": {
        "id": "nnrmfJKJVTgH"
      },
      "execution_count": null,
      "outputs": []
    },
    {
      "cell_type": "code",
      "source": [
        "from google.colab import drive\n",
        "drive.mount('/content/drive')"
      ],
      "metadata": {
        "id": "RRogPLsoY16s"
      },
      "execution_count": null,
      "outputs": []
    },
    {
      "cell_type": "code",
      "source": [
        "import numpy as np\n",
        "import seaborn as sns\n",
        "#from keras_preprocessing.image import load_img, img_to_array\n",
        "from tensorflow.keras.preprocessing.image import img_to_array,load_img\n",
        "import matplotlib.pyplot as plt\n",
        "import os"
      ],
      "metadata": {
        "id": "XurK2tXHVxQd"
      },
      "execution_count": null,
      "outputs": []
    },
    {
      "cell_type": "code",
      "source": [
        "from zipfile import ZipFile\n",
        "File_name='/content/drive/MyDrive/2500 Aug.zip'\n",
        "with ZipFile(File_name,'r') as zip:\n",
        "   zip.extractall()\n",
        "   print('done')"
      ],
      "metadata": {
        "id": "DrmURhV8V8Y6"
      },
      "execution_count": null,
      "outputs": []
    },
    {
      "cell_type": "code",
      "source": [
        "pic_size = 48 #48*48 input size "
      ],
      "metadata": {
        "id": "f07b8Rb9ef5m"
      },
      "execution_count": null,
      "outputs": []
    },
    {
      "cell_type": "code",
      "source": [
        "path = \"/content/2500/\"\n",
        "!pip install split-folders\n",
        "import splitfolders \n",
        "splitfolders.ratio(\"/content/2500/\", output=\"/content/new/\", seed=1337, ratio=(.8, .1, .1), group_prefix=None) "
      ],
      "metadata": {
        "id": "VOGxkKF-fFTC"
      },
      "execution_count": null,
      "outputs": []
    },
    {
      "cell_type": "code",
      "source": [
        "train_dir = '/content/new/train/'\n",
        "test_dir = '/content/new/test/'\n",
        "val_dir='/content/new/val/'\n",
        "base_path='/content/new/'\n",
        "row = 48\n",
        "col = 48\n",
        "nb_classes = len(os.listdir('/content/new/train/'))\n",
        "nb_classes"
      ],
      "metadata": {
        "id": "jJW2eV8_S03D"
      },
      "execution_count": null,
      "outputs": []
    },
    {
      "cell_type": "code",
      "source": [
        "plt.figure(0, figsize=(12,20))\n",
        "cpt = 0"
      ],
      "metadata": {
        "id": "RtCtVrxyfIJB"
      },
      "execution_count": null,
      "outputs": []
    },
    {
      "cell_type": "code",
      "source": [
        "for expression in os.listdir(base_path + \"train/\"):\n",
        "    for i in range(1,6):\n",
        "        cpt = cpt + 1\n",
        "        plt.subplot(7,5,cpt)\n",
        "        img = load_img(base_path + \"train/\" + expression + \"/\" +os.listdir(base_path + \"train/\" + expression)[i], target_size=(pic_size, pic_size))\n",
        "        plt.imshow(img, cmap=\"gray\")\n",
        "\n",
        "plt.tight_layout()\n",
        "plt.show()"
      ],
      "metadata": {
        "id": "XXFA9xt_fRrG"
      },
      "execution_count": null,
      "outputs": []
    },
    {
      "cell_type": "code",
      "source": [
        "for expression in os.listdir(base_path + \"train\"):\n",
        "    print(str(len(os.listdir(base_path + \"train/\" + expression))) + \" \" + expression + \" images\")"
      ],
      "metadata": {
        "id": "R3Uzdig2fVlt"
      },
      "execution_count": null,
      "outputs": []
    },
    {
      "cell_type": "code",
      "source": [
        "labels = ['angry','disgust','fear','happy','neutral','sad','surprise']"
      ],
      "metadata": {
        "id": "ft0n3z9XNIBD"
      },
      "execution_count": null,
      "outputs": []
    },
    {
      "cell_type": "code",
      "source": [
        "\n",
        "sum = 0\n",
        "for val in labels:\n",
        "    count = len(os.listdir(base_path + \"train/\" + val))\n",
        "    sum = sum + count\n",
        "    print(val,count)\n",
        "    plt.bar(val,count)\n",
        "    plt.xlabel('Emotions')\n",
        "    plt.ylabel('Number of Images')\n",
        "    plt.title('Distribution of images of training dataset')\n",
        "train_size = sum  "
      ],
      "metadata": {
        "id": "Kh2aqsDVNM8j"
      },
      "execution_count": null,
      "outputs": []
    },
    {
      "cell_type": "code",
      "source": [
        "from keras.preprocessing.image import ImageDataGenerator #agumentation of pototo ,rotate , shift, brightness, prescale for normalization [0,1]range ,....\n"
      ],
      "metadata": {
        "id": "vgJRSkf_fg1E"
      },
      "execution_count": null,
      "outputs": []
    },
    {
      "cell_type": "code",
      "source": [
        "batch_size = 128"
      ],
      "metadata": {
        "id": "MsD_kCaEfnco"
      },
      "execution_count": null,
      "outputs": []
    },
    {
      "cell_type": "code",
      "source": [
        "#make agumentation for train and validation data \n",
        "datagen_train = ImageDataGenerator()\n",
        "datagen_validation = ImageDataGenerator()\n",
        "datagen_test=ImageDataGenerator()"
      ],
      "metadata": {
        "id": "Ptk8GJ4VfqNJ"
      },
      "execution_count": null,
      "outputs": []
    },
    {
      "cell_type": "code",
      "source": [
        "train_generator = datagen_train.flow_from_directory(base_path + \"train\",target_size=(pic_size,pic_size),color_mode=\"grayscale\"\n",
        ",batch_size=batch_size,class_mode='categorical',shuffle=True)\n",
        "#train.flow: path, target_size :reshape all photos to the same size (48*48), color_mode:grayscale white and black ,batch_size=128\n",
        "#class_mode=more than 2 classes make one hotencoding, shuffle=random the data not sequential \n",
        "validation_generator = datagen_validation.flow_from_directory(base_path + \"val\",target_size=(pic_size,pic_size),color_mode=\"grayscale\"\n",
        ",batch_size=batch_size,class_mode='categorical',shuffle=False)\n",
        "#same for validation data \n",
        "test_generator = datagen_test.flow_from_directory(base_path + \"test\",target_size=(pic_size,pic_size),color_mode=\"grayscale\"\n",
        ",batch_size=batch_size,class_mode='categorical',shuffle=False)"
      ],
      "metadata": {
        "id": "DSpQub-Ufr54"
      },
      "execution_count": null,
      "outputs": []
    },
    {
      "cell_type": "code",
      "source": [
        "x_train, y_train = train_generator.next()\n",
        "print(x_train.shape, y_train.shape)#check the reshape of the photos"
      ],
      "metadata": {
        "id": "7QDbh0PDpTtY"
      },
      "execution_count": null,
      "outputs": []
    },
    {
      "cell_type": "code",
      "source": [
        "from keras.layers import Dense, Input, Dropout, GlobalAveragePooling2D, Flatten, Conv2D, BatchNormalization, Activation, MaxPooling2D\n",
        "from keras.models import Model, Sequential\n",
        "from keras.optimizers import Adam #optimizer as gradient descent take steps to minimium error"
      ],
      "metadata": {
        "id": "oNfW6OH3fwU0"
      },
      "execution_count": null,
      "outputs": []
    },
    {
      "cell_type": "code",
      "source": [
        "nb_classes = 7#outputs 7 experssions "
      ],
      "metadata": {
        "id": "WHYf0WZ9f9K5"
      },
      "execution_count": null,
      "outputs": []
    },
    {
      "cell_type": "code",
      "source": [
        "# Initialising the CNN\n",
        "model = Sequential()"
      ],
      "metadata": {
        "id": "qP6cLW4Hf_IK"
      },
      "execution_count": null,
      "outputs": []
    },
    {
      "cell_type": "code",
      "source": [
        "#padding filter used 4 filters # 1 - Convolution\n",
        "model.add(Conv2D(64,(3,3), padding='same', input_shape=(48, 48,1)))# 64 filter its size 3*3 ,shape of the image 48*48 ,1 for white and black colors ,padding os applied\n",
        "model.add(BatchNormalization())\n",
        "model.add(Activation('relu'))# activation layer using relu activation function\n",
        "model.add(MaxPooling2D(pool_size=(2, 2)))#Max pooling is then used to reduce the spatial dimensions of the output volume. reduce size of photo to half\n",
        "model.add(Dropout(0.25))#25% dropout of nodes randomly"
      ],
      "metadata": {
        "id": "xacOb5c4gAsS"
      },
      "execution_count": null,
      "outputs": []
    },
    {
      "cell_type": "code",
      "source": [
        "#2 - Convolution\n",
        "model.add(Conv2D(128,(5,5), padding='same'))\n",
        "model.add(BatchNormalization())\n",
        "model.add(Activation('relu'))\n",
        "model.add(MaxPooling2D(pool_size=(2, 2)))\n",
        "model.add(Dropout(0.25))"
      ],
      "metadata": {
        "id": "0HWDq4qzgC_1"
      },
      "execution_count": null,
      "outputs": []
    },
    {
      "cell_type": "code",
      "source": [
        "# 3 - Convolution\n",
        "model.add(Conv2D(512,(3,3), padding='same'))\n",
        "model.add(BatchNormalization())\n",
        "model.add(Activation('relu'))\n",
        "model.add(MaxPooling2D(pool_size=(2, 2)))\n",
        "model.add(Dropout(0.25))"
      ],
      "metadata": {
        "id": "E9MXxJzFgE1Q"
      },
      "execution_count": null,
      "outputs": []
    },
    {
      "cell_type": "code",
      "source": [
        "# 4 - Convolution\n",
        "model.add(Conv2D(512,(3,3), padding='same'))\n",
        "model.add(BatchNormalization())\n",
        "model.add(Activation('relu'))\n",
        "model.add(MaxPooling2D(pool_size=(2, 2)))\n",
        "model.add(Dropout(0.25))"
      ],
      "metadata": {
        "id": "CVZ3rM4YgGlC"
      },
      "execution_count": null,
      "outputs": []
    },
    {
      "cell_type": "code",
      "source": [
        "model.add(Flatten())#convert fron 2D to 1D\n"
      ],
      "metadata": {
        "id": "V_y4n3WcgIrc"
      },
      "execution_count": null,
      "outputs": []
    },
    {
      "cell_type": "code",
      "source": [
        "#first hidden layer \n",
        "model.add(Dense(256))#256 node in the first hidden layer\n",
        "model.add(BatchNormalization())\n",
        "model.add(Activation('relu'))#activation layer in the \n",
        "model.add(Dropout(0.25))# dropout 25% of nodes randomly form first layer"
      ],
      "metadata": {
        "id": "ND8hCkAZgKLz"
      },
      "execution_count": null,
      "outputs": []
    },
    {
      "cell_type": "code",
      "source": [
        "#second hidden layer\n",
        "model.add(Dense(512))#512 node for 2nd layer\n",
        "model.add(BatchNormalization())\n",
        "model.add(Activation('relu'))\n",
        "model.add(Dropout(0.25))"
      ],
      "metadata": {
        "id": "jPfCouacgM_g"
      },
      "execution_count": null,
      "outputs": []
    },
    {
      "cell_type": "code",
      "source": [
        "model.summary()#depth increase and size of photos decreases"
      ],
      "metadata": {
        "id": "3WtaiVigcc6d"
      },
      "execution_count": null,
      "outputs": []
    },
    {
      "cell_type": "code",
      "source": [
        "#output layer\n",
        "model.add(Dense(nb_classes, activation='softmax'))#activation function softmax\n",
        "\n",
        "opt = Adam(lr=0.0001)#optimizer lr: learning rate \n",
        "model.compile(optimizer=opt, loss='categorical_crossentropy', metrics=['accuracy'])#catagorical because of 7 classes not (2 classes /binary) "
      ],
      "metadata": {
        "id": "q7BFUXz_gOpH"
      },
      "execution_count": null,
      "outputs": []
    },
    {
      "cell_type": "code",
      "source": [
        "%%time\n",
        "\n",
        "# number of epochs to train the NN\n",
        "epochs = 50 #50 train step\n",
        "#the differnce between two early stopping\n",
        "'''\n",
        "from keras.callbacks import ReduceLROnPlateau, EarlyStopping\n",
        "\n",
        "learn = ReduceLROnPlateau(monitor='val_loss',\n",
        "                          patience=2,\n",
        "                          verbose=1,\n",
        "                          factor=0.2,\n",
        "                          min_lr=0.00001)\n",
        "\n",
        "early = EarlyStopping(monitor=\"val_loss\",patience=3)\n",
        "'''\n",
        "#early stopping \n",
        "from keras.callbacks import ModelCheckpoint\n",
        "\n",
        "checkpoint = ModelCheckpoint(\"model_weights.h5\", monitor='val_acc', verbose=1, save_best_only=True, mode='max')#mode it will be reduced when the quantity monitored has stopped increasing\n",
        "callbacks_list = [checkpoint]\n",
        "\n"
      ],
      "metadata": {
        "id": "tQ_8_v3IgTIl"
      },
      "execution_count": null,
      "outputs": []
    },
    {
      "cell_type": "code",
      "source": [
        "history = model.fit_generator(generator=train_generator,\n",
        "                                steps_per_epoch=train_generator.n//train_generator.batch_size,\n",
        "                                epochs=epochs,\n",
        "                                validation_data = validation_generator,\n",
        "                                validation_steps = validation_generator.n//validation_generator.batch_size,\n",
        "                                callbacks=callbacks_list\n",
        "                                )\n",
        "#fit model to train data and validation by taking 128 batches (batch_size) \n",
        "#calculate acc and acc.loss, validation,valid.loss "
      ],
      "metadata": {
        "id": "MYw_Bp68pCvS"
      },
      "execution_count": null,
      "outputs": []
    },
    {
      "cell_type": "code",
      "source": [
        "model_json = model.to_json()\n",
        "with open(\"model.json\", \"w\") as json_file:\n",
        "    json_file.write(model_json)"
      ],
      "metadata": {
        "id": "QWpkP0uioAEY"
      },
      "execution_count": null,
      "outputs": []
    },
    {
      "cell_type": "code",
      "source": [
        "loss, accuracy = model.evaluate(test_generator)"
      ],
      "metadata": {
        "id": "SL4z23o_lah6"
      },
      "execution_count": null,
      "outputs": []
    },
    {
      "cell_type": "code",
      "source": [
        "import matplotlib.pyplot as plt\n",
        "\n",
        "plt.figure(figsize=(20,10))\n",
        "plt.subplot(1, 2, 1)\n",
        "plt.suptitle('Optimizer : Adam', fontsize=10)\n",
        "plt.ylabel('Loss', fontsize=16)\n",
        "plt.plot(history.history['loss'], label='Training Loss')\n",
        "plt.plot(history.history['val_loss'], label='Validation Loss')\n",
        "plt.legend(loc='upper right')\n",
        "\n",
        "plt.subplot(1, 2, 2)\n",
        "plt.ylabel('Accuracy', fontsize=16)\n",
        "plt.plot(history.history['accuracy'], label='Training Accuracy')\n",
        "plt.plot(history.history['val_accuracy'], label='Validation Accuracy')\n",
        "plt.legend(loc='lower right')\n",
        "plt.show()"
      ],
      "metadata": {
        "id": "1iHGuDhrgdMg"
      },
      "execution_count": null,
      "outputs": []
    },
    {
      "cell_type": "code",
      "source": [
        "predictions = model.predict_generator(generator=test_generator)\n",
        "y_pred = [np.argmax(probas) for probas in predictions]\n",
        "y_test = test_generator.classes\n",
        "class_names = test_generator.class_indices.keys()\n",
        "\n",
        "from sklearn.metrics import confusion_matrix\n",
        "import itertools\n",
        "\n",
        "def plot_confusion_matrix(cm, classes, title='Confusion matrix', cmap=plt.cm.Blues):\n",
        "    cm = cm.astype('float') / cm.sum(axis=1)[:, np.newaxis]\n",
        "    plt.figure(figsize=(10,10))\n",
        "    plt.imshow(cm, interpolation='nearest', cmap=cmap)\n",
        "    plt.title(title)\n",
        "    plt.colorbar()\n",
        "    tick_marks = np.arange(len(classes))\n",
        "    plt.xticks(tick_marks, classes, rotation=45) \n",
        "    plt.yticks(tick_marks, classes)\n",
        "\n",
        "    fmt = '.2f'\n",
        "    thresh = cm.max() / 2.\n",
        "    for i, j in itertools.product(range(cm.shape[0]), range(cm.shape[1])):\n",
        "        plt.text(j, i, format(cm[i, j], fmt),\n",
        "                 horizontalalignment=\"center\",\n",
        "                 color=\"white\" if cm[i, j] > thresh else \"black\")\n",
        "\n",
        "    plt.ylabel('True label')\n",
        "    plt.xlabel('Predicted label')\n",
        "    plt.tight_layout()\n",
        "    \n",
        "# compute confusion matrix\n",
        "cnf_matrix = confusion_matrix(y_test, y_pred)\n",
        "np.set_printoptions(precision=2)\n",
        "\n",
        "# plot normalized confusion matrix\n",
        "plt.figure()\n",
        "plot_confusion_matrix(cnf_matrix, classes=class_names, title='Normalized confusion matrix')\n",
        "plt.show()"
      ],
      "metadata": {
        "id": "vT_8dmh1guwh"
      },
      "execution_count": null,
      "outputs": []
    },
    {
      "cell_type": "code",
      "source": [
        "objects = ('angry', 'disgust', 'fear', 'happy', 'sad', 'surprise', 'neutral')\n",
        "y_pos = np.arange(len(objects))\n",
        "print(y_pos)"
      ],
      "metadata": {
        "id": "rqMafGA2Nsde"
      },
      "execution_count": null,
      "outputs": []
    },
    {
      "cell_type": "code",
      "source": [
        "def emotion_analysis(emotions):\n",
        "    objects = ['angry', 'disgust', 'fear', 'happy', 'sad', 'surprise', 'neutral']\n",
        "    y_pos = np.arange(len(objects))\n",
        "    plt.bar(y_pos, emotions, align='center', alpha=0.9)\n",
        "    plt.tick_params(axis='x', which='both', pad=10,width=4,length=10)\n",
        "    plt.xticks(y_pos, objects)\n",
        "    plt.ylabel('percentage')\n",
        "    plt.title('emotion')\n",
        "plt.show()"
      ],
      "metadata": {
        "id": "P4aKJUhBNvxr"
      },
      "execution_count": null,
      "outputs": []
    },
    {
      "cell_type": "code",
      "source": [
        "import pandas as pd\n",
        "from sklearn.metrics import classification_report\n",
        "\n",
        "report_dict = classification_report(y_test, y_pred, output_dict=True)\n",
        "pd.DataFrame(report_dict)"
      ],
      "metadata": {
        "id": "XSWGkzXKYrYh"
      },
      "execution_count": null,
      "outputs": []
    },
    {
      "cell_type": "code",
      "source": [
        "from skimage import io\n",
        "import keras.utils as image\n",
        "img = image.load_img('/content/new/test/happy/Training_92192542_modified_11.jpg', grayscale=True, target_size=(48, 48))\n",
        "show_img=image.load_img('/content/new/test/happy/Training_92192542_modified_11.jpg', grayscale=False, target_size=(200, 200))\n",
        "x = image.img_to_array(img)\n",
        "x = np.expand_dims(x, axis = 0)\n",
        "\n",
        "x /= 255\n",
        "\n",
        "custom = model.predict(x)\n",
        "#print(custom[0])\n",
        "emotion_analysis(custom[0])\n",
        "\n",
        "x = np.array(x, 'float32')\n",
        "x = x.reshape([48, 48]);\n",
        "\n",
        "plt.gray()\n",
        "plt.imshow(show_img)\n",
        "plt.show()\n",
        "\n",
        "m=0.000000000000000000001\n",
        "a=custom[0]\n",
        "for i in range(0,len(a)):\n",
        "    if a[i]>m:\n",
        "        m=a[i]\n",
        "        ind=i\n",
        "        \n",
        "print('Expression Prediction:',objects[ind])"
      ],
      "metadata": {
        "id": "9ihzvhdnNwYb"
      },
      "execution_count": null,
      "outputs": []
    },
    {
      "cell_type": "code",
      "source": [],
      "metadata": {
        "id": "Fk1edtYydvf4"
      },
      "execution_count": null,
      "outputs": []
    }
  ]
}